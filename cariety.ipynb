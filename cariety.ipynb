{
  "nbformat": 4,
  "nbformat_minor": 0,
  "metadata": {
    "colab": {
      "provenance": [],
      "authorship_tag": "ABX9TyMd4tJWbAVZ6AvQV0KagdAT",
      "include_colab_link": true
    },
    "kernelspec": {
      "name": "python3",
      "display_name": "Python 3"
    },
    "language_info": {
      "name": "python"
    }
  },
  "cells": [
    {
      "cell_type": "markdown",
      "metadata": {
        "id": "view-in-github",
        "colab_type": "text"
      },
      "source": [
        "<a href=\"https://colab.research.google.com/github/GPaz027/Cariety-ML/blob/develop/cariety.ipynb\" target=\"_parent\"><img src=\"https://colab.research.google.com/assets/colab-badge.svg\" alt=\"Open In Colab\"/></a>"
      ]
    },
    {
      "cell_type": "markdown",
      "source": [
        "# Cariety\n",
        "\n",
        "Este notebook crea un clasificador de imágenes para alimentos utilizando TensorFlow y TensorFlow Hub.\n",
        "\n",
        "## 1. Problema\n",
        "\n",
        "* Detectar si la imagen de un alimento se encuentra en especificación o no (es consumible o no).\n"
      ],
      "metadata": {
        "id": "LdXYmMbQK3eW"
      }
    },
    {
      "cell_type": "code",
      "source": [
        "import tensorflow as tf\n",
        "import tensorflow_hub as hub\n",
        "import pandas as pd\n",
        "import numpy as np"
      ],
      "metadata": {
        "id": "RR47JJz3LXV-"
      },
      "execution_count": 1,
      "outputs": []
    },
    {
      "cell_type": "markdown",
      "source": [
        "# 1. Preparación de los datos\n",
        "\n",
        "* En esta etapa se convertirán las imágenes a arreglos de NumPy para permitir su preprocesamiento."
      ],
      "metadata": {
        "id": "u8k0kU5rMf4H"
      }
    },
    {
      "cell_type": "code",
      "source": [],
      "metadata": {
        "id": "-5Uf1VnSMpvu"
      },
      "execution_count": null,
      "outputs": []
    }
  ]
}