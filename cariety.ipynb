{
  "nbformat": 4,
  "nbformat_minor": 0,
  "metadata": {
    "colab": {
      "provenance": [],
      "authorship_tag": "ABX9TyNJxiEsS3oi//OYIvnCZ+9H",
      "include_colab_link": true
    },
    "kernelspec": {
      "name": "python3",
      "display_name": "Python 3"
    },
    "language_info": {
      "name": "python"
    }
  },
  "cells": [
    {
      "cell_type": "markdown",
      "metadata": {
        "id": "view-in-github",
        "colab_type": "text"
      },
      "source": [
        "<a href=\"https://colab.research.google.com/github/GPaz027/Cariety-ML/blob/develop/cariety.ipynb\" target=\"_parent\"><img src=\"https://colab.research.google.com/assets/colab-badge.svg\" alt=\"Open In Colab\"/></a>"
      ]
    },
    {
      "cell_type": "markdown",
      "source": [
        "# Cariety\n",
        "\n",
        "Este notebook crea un clasificador de imágenes para alimentos utilizando TensorFlow y TensorFlow Hub.\n",
        "\n",
        "## 1. Problema\n",
        "\n",
        "* Detectar si la imagen de un alimento se encuentra en especificación o no (es consumible o no).\n"
      ],
      "metadata": {
        "id": "LdXYmMbQK3eW"
      }
    },
    {
      "cell_type": "code",
      "source": [],
      "metadata": {
        "id": "RR47JJz3LXV-"
      },
      "execution_count": null,
      "outputs": []
    }
  ]
}