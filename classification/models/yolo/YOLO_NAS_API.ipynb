{
  "nbformat": 4,
  "nbformat_minor": 0,
  "metadata": {
    "colab": {
      "provenance": [],
      "collapsed_sections": [
        "ZsFjKmvfwzjR",
        "VtkEZs4BRzay",
        "Pu22GlgQR4xJ"
      ],
      "gpuType": "T4",
      "authorship_tag": "ABX9TyPx8MUGmsG2xm0RjkFd/l/6",
      "include_colab_link": true
    },
    "kernelspec": {
      "name": "python3",
      "display_name": "Python 3"
    },
    "language_info": {
      "name": "python"
    },
    "accelerator": "GPU"
  },
  "cells": [
    {
      "cell_type": "markdown",
      "metadata": {
        "id": "view-in-github",
        "colab_type": "text"
      },
      "source": [
        "<a href=\"https://colab.research.google.com/github/GPaz027/Cariety-ML/blob/develop/models/yolo/YOLO_NAS_API.ipynb\" target=\"_parent\"><img src=\"https://colab.research.google.com/assets/colab-badge.svg\" alt=\"Open In Colab\"/></a>"
      ]
    },
    {
      "cell_type": "markdown",
      "source": [
        "# YOLO NAS CARIETY - Utilizacion\n",
        "## Carga y utilizacion del modelo ya entrenado"
      ],
      "metadata": {
        "id": "h_6AklemRGsT"
      }
    },
    {
      "cell_type": "markdown",
      "source": [
        "## Montar Drive"
      ],
      "metadata": {
        "id": "Oh75UeP1RVB0"
      }
    },
    {
      "cell_type": "code",
      "execution_count": 1,
      "metadata": {
        "colab": {
          "base_uri": "https://localhost:8080/"
        },
        "id": "NcCY4c8nBNe4",
        "outputId": "dca35112-c3cd-42ff-eb44-1b357f3192b2"
      },
      "outputs": [
        {
          "output_type": "stream",
          "name": "stdout",
          "text": [
            "Mounted at /content/drive\n"
          ]
        }
      ],
      "source": [
        "from google.colab import drive\n",
        "drive.mount('/content/drive')"
      ]
    },
    {
      "cell_type": "markdown",
      "source": [
        "## Instalar super-gradients - Suele tener problemas en local"
      ],
      "metadata": {
        "id": "zp21_PstRZp5"
      }
    },
    {
      "cell_type": "code",
      "execution_count": 2,
      "metadata": {
        "id": "TfmbhKaGYydI",
        "colab": {
          "base_uri": "https://localhost:8080/",
          "height": 1000
        },
        "outputId": "d3b0394e-9400-45f4-ffe4-d5e699e8c6c9"
      },
      "outputs": [
        {
          "output_type": "stream",
          "name": "stdout",
          "text": [
            "Collecting super-gradients\n",
            "  Downloading super_gradients-3.2.0-py3-none-any.whl (6.4 MB)\n",
            "\u001b[2K     \u001b[90m━━━━━━━━━━━━━━━━━━━━━━━━━━━━━━━━━━━━━━━━\u001b[0m \u001b[32m6.4/6.4 MB\u001b[0m \u001b[31m10.9 MB/s\u001b[0m eta \u001b[36m0:00:00\u001b[0m\n",
            "\u001b[?25hRequirement already satisfied: torch>=1.9.0 in /usr/local/lib/python3.10/dist-packages (from super-gradients) (2.0.1+cu118)\n",
            "Requirement already satisfied: tqdm>=4.57.0 in /usr/local/lib/python3.10/dist-packages (from super-gradients) (4.66.1)\n",
            "Collecting boto3>=1.17.15 (from super-gradients)\n",
            "  Downloading boto3-1.28.26-py3-none-any.whl (135 kB)\n",
            "\u001b[2K     \u001b[90m━━━━━━━━━━━━━━━━━━━━━━━━━━━━━━━━━━━━━━\u001b[0m \u001b[32m135.8/135.8 kB\u001b[0m \u001b[31m10.3 MB/s\u001b[0m eta \u001b[36m0:00:00\u001b[0m\n",
            "\u001b[?25hRequirement already satisfied: jsonschema>=3.2.0 in /usr/local/lib/python3.10/dist-packages (from super-gradients) (4.19.0)\n",
            "Collecting Deprecated>=1.2.11 (from super-gradients)\n",
            "  Downloading Deprecated-1.2.14-py2.py3-none-any.whl (9.6 kB)\n",
            "Requirement already satisfied: opencv-python>=4.5.1 in /usr/local/lib/python3.10/dist-packages (from super-gradients) (4.8.0.76)\n",
            "Requirement already satisfied: scipy>=1.6.1 in /usr/local/lib/python3.10/dist-packages (from super-gradients) (1.10.1)\n",
            "Requirement already satisfied: matplotlib>=3.3.4 in /usr/local/lib/python3.10/dist-packages (from super-gradients) (3.7.1)\n",
            "Requirement already satisfied: psutil>=5.8.0 in /usr/local/lib/python3.10/dist-packages (from super-gradients) (5.9.5)\n",
            "Requirement already satisfied: tensorboard>=2.4.1 in /usr/local/lib/python3.10/dist-packages (from super-gradients) (2.12.3)\n",
            "Requirement already satisfied: setuptools>=21.0.0 in /usr/local/lib/python3.10/dist-packages (from super-gradients) (67.7.2)\n",
            "Collecting coverage~=5.3.1 (from super-gradients)\n",
            "  Downloading coverage-5.3.1.tar.gz (684 kB)\n",
            "\u001b[2K     \u001b[90m━━━━━━━━━━━━━━━━━━━━━━━━━━━━━━━━━━━━━━\u001b[0m \u001b[32m684.5/684.5 kB\u001b[0m \u001b[31m14.1 MB/s\u001b[0m eta \u001b[36m0:00:00\u001b[0m\n",
            "\u001b[?25h  Preparing metadata (setup.py) ... \u001b[?25l\u001b[?25hdone\n",
            "Requirement already satisfied: torchvision>=0.10.0 in /usr/local/lib/python3.10/dist-packages (from super-gradients) (0.15.2+cu118)\n",
            "Collecting sphinx~=4.0.2 (from super-gradients)\n",
            "  Downloading Sphinx-4.0.3-py3-none-any.whl (2.9 MB)\n",
            "\u001b[2K     \u001b[90m━━━━━━━━━━━━━━━━━━━━━━━━━━━━━━━━━━━━━━━━\u001b[0m \u001b[32m2.9/2.9 MB\u001b[0m \u001b[31m16.3 MB/s\u001b[0m eta \u001b[36m0:00:00\u001b[0m\n",
            "\u001b[?25hCollecting sphinx-rtd-theme (from super-gradients)\n",
            "  Downloading sphinx_rtd_theme-1.2.2-py2.py3-none-any.whl (2.8 MB)\n",
            "\u001b[2K     \u001b[90m━━━━━━━━━━━━━━━━━━━━━━━━━━━━━━━━━━━━━━━━\u001b[0m \u001b[32m2.8/2.8 MB\u001b[0m \u001b[31m14.0 MB/s\u001b[0m eta \u001b[36m0:00:00\u001b[0m\n",
            "\u001b[?25hCollecting torchmetrics==0.8 (from super-gradients)\n",
            "  Downloading torchmetrics-0.8.0-py3-none-any.whl (408 kB)\n",
            "\u001b[2K     \u001b[90m━━━━━━━━━━━━━━━━━━━━━━━━━━━━━━━━━━━━━━\u001b[0m \u001b[32m408.6/408.6 kB\u001b[0m \u001b[31m15.9 MB/s\u001b[0m eta \u001b[36m0:00:00\u001b[0m\n",
            "\u001b[?25hCollecting hydra-core>=1.2.0 (from super-gradients)\n",
            "  Downloading hydra_core-1.3.2-py3-none-any.whl (154 kB)\n",
            "\u001b[2K     \u001b[90m━━━━━━━━━━━━━━━━━━━━━━━━━━━━━━━━━━━━━━\u001b[0m \u001b[32m154.5/154.5 kB\u001b[0m \u001b[31m14.4 MB/s\u001b[0m eta \u001b[36m0:00:00\u001b[0m\n",
            "\u001b[?25hCollecting omegaconf (from super-gradients)\n",
            "  Downloading omegaconf-2.3.0-py3-none-any.whl (79 kB)\n",
            "\u001b[2K     \u001b[90m━━━━━━━━━━━━━━━━━━━━━━━━━━━━━━━━━━━━━━━━\u001b[0m \u001b[32m79.5/79.5 kB\u001b[0m \u001b[31m11.5 MB/s\u001b[0m eta \u001b[36m0:00:00\u001b[0m\n",
            "\u001b[?25hCollecting onnxruntime==1.13.1 (from super-gradients)\n",
            "  Downloading onnxruntime-1.13.1-cp310-cp310-manylinux_2_27_x86_64.whl (4.5 MB)\n",
            "\u001b[2K     \u001b[90m━━━━━━━━━━━━━━━━━━━━━━━━━━━━━━━━━━━━━━━━\u001b[0m \u001b[32m4.5/4.5 MB\u001b[0m \u001b[31m20.7 MB/s\u001b[0m eta \u001b[36m0:00:00\u001b[0m\n",
            "\u001b[?25hCollecting onnx==1.13.0 (from super-gradients)\n",
            "  Downloading onnx-1.13.0-cp310-cp310-manylinux_2_17_x86_64.manylinux2014_x86_64.whl (13.5 MB)\n",
            "\u001b[2K     \u001b[90m━━━━━━━━━━━━━━━━━━━━━━━━━━━━━━━━━━━━━━━━\u001b[0m \u001b[32m13.5/13.5 MB\u001b[0m \u001b[31m24.5 MB/s\u001b[0m eta \u001b[36m0:00:00\u001b[0m\n",
            "\u001b[?25hRequirement already satisfied: pillow!=8.3,>=5.3.0 in /usr/local/lib/python3.10/dist-packages (from super-gradients) (9.4.0)\n",
            "Requirement already satisfied: pip-tools>=6.12.1 in /usr/local/lib/python3.10/dist-packages (from super-gradients) (6.13.0)\n",
            "Collecting pyparsing==2.4.5 (from super-gradients)\n",
            "  Downloading pyparsing-2.4.5-py2.py3-none-any.whl (67 kB)\n",
            "\u001b[2K     \u001b[90m━━━━━━━━━━━━━━━━━━━━━━━━━━━━━━━━━━━━━━━━\u001b[0m \u001b[32m68.0/68.0 kB\u001b[0m \u001b[31m9.6 MB/s\u001b[0m eta \u001b[36m0:00:00\u001b[0m\n",
            "\u001b[?25hCollecting einops==0.3.2 (from super-gradients)\n",
            "  Downloading einops-0.3.2-py3-none-any.whl (25 kB)\n",
            "Requirement already satisfied: pycocotools==2.0.6 in /usr/local/lib/python3.10/dist-packages (from super-gradients) (2.0.6)\n",
            "Requirement already satisfied: protobuf==3.20.3 in /usr/local/lib/python3.10/dist-packages (from super-gradients) (3.20.3)\n",
            "Collecting treelib==1.6.1 (from super-gradients)\n",
            "  Downloading treelib-1.6.1.tar.gz (24 kB)\n",
            "  Preparing metadata (setup.py) ... \u001b[?25l\u001b[?25hdone\n",
            "Collecting termcolor==1.1.0 (from super-gradients)\n",
            "  Downloading termcolor-1.1.0.tar.gz (3.9 kB)\n",
            "  Preparing metadata (setup.py) ... \u001b[?25l\u001b[?25hdone\n",
            "Requirement already satisfied: packaging>=20.4 in /usr/local/lib/python3.10/dist-packages (from super-gradients) (23.1)\n",
            "Requirement already satisfied: wheel>=0.38.0 in /usr/local/lib/python3.10/dist-packages (from super-gradients) (0.41.1)\n",
            "Requirement already satisfied: pygments>=2.7.4 in /usr/local/lib/python3.10/dist-packages (from super-gradients) (2.16.1)\n",
            "Collecting stringcase>=1.2.0 (from super-gradients)\n",
            "  Downloading stringcase-1.2.0.tar.gz (3.0 kB)\n",
            "  Preparing metadata (setup.py) ... \u001b[?25l\u001b[?25hdone\n",
            "Collecting numpy<=1.23 (from super-gradients)\n",
            "  Downloading numpy-1.23.0-cp310-cp310-manylinux_2_17_x86_64.manylinux2014_x86_64.whl (17.0 MB)\n",
            "\u001b[2K     \u001b[90m━━━━━━━━━━━━━━━━━━━━━━━━━━━━━━━━━━━━━━━━\u001b[0m \u001b[32m17.0/17.0 MB\u001b[0m \u001b[31m19.2 MB/s\u001b[0m eta \u001b[36m0:00:00\u001b[0m\n",
            "\u001b[?25hCollecting rapidfuzz (from super-gradients)\n",
            "  Downloading rapidfuzz-3.2.0-cp310-cp310-manylinux_2_17_x86_64.manylinux2014_x86_64.whl (3.1 MB)\n",
            "\u001b[2K     \u001b[90m━━━━━━━━━━━━━━━━━━━━━━━━━━━━━━━━━━━━━━━━\u001b[0m \u001b[32m3.1/3.1 MB\u001b[0m \u001b[31m31.5 MB/s\u001b[0m eta \u001b[36m0:00:00\u001b[0m\n",
            "\u001b[?25hCollecting json-tricks==3.16.1 (from super-gradients)\n",
            "  Downloading json_tricks-3.16.1-py2.py3-none-any.whl (27 kB)\n",
            "Collecting onnx-simplifier<1.0,>=0.3.6 (from super-gradients)\n",
            "  Downloading onnx_simplifier-0.4.33-cp310-cp310-manylinux_2_17_x86_64.manylinux2014_x86_64.whl (2.2 MB)\n",
            "\u001b[2K     \u001b[90m━━━━━━━━━━━━━━━━━━━━━━━━━━━━━━━━━━━━━━━━\u001b[0m \u001b[32m2.2/2.2 MB\u001b[0m \u001b[31m28.8 MB/s\u001b[0m eta \u001b[36m0:00:00\u001b[0m\n",
            "\u001b[?25hRequirement already satisfied: typing-extensions>=3.6.2.1 in /usr/local/lib/python3.10/dist-packages (from onnx==1.13.0->super-gradients) (4.7.1)\n",
            "Collecting coloredlogs (from onnxruntime==1.13.1->super-gradients)\n",
            "  Downloading coloredlogs-15.0.1-py2.py3-none-any.whl (46 kB)\n",
            "\u001b[2K     \u001b[90m━━━━━━━━━━━━━━━━━━━━━━━━━━━━━━━━━━━━━━━━\u001b[0m \u001b[32m46.0/46.0 kB\u001b[0m \u001b[31m5.8 MB/s\u001b[0m eta \u001b[36m0:00:00\u001b[0m\n",
            "\u001b[?25hRequirement already satisfied: flatbuffers in /usr/local/lib/python3.10/dist-packages (from onnxruntime==1.13.1->super-gradients) (23.5.26)\n",
            "Requirement already satisfied: sympy in /usr/local/lib/python3.10/dist-packages (from onnxruntime==1.13.1->super-gradients) (1.12)\n",
            "Collecting pyDeprecate==0.3.* (from torchmetrics==0.8->super-gradients)\n",
            "  Downloading pyDeprecate-0.3.2-py3-none-any.whl (10 kB)\n",
            "Requirement already satisfied: future in /usr/local/lib/python3.10/dist-packages (from treelib==1.6.1->super-gradients) (0.18.3)\n",
            "Collecting botocore<1.32.0,>=1.31.26 (from boto3>=1.17.15->super-gradients)\n",
            "  Downloading botocore-1.31.26-py3-none-any.whl (11.1 MB)\n",
            "\u001b[2K     \u001b[90m━━━━━━━━━━━━━━━━━━━━━━━━━━━━━━━━━━━━━━━━\u001b[0m \u001b[32m11.1/11.1 MB\u001b[0m \u001b[31m32.5 MB/s\u001b[0m eta \u001b[36m0:00:00\u001b[0m\n",
            "\u001b[?25hCollecting jmespath<2.0.0,>=0.7.1 (from boto3>=1.17.15->super-gradients)\n",
            "  Downloading jmespath-1.0.1-py3-none-any.whl (20 kB)\n",
            "Collecting s3transfer<0.7.0,>=0.6.0 (from boto3>=1.17.15->super-gradients)\n",
            "  Downloading s3transfer-0.6.1-py3-none-any.whl (79 kB)\n",
            "\u001b[2K     \u001b[90m━━━━━━━━━━━━━━━━━━━━━━━━━━━━━━━━━━━━━━━━\u001b[0m \u001b[32m79.8/79.8 kB\u001b[0m \u001b[31m10.5 MB/s\u001b[0m eta \u001b[36m0:00:00\u001b[0m\n",
            "\u001b[?25hRequirement already satisfied: wrapt<2,>=1.10 in /usr/local/lib/python3.10/dist-packages (from Deprecated>=1.2.11->super-gradients) (1.14.1)\n",
            "Collecting antlr4-python3-runtime==4.9.* (from hydra-core>=1.2.0->super-gradients)\n",
            "  Downloading antlr4-python3-runtime-4.9.3.tar.gz (117 kB)\n",
            "\u001b[2K     \u001b[90m━━━━━━━━━━━━━━━━━━━━━━━━━━━━━━━━━━━━━━\u001b[0m \u001b[32m117.0/117.0 kB\u001b[0m \u001b[31m15.6 MB/s\u001b[0m eta \u001b[36m0:00:00\u001b[0m\n",
            "\u001b[?25h  Preparing metadata (setup.py) ... \u001b[?25l\u001b[?25hdone\n",
            "Requirement already satisfied: attrs>=22.2.0 in /usr/local/lib/python3.10/dist-packages (from jsonschema>=3.2.0->super-gradients) (23.1.0)\n",
            "Requirement already satisfied: jsonschema-specifications>=2023.03.6 in /usr/local/lib/python3.10/dist-packages (from jsonschema>=3.2.0->super-gradients) (2023.7.1)\n",
            "Requirement already satisfied: referencing>=0.28.4 in /usr/local/lib/python3.10/dist-packages (from jsonschema>=3.2.0->super-gradients) (0.30.2)\n",
            "Requirement already satisfied: rpds-py>=0.7.1 in /usr/local/lib/python3.10/dist-packages (from jsonschema>=3.2.0->super-gradients) (0.9.2)\n",
            "Requirement already satisfied: contourpy>=1.0.1 in /usr/local/lib/python3.10/dist-packages (from matplotlib>=3.3.4->super-gradients) (1.1.0)\n",
            "Requirement already satisfied: cycler>=0.10 in /usr/local/lib/python3.10/dist-packages (from matplotlib>=3.3.4->super-gradients) (0.11.0)\n",
            "Requirement already satisfied: fonttools>=4.22.0 in /usr/local/lib/python3.10/dist-packages (from matplotlib>=3.3.4->super-gradients) (4.42.0)\n",
            "Requirement already satisfied: kiwisolver>=1.0.1 in /usr/local/lib/python3.10/dist-packages (from matplotlib>=3.3.4->super-gradients) (1.4.4)\n",
            "Requirement already satisfied: python-dateutil>=2.7 in /usr/local/lib/python3.10/dist-packages (from matplotlib>=3.3.4->super-gradients) (2.8.2)\n",
            "Requirement already satisfied: PyYAML>=5.1.0 in /usr/local/lib/python3.10/dist-packages (from omegaconf->super-gradients) (6.0.1)\n",
            "Requirement already satisfied: rich in /usr/local/lib/python3.10/dist-packages (from onnx-simplifier<1.0,>=0.3.6->super-gradients) (13.5.2)\n",
            "Requirement already satisfied: build in /usr/local/lib/python3.10/dist-packages (from pip-tools>=6.12.1->super-gradients) (0.10.0)\n",
            "Requirement already satisfied: click>=8 in /usr/local/lib/python3.10/dist-packages (from pip-tools>=6.12.1->super-gradients) (8.1.6)\n",
            "Requirement already satisfied: pip>=22.2 in /usr/local/lib/python3.10/dist-packages (from pip-tools>=6.12.1->super-gradients) (23.1.2)\n",
            "Requirement already satisfied: sphinxcontrib-applehelp in /usr/local/lib/python3.10/dist-packages (from sphinx~=4.0.2->super-gradients) (1.0.6)\n",
            "Requirement already satisfied: sphinxcontrib-devhelp in /usr/local/lib/python3.10/dist-packages (from sphinx~=4.0.2->super-gradients) (1.0.4)\n",
            "Requirement already satisfied: sphinxcontrib-jsmath in /usr/local/lib/python3.10/dist-packages (from sphinx~=4.0.2->super-gradients) (1.0.1)\n",
            "Requirement already satisfied: sphinxcontrib-htmlhelp in /usr/local/lib/python3.10/dist-packages (from sphinx~=4.0.2->super-gradients) (2.0.3)\n",
            "Requirement already satisfied: sphinxcontrib-serializinghtml in /usr/local/lib/python3.10/dist-packages (from sphinx~=4.0.2->super-gradients) (1.1.7)\n",
            "Requirement already satisfied: sphinxcontrib-qthelp in /usr/local/lib/python3.10/dist-packages (from sphinx~=4.0.2->super-gradients) (1.0.5)\n",
            "Requirement already satisfied: Jinja2>=2.3 in /usr/local/lib/python3.10/dist-packages (from sphinx~=4.0.2->super-gradients) (3.1.2)\n",
            "Collecting docutils<0.18,>=0.14 (from sphinx~=4.0.2->super-gradients)\n",
            "  Downloading docutils-0.17.1-py2.py3-none-any.whl (575 kB)\n",
            "\u001b[2K     \u001b[90m━━━━━━━━━━━━━━━━━━━━━━━━━━━━━━━━━━━━━━\u001b[0m \u001b[32m575.5/575.5 kB\u001b[0m \u001b[31m34.1 MB/s\u001b[0m eta \u001b[36m0:00:00\u001b[0m\n",
            "\u001b[?25hRequirement already satisfied: snowballstemmer>=1.1 in /usr/local/lib/python3.10/dist-packages (from sphinx~=4.0.2->super-gradients) (2.2.0)\n",
            "Requirement already satisfied: babel>=1.3 in /usr/local/lib/python3.10/dist-packages (from sphinx~=4.0.2->super-gradients) (2.12.1)\n",
            "Requirement already satisfied: alabaster<0.8,>=0.7 in /usr/local/lib/python3.10/dist-packages (from sphinx~=4.0.2->super-gradients) (0.7.13)\n",
            "Requirement already satisfied: imagesize in /usr/local/lib/python3.10/dist-packages (from sphinx~=4.0.2->super-gradients) (1.4.1)\n",
            "Requirement already satisfied: requests>=2.5.0 in /usr/local/lib/python3.10/dist-packages (from sphinx~=4.0.2->super-gradients) (2.31.0)\n",
            "Requirement already satisfied: absl-py>=0.4 in /usr/local/lib/python3.10/dist-packages (from tensorboard>=2.4.1->super-gradients) (1.4.0)\n",
            "Requirement already satisfied: grpcio>=1.48.2 in /usr/local/lib/python3.10/dist-packages (from tensorboard>=2.4.1->super-gradients) (1.57.0)\n",
            "Requirement already satisfied: google-auth<3,>=1.6.3 in /usr/local/lib/python3.10/dist-packages (from tensorboard>=2.4.1->super-gradients) (2.17.3)\n",
            "Requirement already satisfied: google-auth-oauthlib<1.1,>=0.5 in /usr/local/lib/python3.10/dist-packages (from tensorboard>=2.4.1->super-gradients) (1.0.0)\n",
            "Requirement already satisfied: markdown>=2.6.8 in /usr/local/lib/python3.10/dist-packages (from tensorboard>=2.4.1->super-gradients) (3.4.4)\n",
            "Requirement already satisfied: tensorboard-data-server<0.8.0,>=0.7.0 in /usr/local/lib/python3.10/dist-packages (from tensorboard>=2.4.1->super-gradients) (0.7.1)\n",
            "Requirement already satisfied: werkzeug>=1.0.1 in /usr/local/lib/python3.10/dist-packages (from tensorboard>=2.4.1->super-gradients) (2.3.6)\n",
            "Requirement already satisfied: filelock in /usr/local/lib/python3.10/dist-packages (from torch>=1.9.0->super-gradients) (3.12.2)\n",
            "Requirement already satisfied: networkx in /usr/local/lib/python3.10/dist-packages (from torch>=1.9.0->super-gradients) (3.1)\n",
            "Requirement already satisfied: triton==2.0.0 in /usr/local/lib/python3.10/dist-packages (from torch>=1.9.0->super-gradients) (2.0.0)\n",
            "Requirement already satisfied: cmake in /usr/local/lib/python3.10/dist-packages (from triton==2.0.0->torch>=1.9.0->super-gradients) (3.27.2)\n",
            "Requirement already satisfied: lit in /usr/local/lib/python3.10/dist-packages (from triton==2.0.0->torch>=1.9.0->super-gradients) (16.0.6)\n",
            "Collecting sphinxcontrib-jquery<5,>=4 (from sphinx-rtd-theme->super-gradients)\n",
            "  Downloading sphinxcontrib_jquery-4.1-py2.py3-none-any.whl (121 kB)\n",
            "\u001b[2K     \u001b[90m━━━━━━━━━━━━━━━━━━━━━━━━━━━━━━━━━━━━━━\u001b[0m \u001b[32m121.1/121.1 kB\u001b[0m \u001b[31m16.4 MB/s\u001b[0m eta \u001b[36m0:00:00\u001b[0m\n",
            "\u001b[?25hCollecting urllib3<1.27,>=1.25.4 (from botocore<1.32.0,>=1.31.26->boto3>=1.17.15->super-gradients)\n",
            "  Downloading urllib3-1.26.16-py2.py3-none-any.whl (143 kB)\n",
            "\u001b[2K     \u001b[90m━━━━━━━━━━━━━━━━━━━━━━━━━━━━━━━━━━━━━━\u001b[0m \u001b[32m143.1/143.1 kB\u001b[0m \u001b[31m20.3 MB/s\u001b[0m eta \u001b[36m0:00:00\u001b[0m\n",
            "\u001b[?25hRequirement already satisfied: cachetools<6.0,>=2.0.0 in /usr/local/lib/python3.10/dist-packages (from google-auth<3,>=1.6.3->tensorboard>=2.4.1->super-gradients) (5.3.1)\n",
            "Requirement already satisfied: pyasn1-modules>=0.2.1 in /usr/local/lib/python3.10/dist-packages (from google-auth<3,>=1.6.3->tensorboard>=2.4.1->super-gradients) (0.3.0)\n",
            "Requirement already satisfied: six>=1.9.0 in /usr/local/lib/python3.10/dist-packages (from google-auth<3,>=1.6.3->tensorboard>=2.4.1->super-gradients) (1.16.0)\n",
            "Requirement already satisfied: rsa<5,>=3.1.4 in /usr/local/lib/python3.10/dist-packages (from google-auth<3,>=1.6.3->tensorboard>=2.4.1->super-gradients) (4.9)\n",
            "Requirement already satisfied: requests-oauthlib>=0.7.0 in /usr/local/lib/python3.10/dist-packages (from google-auth-oauthlib<1.1,>=0.5->tensorboard>=2.4.1->super-gradients) (1.3.1)\n",
            "Requirement already satisfied: MarkupSafe>=2.0 in /usr/local/lib/python3.10/dist-packages (from Jinja2>=2.3->sphinx~=4.0.2->super-gradients) (2.1.3)\n",
            "Requirement already satisfied: charset-normalizer<4,>=2 in /usr/local/lib/python3.10/dist-packages (from requests>=2.5.0->sphinx~=4.0.2->super-gradients) (3.2.0)\n",
            "Requirement already satisfied: idna<4,>=2.5 in /usr/local/lib/python3.10/dist-packages (from requests>=2.5.0->sphinx~=4.0.2->super-gradients) (3.4)\n",
            "Requirement already satisfied: certifi>=2017.4.17 in /usr/local/lib/python3.10/dist-packages (from requests>=2.5.0->sphinx~=4.0.2->super-gradients) (2023.7.22)\n",
            "Requirement already satisfied: pyproject_hooks in /usr/local/lib/python3.10/dist-packages (from build->pip-tools>=6.12.1->super-gradients) (1.0.0)\n",
            "Requirement already satisfied: tomli>=1.1.0 in /usr/local/lib/python3.10/dist-packages (from build->pip-tools>=6.12.1->super-gradients) (2.0.1)\n",
            "Collecting humanfriendly>=9.1 (from coloredlogs->onnxruntime==1.13.1->super-gradients)\n",
            "  Downloading humanfriendly-10.0-py2.py3-none-any.whl (86 kB)\n",
            "\u001b[2K     \u001b[90m━━━━━━━━━━━━━━━━━━━━━━━━━━━━━━━━━━━━━━━━\u001b[0m \u001b[32m86.8/86.8 kB\u001b[0m \u001b[31m11.7 MB/s\u001b[0m eta \u001b[36m0:00:00\u001b[0m\n",
            "\u001b[?25hRequirement already satisfied: markdown-it-py>=2.2.0 in /usr/local/lib/python3.10/dist-packages (from rich->onnx-simplifier<1.0,>=0.3.6->super-gradients) (3.0.0)\n",
            "INFO: pip is looking at multiple versions of sphinxcontrib-applehelp to determine which version is compatible with other requirements. This could take a while.\n",
            "Collecting sphinxcontrib-applehelp (from sphinx~=4.0.2->super-gradients)\n",
            "  Downloading sphinxcontrib_applehelp-1.0.7-py3-none-any.whl (120 kB)\n",
            "\u001b[2K     \u001b[90m━━━━━━━━━━━━━━━━━━━━━━━━━━━━━━━━━━━━━━\u001b[0m \u001b[32m120.0/120.0 kB\u001b[0m \u001b[31m16.5 MB/s\u001b[0m eta \u001b[36m0:00:00\u001b[0m\n",
            "\u001b[?25h  Downloading sphinxcontrib_applehelp-1.0.5-py3-none-any.whl (120 kB)\n",
            "\u001b[2K     \u001b[90m━━━━━━━━━━━━━━━━━━━━━━━━━━━━━━━━━━━━━━\u001b[0m \u001b[32m120.0/120.0 kB\u001b[0m \u001b[31m14.8 MB/s\u001b[0m eta \u001b[36m0:00:00\u001b[0m\n",
            "\u001b[?25h  Downloading sphinxcontrib_applehelp-1.0.4-py3-none-any.whl (120 kB)\n",
            "\u001b[2K     \u001b[90m━━━━━━━━━━━━━━━━━━━━━━━━━━━━━━━━━━━━━━\u001b[0m \u001b[32m120.6/120.6 kB\u001b[0m \u001b[31m17.1 MB/s\u001b[0m eta \u001b[36m0:00:00\u001b[0m\n",
            "\u001b[?25hINFO: pip is looking at multiple versions of sphinxcontrib-devhelp to determine which version is compatible with other requirements. This could take a while.\n",
            "Collecting sphinxcontrib-devhelp (from sphinx~=4.0.2->super-gradients)\n",
            "  Downloading sphinxcontrib_devhelp-1.0.5-py3-none-any.whl (83 kB)\n",
            "\u001b[2K     \u001b[90m━━━━━━━━━━━━━━━━━━━━━━━━━━━━━━━━━━━━━━━━\u001b[0m \u001b[32m83.5/83.5 kB\u001b[0m \u001b[31m10.5 MB/s\u001b[0m eta \u001b[36m0:00:00\u001b[0m\n",
            "\u001b[?25h  Downloading sphinxcontrib_devhelp-1.0.3-py3-none-any.whl (83 kB)\n",
            "\u001b[2K     \u001b[90m━━━━━━━━━━━━━━━━━━━━━━━━━━━━━━━━━━━━━━━━\u001b[0m \u001b[32m83.5/83.5 kB\u001b[0m \u001b[31m10.4 MB/s\u001b[0m eta \u001b[36m0:00:00\u001b[0m\n",
            "\u001b[?25h  Downloading sphinxcontrib_devhelp-1.0.2-py2.py3-none-any.whl (84 kB)\n",
            "\u001b[2K     \u001b[90m━━━━━━━━━━━━━━━━━━━━━━━━━━━━━━━━━━━━━━━━\u001b[0m \u001b[32m84.7/84.7 kB\u001b[0m \u001b[31m10.6 MB/s\u001b[0m eta \u001b[36m0:00:00\u001b[0m\n",
            "\u001b[?25hINFO: pip is looking at multiple versions of sphinxcontrib-htmlhelp to determine which version is compatible with other requirements. This could take a while.\n",
            "Collecting sphinxcontrib-htmlhelp (from sphinx~=4.0.2->super-gradients)\n",
            "  Downloading sphinxcontrib_htmlhelp-2.0.4-py3-none-any.whl (99 kB)\n",
            "\u001b[2K     \u001b[90m━━━━━━━━━━━━━━━━━━━━━━━━━━━━━━━━━━━━━━━━\u001b[0m \u001b[32m99.2/99.2 kB\u001b[0m \u001b[31m14.3 MB/s\u001b[0m eta \u001b[36m0:00:00\u001b[0m\n",
            "\u001b[?25h  Downloading sphinxcontrib_htmlhelp-2.0.2-py3-none-any.whl (99 kB)\n",
            "\u001b[2K     \u001b[90m━━━━━━━━━━━━━━━━━━━━━━━━━━━━━━━━━━━━━━━━\u001b[0m \u001b[32m99.2/99.2 kB\u001b[0m \u001b[31m13.7 MB/s\u001b[0m eta \u001b[36m0:00:00\u001b[0m\n",
            "\u001b[?25h  Downloading sphinxcontrib_htmlhelp-2.0.1-py3-none-any.whl (99 kB)\n",
            "\u001b[2K     \u001b[90m━━━━━━━━━━━━━━━━━━━━━━━━━━━━━━━━━━━━━━━━\u001b[0m \u001b[32m99.8/99.8 kB\u001b[0m \u001b[31m13.0 MB/s\u001b[0m eta \u001b[36m0:00:00\u001b[0m\n",
            "\u001b[?25hINFO: pip is looking at multiple versions of sphinxcontrib-qthelp to determine which version is compatible with other requirements. This could take a while.\n",
            "Collecting sphinxcontrib-qthelp (from sphinx~=4.0.2->super-gradients)\n",
            "  Downloading sphinxcontrib_qthelp-1.0.6-py3-none-any.whl (89 kB)\n",
            "\u001b[2K     \u001b[90m━━━━━━━━━━━━━━━━━━━━━━━━━━━━━━━━━━━━━━━━\u001b[0m \u001b[32m89.4/89.4 kB\u001b[0m \u001b[31m7.8 MB/s\u001b[0m eta \u001b[36m0:00:00\u001b[0m\n",
            "\u001b[?25h  Downloading sphinxcontrib_qthelp-1.0.4-py3-none-any.whl (89 kB)\n",
            "\u001b[2K     \u001b[90m━━━━━━━━━━━━━━━━━━━━━━━━━━━━━━━━━━━━━━━━\u001b[0m \u001b[32m89.4/89.4 kB\u001b[0m \u001b[31m10.5 MB/s\u001b[0m eta \u001b[36m0:00:00\u001b[0m\n",
            "\u001b[?25h  Downloading sphinxcontrib_qthelp-1.0.3-py2.py3-none-any.whl (90 kB)\n",
            "\u001b[2K     \u001b[90m━━━━━━━━━━━━━━━━━━━━━━━━━━━━━━━━━━━━━━━━\u001b[0m \u001b[32m90.6/90.6 kB\u001b[0m \u001b[31m13.0 MB/s\u001b[0m eta \u001b[36m0:00:00\u001b[0m\n",
            "\u001b[?25hINFO: pip is looking at multiple versions of sphinxcontrib-serializinghtml to determine which version is compatible with other requirements. This could take a while.\n",
            "Collecting sphinxcontrib-serializinghtml (from sphinx~=4.0.2->super-gradients)\n",
            "  Downloading sphinxcontrib_serializinghtml-1.1.8-py3-none-any.whl (92 kB)\n",
            "\u001b[2K     \u001b[90m━━━━━━━━━━━━━━━━━━━━━━━━━━━━━━━━━━━━━━━━\u001b[0m \u001b[32m92.6/92.6 kB\u001b[0m \u001b[31m12.9 MB/s\u001b[0m eta \u001b[36m0:00:00\u001b[0m\n",
            "\u001b[?25h  Downloading sphinxcontrib_serializinghtml-1.1.6-py3-none-any.whl (92 kB)\n",
            "\u001b[2K     \u001b[90m━━━━━━━━━━━━━━━━━━━━━━━━━━━━━━━━━━━━━━━━\u001b[0m \u001b[32m92.6/92.6 kB\u001b[0m \u001b[31m14.2 MB/s\u001b[0m eta \u001b[36m0:00:00\u001b[0m\n",
            "\u001b[?25h  Downloading sphinxcontrib_serializinghtml-1.1.5-py2.py3-none-any.whl (94 kB)\n",
            "\u001b[2K     \u001b[90m━━━━━━━━━━━━━━━━━━━━━━━━━━━━━━━━━━━━━━━━\u001b[0m \u001b[32m94.0/94.0 kB\u001b[0m \u001b[31m13.7 MB/s\u001b[0m eta \u001b[36m0:00:00\u001b[0m\n",
            "\u001b[?25hRequirement already satisfied: mpmath>=0.19 in /usr/local/lib/python3.10/dist-packages (from sympy->onnxruntime==1.13.1->super-gradients) (1.3.0)\n",
            "Requirement already satisfied: mdurl~=0.1 in /usr/local/lib/python3.10/dist-packages (from markdown-it-py>=2.2.0->rich->onnx-simplifier<1.0,>=0.3.6->super-gradients) (0.1.2)\n",
            "Requirement already satisfied: pyasn1<0.6.0,>=0.4.6 in /usr/local/lib/python3.10/dist-packages (from pyasn1-modules>=0.2.1->google-auth<3,>=1.6.3->tensorboard>=2.4.1->super-gradients) (0.5.0)\n",
            "Requirement already satisfied: oauthlib>=3.0.0 in /usr/local/lib/python3.10/dist-packages (from requests-oauthlib>=0.7.0->google-auth-oauthlib<1.1,>=0.5->tensorboard>=2.4.1->super-gradients) (3.2.2)\n",
            "Building wheels for collected packages: termcolor, treelib, coverage, antlr4-python3-runtime, stringcase\n",
            "  Building wheel for termcolor (setup.py) ... \u001b[?25l\u001b[?25hdone\n",
            "  Created wheel for termcolor: filename=termcolor-1.1.0-py3-none-any.whl size=4832 sha256=613fc34de774c5a6bac6f6b7b35fbe36d432a0b7177ea61144b6060e4f02d305\n",
            "  Stored in directory: /root/.cache/pip/wheels/a1/49/46/1b13a65d8da11238af9616b00fdde6d45b0f95d9291bac8452\n",
            "  Building wheel for treelib (setup.py) ... \u001b[?25l\u001b[?25hdone\n",
            "  Created wheel for treelib: filename=treelib-1.6.1-py3-none-any.whl size=18369 sha256=965ebbe230f103a9efc3a2d212cc47f54677cacc8bc4aed8d4168ea032bacedc\n",
            "  Stored in directory: /root/.cache/pip/wheels/63/72/8b/76569b82bf280a03c4e294c3b29ee2398217186369c427ed4b\n",
            "  Building wheel for coverage (setup.py) ... \u001b[?25l\u001b[?25hdone\n",
            "  Created wheel for coverage: filename=coverage-5.3.1-cp310-cp310-linux_x86_64.whl size=235253 sha256=c4e9a46b7cda4e043247007a81f0cb6c1c8ba0b96cb0205a0e5df1ab82072a62\n",
            "  Stored in directory: /root/.cache/pip/wheels/e2/70/10/313be697f460d6024cfa94b7f0e22ffc1c53aab718fb4f42af\n",
            "  Building wheel for antlr4-python3-runtime (setup.py) ... \u001b[?25l\u001b[?25hdone\n",
            "  Created wheel for antlr4-python3-runtime: filename=antlr4_python3_runtime-4.9.3-py3-none-any.whl size=144555 sha256=eb048e3e88ec922f73dc1bdfa4ac9c71dab351beb70d6de39792c405126301cc\n",
            "  Stored in directory: /root/.cache/pip/wheels/12/93/dd/1f6a127edc45659556564c5730f6d4e300888f4bca2d4c5a88\n",
            "  Building wheel for stringcase (setup.py) ... \u001b[?25l\u001b[?25hdone\n",
            "  Created wheel for stringcase: filename=stringcase-1.2.0-py3-none-any.whl size=3570 sha256=776029ca2c0819d365a96d24db362b0d809b5362bd3e77c5f21d31cdadfeb0f5\n",
            "  Stored in directory: /root/.cache/pip/wheels/31/ba/22/1a2d952a9ce8aa86e42fda41e2c87fdaf20e238c88bf8df013\n",
            "Successfully built termcolor treelib coverage antlr4-python3-runtime stringcase\n",
            "Installing collected packages: termcolor, stringcase, json-tricks, einops, antlr4-python3-runtime, urllib3, treelib, sphinxcontrib-serializinghtml, sphinxcontrib-qthelp, sphinxcontrib-htmlhelp, sphinxcontrib-devhelp, sphinxcontrib-applehelp, rapidfuzz, pyparsing, pyDeprecate, omegaconf, numpy, jmespath, humanfriendly, docutils, Deprecated, coverage, onnx, hydra-core, coloredlogs, botocore, sphinx, s3transfer, onnxruntime, onnx-simplifier, sphinxcontrib-jquery, boto3, sphinx-rtd-theme, torchmetrics, super-gradients\n",
            "  Attempting uninstall: termcolor\n",
            "    Found existing installation: termcolor 2.3.0\n",
            "    Uninstalling termcolor-2.3.0:\n",
            "      Successfully uninstalled termcolor-2.3.0\n",
            "  Attempting uninstall: urllib3\n",
            "    Found existing installation: urllib3 2.0.4\n",
            "    Uninstalling urllib3-2.0.4:\n",
            "      Successfully uninstalled urllib3-2.0.4\n",
            "  Attempting uninstall: sphinxcontrib-serializinghtml\n",
            "    Found existing installation: sphinxcontrib-serializinghtml 1.1.7\n",
            "    Uninstalling sphinxcontrib-serializinghtml-1.1.7:\n",
            "      Successfully uninstalled sphinxcontrib-serializinghtml-1.1.7\n",
            "  Attempting uninstall: sphinxcontrib-qthelp\n",
            "    Found existing installation: sphinxcontrib-qthelp 1.0.5\n",
            "    Uninstalling sphinxcontrib-qthelp-1.0.5:\n",
            "      Successfully uninstalled sphinxcontrib-qthelp-1.0.5\n",
            "  Attempting uninstall: sphinxcontrib-htmlhelp\n",
            "    Found existing installation: sphinxcontrib-htmlhelp 2.0.3\n",
            "    Uninstalling sphinxcontrib-htmlhelp-2.0.3:\n",
            "      Successfully uninstalled sphinxcontrib-htmlhelp-2.0.3\n",
            "  Attempting uninstall: sphinxcontrib-devhelp\n",
            "    Found existing installation: sphinxcontrib-devhelp 1.0.4\n",
            "    Uninstalling sphinxcontrib-devhelp-1.0.4:\n",
            "      Successfully uninstalled sphinxcontrib-devhelp-1.0.4\n",
            "  Attempting uninstall: sphinxcontrib-applehelp\n",
            "    Found existing installation: sphinxcontrib-applehelp 1.0.6\n",
            "    Uninstalling sphinxcontrib-applehelp-1.0.6:\n",
            "      Successfully uninstalled sphinxcontrib-applehelp-1.0.6\n",
            "  Attempting uninstall: pyparsing\n",
            "    Found existing installation: pyparsing 3.1.1\n",
            "    Uninstalling pyparsing-3.1.1:\n",
            "      Successfully uninstalled pyparsing-3.1.1\n",
            "  Attempting uninstall: numpy\n",
            "    Found existing installation: numpy 1.23.5\n",
            "    Uninstalling numpy-1.23.5:\n",
            "      Successfully uninstalled numpy-1.23.5\n",
            "  Attempting uninstall: docutils\n",
            "    Found existing installation: docutils 0.18.1\n",
            "    Uninstalling docutils-0.18.1:\n",
            "      Successfully uninstalled docutils-0.18.1\n",
            "  Attempting uninstall: sphinx\n",
            "    Found existing installation: Sphinx 5.0.2\n",
            "    Uninstalling Sphinx-5.0.2:\n",
            "      Successfully uninstalled Sphinx-5.0.2\n",
            "Successfully installed Deprecated-1.2.14 antlr4-python3-runtime-4.9.3 boto3-1.28.26 botocore-1.31.26 coloredlogs-15.0.1 coverage-5.3.1 docutils-0.17.1 einops-0.3.2 humanfriendly-10.0 hydra-core-1.3.2 jmespath-1.0.1 json-tricks-3.16.1 numpy-1.23.0 omegaconf-2.3.0 onnx-1.13.0 onnx-simplifier-0.4.33 onnxruntime-1.13.1 pyDeprecate-0.3.2 pyparsing-2.4.5 rapidfuzz-3.2.0 s3transfer-0.6.1 sphinx-4.0.3 sphinx-rtd-theme-1.2.2 sphinxcontrib-applehelp-1.0.4 sphinxcontrib-devhelp-1.0.2 sphinxcontrib-htmlhelp-2.0.1 sphinxcontrib-jquery-4.1 sphinxcontrib-qthelp-1.0.3 sphinxcontrib-serializinghtml-1.1.5 stringcase-1.2.0 super-gradients-3.2.0 termcolor-1.1.0 torchmetrics-0.8.0 treelib-1.6.1 urllib3-1.26.16\n"
          ]
        },
        {
          "output_type": "display_data",
          "data": {
            "application/vnd.colab-display-data+json": {
              "pip_warning": {
                "packages": [
                  "numpy",
                  "pydevd_plugins",
                  "pyparsing",
                  "sphinxcontrib"
                ]
              }
            }
          },
          "metadata": {}
        }
      ],
      "source": [
        "# One time installation.\n",
        "!pip install super-gradients"
      ]
    },
    {
      "cell_type": "markdown",
      "source": [
        "## Importar librerias necesarias"
      ],
      "metadata": {
        "id": "xyT_nZvtRjux"
      }
    },
    {
      "cell_type": "code",
      "execution_count": 1,
      "metadata": {
        "id": "a103cf03-29ac-419d-b347-4004301fcf88",
        "colab": {
          "base_uri": "https://localhost:8080/"
        },
        "outputId": "83df3bd5-6ca8-4d60-fbcc-39d642342ac6"
      },
      "outputs": [
        {
          "output_type": "stream",
          "name": "stdout",
          "text": [
            "The console stream is logged into /root/sg_logs/console.log\n"
          ]
        },
        {
          "output_type": "stream",
          "name": "stderr",
          "text": [
            "[2023-08-15 19:51:03] INFO - crash_tips_setup.py - Crash tips is enabled. You can set your environment variable to CRASH_HANDLER=FALSE to disable it\n",
            "[2023-08-15 19:51:07] WARNING - __init__.py - Failed to import pytorch_quantization\n",
            "[2023-08-15 19:51:13] INFO - utils.py - NumExpr defaulting to 2 threads.\n",
            "/usr/local/lib/python3.10/dist-packages/_distutils_hack/__init__.py:33: UserWarning: Setuptools is replacing distutils.\n",
            "  warnings.warn(\"Setuptools is replacing distutils.\")\n",
            "[2023-08-15 19:51:15] WARNING - calibrator.py - Failed to import pytorch_quantization\n",
            "[2023-08-15 19:51:15] WARNING - export.py - Failed to import pytorch_quantization\n",
            "[2023-08-15 19:51:15] WARNING - selective_quantization_utils.py - Failed to import pytorch_quantization\n"
          ]
        }
      ],
      "source": [
        "from super_gradients.training import Trainer\n",
        "from super_gradients.training import dataloaders\n",
        "from super_gradients.training.dataloaders.dataloaders import (\n",
        "    coco_detection_yolo_format_train,\n",
        "    coco_detection_yolo_format_val\n",
        ")\n",
        "from super_gradients.training import models\n",
        "from super_gradients.training.losses import PPYoloELoss\n",
        "from super_gradients.training.metrics import (\n",
        "    DetectionMetrics_050,\n",
        "    DetectionMetrics_050_095\n",
        ")\n",
        "from super_gradients.training.models.detection_models.pp_yolo_e import PPYoloEPostPredictionCallback\n",
        "from tqdm.auto import tqdm\n"
      ]
    },
    {
      "cell_type": "code",
      "execution_count": 2,
      "metadata": {
        "id": "8jjh67cU41ch"
      },
      "outputs": [],
      "source": [
        "import os\n",
        "import numpy as np\n",
        "import matplotlib.pyplot as plt\n",
        "\n",
        "import cv2\n",
        "import requests\n",
        "import zipfile\n",
        "import glob\n",
        "import random\n",
        "import torch"
      ]
    },
    {
      "cell_type": "markdown",
      "source": [
        "## Definicion de Variables de entorno"
      ],
      "metadata": {
        "id": "KP86q6_2SzgC"
      }
    },
    {
      "cell_type": "code",
      "source": [
        "ROOT_DIR = '/content/drive/MyDrive/yolo_data'\n",
        "\n",
        "SAVE_PATH = '/saved_images_temp'"
      ],
      "metadata": {
        "id": "Ohoh4vH7CPgo"
      },
      "execution_count": 3,
      "outputs": []
    },
    {
      "cell_type": "code",
      "source": [
        "device = torch.device(\"cuda:0\") if torch.cuda.is_available() else torch.device(\"cpu\")"
      ],
      "metadata": {
        "id": "gm6OwuRsCWfR"
      },
      "execution_count": 4,
      "outputs": []
    },
    {
      "cell_type": "markdown",
      "source": [
        "## Carga del Modelo"
      ],
      "metadata": {
        "id": "Xl4oKjbaRuw5"
      }
    },
    {
      "cell_type": "code",
      "source": [
        "model = models.get(\n",
        "    model_name='yolo_nas_s',\n",
        "    checkpoint_path=ROOT_DIR + '/checkpoints/yolo_nas_s/ckpt_best.pth',\n",
        "    num_classes = 1\n",
        ").to(device)"
      ],
      "metadata": {
        "colab": {
          "base_uri": "https://localhost:8080/"
        },
        "id": "dUvoU0w6Bm5U",
        "outputId": "2b718d6a-ed66-435e-faed-e2c9ce418072"
      },
      "execution_count": 5,
      "outputs": [
        {
          "output_type": "stream",
          "name": "stderr",
          "text": [
            "[2023-08-15 19:51:20] INFO - checkpoint_utils.py - Successfully loaded model weights from /content/drive/MyDrive/yolo_data/checkpoints/yolo_nas_s/ckpt_best.pth EMA checkpoint.\n"
          ]
        }
      ]
    },
    {
      "cell_type": "markdown",
      "source": [
        "# Fast API"
      ],
      "metadata": {
        "id": "WRHokxQHTLBK"
      }
    },
    {
      "cell_type": "markdown",
      "source": [
        "## Instalación"
      ],
      "metadata": {
        "id": "lAmai5OPTary"
      }
    },
    {
      "cell_type": "code",
      "source": [
        "!pip install fastapi nest-asyncio pyngrok uvicorn"
      ],
      "metadata": {
        "id": "pbiE6u6xTP_S"
      },
      "execution_count": null,
      "outputs": []
    },
    {
      "cell_type": "markdown",
      "source": [
        "## Importar lo necesario de Fast API"
      ],
      "metadata": {
        "id": "4mRMhRhFTjn6"
      }
    },
    {
      "cell_type": "code",
      "source": [
        "from fastapi import FastAPI\n",
        "import uvicorn\n",
        "import nest_asyncio\n",
        "from pyngrok import ngrok\n",
        "\n",
        "from pydantic import BaseModel\n",
        "import base64\n",
        "import PIL\n",
        "from io import BytesIO"
      ],
      "metadata": {
        "id": "FDsA4rGMTqFS"
      },
      "execution_count": 34,
      "outputs": []
    },
    {
      "cell_type": "markdown",
      "source": [
        "## Implementacion Fast API"
      ],
      "metadata": {
        "id": "xg49FgJ-Tti6"
      }
    },
    {
      "cell_type": "code",
      "source": [
        "def save_image(base_64_image, relative_save_path):\n",
        "  image_path = ROOT_DIR + relative_save_path + \"/Resultado.jpg\"\n",
        "  im = PIL.Image.open(BytesIO(base64.b64decode(base_64_image)))\n",
        "  im.save(ROOT_DIR + relative_save_path + \"/Resultado.jpg\")\n",
        "  return image_path\n"
      ],
      "metadata": {
        "id": "kMW8Mdm13aN2"
      },
      "execution_count": 35,
      "outputs": []
    },
    {
      "cell_type": "code",
      "source": [
        "app = FastAPI()\n",
        "\n",
        "class Image(BaseModel):\n",
        "    base_64: str\n",
        "\n",
        "@app.get(\"/\")\n",
        "async def root():\n",
        "    return {\"message\": \"Hello World\"}\n",
        "\n",
        "@app.post(\"/image\")\n",
        "async def upload_image(image: Image):\n",
        "  base_64 = image.base_64\n",
        "  print(image)\n",
        "  path = save_image(base_64, SAVE_PATH)\n",
        "  print(path)\n",
        "  out = model.predict(path)\n",
        "\n",
        "  return { \"base_64\": base_64} #, \"yolo_output\": out }\n",
        "\n"
      ],
      "metadata": {
        "id": "q0P_XU3TTx2K"
      },
      "execution_count": 36,
      "outputs": []
    },
    {
      "cell_type": "markdown",
      "source": [
        "## Ejecutar y Exponer la Aplicacion - Ngrok\n",
        "### Ver URLs en los Logs"
      ],
      "metadata": {
        "id": "sU6k1YlWUXri"
      }
    },
    {
      "cell_type": "code",
      "source": [
        "ngrok_tunnel = ngrok.connect(8000)\n",
        "print('Public URL:', ngrok_tunnel.public_url)\n",
        "nest_asyncio.apply()\n",
        "uvicorn.run(app, port=8000)"
      ],
      "metadata": {
        "colab": {
          "base_uri": "https://localhost:8080/"
        },
        "id": "8t2futRRU4La",
        "outputId": "d9d8f1e0-cbcf-41f9-dc18-b9b2d5009374"
      },
      "execution_count": 37,
      "outputs": [
        {
          "output_type": "stream",
          "name": "stderr",
          "text": [
            "[2023-08-15 20:10:58] INFO - ngrok.py - Opening tunnel named: http-8000-838e08ed-12e7-484c-82bb-2c6c3cd8205b\n",
            "[2023-08-15 20:10:58] INFO - process.py - t=2023-08-15T20:10:58+0000 lvl=info msg=\"no configuration paths supplied\"\n",
            "[2023-08-15 20:10:58] WARNING - process.py - t=2023-08-15T20:10:58+0000 lvl=warn msg=\"ngrok config file found at legacy location, move to XDG location\" xdg_path=/root/.config/ngrok/ngrok.yml legacy_path=/root/.ngrok2/ngrok.yml\n",
            "[2023-08-15 20:10:58] INFO - process.py - t=2023-08-15T20:10:58+0000 lvl=info msg=\"using configuration at default config path\" path=/root/.ngrok2/ngrok.yml\n",
            "[2023-08-15 20:10:58] INFO - process.py - t=2023-08-15T20:10:58+0000 lvl=info msg=\"open config file\" path=/root/.ngrok2/ngrok.yml err=nil\n",
            "[2023-08-15 20:10:58] INFO - process.py - t=2023-08-15T20:10:58+0000 lvl=info msg=\"starting web service\" obj=web addr=127.0.0.1:4040 allow_hosts=[]\n",
            "[2023-08-15 20:10:58] INFO - process.py - t=2023-08-15T20:10:58+0000 lvl=info msg=\"client session established\" obj=tunnels.session obj=csess id=504e1478da54\n",
            "[2023-08-15 20:10:58] INFO - process.py - t=2023-08-15T20:10:58+0000 lvl=info msg=\"tunnel session started\" obj=tunnels.session\n",
            "[2023-08-15 20:10:59] INFO - process.py - t=2023-08-15T20:10:59+0000 lvl=info msg=start pg=/api/tunnels id=709c337a198f88a0\n",
            "[2023-08-15 20:10:59] INFO - process.py - t=2023-08-15T20:10:59+0000 lvl=info msg=end pg=/api/tunnels id=709c337a198f88a0 status=200 dur=326.598µs\n",
            "[2023-08-15 20:10:59] INFO - process.py - t=2023-08-15T20:10:59+0000 lvl=info msg=start pg=/api/tunnels id=13d0319ef184dd6d\n",
            "[2023-08-15 20:10:59] INFO - process.py - t=2023-08-15T20:10:59+0000 lvl=info msg=end pg=/api/tunnels id=13d0319ef184dd6d status=200 dur=185.819µs\n",
            "[2023-08-15 20:10:59] INFO - process.py - t=2023-08-15T20:10:59+0000 lvl=info msg=start pg=/api/tunnels id=d4e8902eda27006a\n",
            "[2023-08-15 20:10:59] INFO - process.py - t=2023-08-15T20:10:59+0000 lvl=info msg=\"started tunnel\" obj=tunnels name=http-8000-838e08ed-12e7-484c-82bb-2c6c3cd8205b addr=http://localhost:8000 url=https://043b-34-83-162-49.ngrok.io\n",
            "[2023-08-15 20:10:59] INFO - process.py - t=2023-08-15T20:10:59+0000 lvl=info msg=end pg=/api/tunnels id=d4e8902eda27006a status=201 dur=83.908381ms\n",
            "INFO:     Started server process [2860]\n",
            "INFO:     Waiting for application startup.\n",
            "INFO:     Application startup complete.\n",
            "INFO:     Uvicorn running on http://127.0.0.1:8000 (Press CTRL+C to quit)\n"
          ]
        },
        {
          "output_type": "stream",
          "name": "stdout",
          "text": [
            "Public URL: https://043b-34-83-162-49.ngrok.io\n"
          ]
        },
        {
          "output_type": "stream",
          "name": "stderr",
          "text": [
            "[2023-08-15 20:11:07] INFO - process.py - t=2023-08-15T20:11:07+0000 lvl=info msg=\"join connections\" obj=join id=e6fe3963f5f0 l=127.0.0.1:8000 r=168.226.85.113:53189\n"
          ]
        },
        {
          "output_type": "stream",
          "name": "stdout",
          "text": [
            "INFO:     168.226.85.113:0 - \"GET / HTTP/1.1\" 200 OK\n",
            "INFO:     168.226.85.113:0 - \"GET /favicon.ico HTTP/1.1\" 404 Not Found\n"
          ]
        },
        {
          "output_type": "stream",
          "name": "stderr",
          "text": [
            "[2023-08-15 20:11:40] INFO - process.py - t=2023-08-15T20:11:40+0000 lvl=info msg=\"join connections\" obj=join id=2c4470de30bb l=127.0.0.1:8000 r=168.226.85.113:53194\n",
            "[2023-08-15 20:11:40] INFO - pipelines.py - Fusing some of the model's layers. If this takes too much memory, you can deactivate it by setting `fuse_model=False`\n"
          ]
        },
        {
          "output_type": "stream",
          "name": "stdout",
          "text": [
            "base_64=',/9j/4AAQSkZJRgABAQAAAQABAAD/2wBDAAYEBQYFBAYGBQYHBwYIChAKCgkJChQODwwQFxQYGBcUFhYaHSUfGhsjHBYWICwgIyYnKSopGR8tMC0oMCUoKSj/2wBDAQcHBwoIChMKChMoGhYaKCgoKCgoKCgoKCgoKCgoKCgoKCgoKCgoKCgoKCgoKCgoKCgoKCgoKCgoKCgoKCgoKCj/wAARCAEAAQADASIAAhEBAxEB/8QAHAAAAgIDAQEAAAAAAAAAAAAAAwQCBQEGBwAI/8QAQxAAAQMDAgQEAwcCBAMHBQAAAQIDEQAEIRIxBRNBUQYiYXGBkaEHFCMyscHwQtEkM+HxFRZSQ0RFU2Nyk2JzgpKy/8QAGwEAAgMBAQEAAAAAAAAAAAAAAgMAAQQFBgf/xAAoEQACAgEEAQQCAgMAAAAAAAAAAQIRAwQSITFRBRMiQSNxFIFCYaH/2gAMAwEAAhEDEQA/ANzdBJB6dAetQ1EkSOnSmHZLR6QaBqkbGAa88dMGZmBEbmTBoaSTg5BxBo6gnODB7nascsNqBTIzg9qhACtWraBnJrLpg9JBiprMggEbTWNRIOSDtAH1qrILlSj6RUElSoC8Qd6IsJIxkx1/ahO6ggFCQZPn9P5tVNhII6+Ut7A9QIFBW+qToUJG6MVjXKPMjM4EzUEpEyEkfGgssgtx4LV+JPb2rKL3S5Dw8hEE+lYeIQj8xyYGCRQnQgfmUAhHcipyWHeWySCh0efAxH+1KuzywvmCJjFBUdROBE/0maBqCyAEnQZ2q7YVB0nYoVIOR8KHqMflGCR8KG6SECB8KXcc61dl0Mrc8hIGN80HfA3oS3Z06ZgnIqCbgJ8vwJqyUFW5MZAApa8fSkEqPTHrQXbo5IAPT3pHit2lu1ddWICEkn0EUUVbJuopeBE3XiZ51adEvaD12x+gruDQi2bDIkojTnY+tcS+zdJc4ozzJJMrJxXbGXgXIzAEx0FdXpUc3t2N2zqm2QysAo1EEpJkj+RTSUlTrHLJIbUZ83SP7wKr2VJDTaUZQAI80xjG9NNuktkNkIWsCJE9unt+1CmXRaIZAuluZgpCNM4xJx23M+wolw4W24kgkwMSKiDMHb2qS0lQMmR2pyADWjyeSjXGvsDTzKtVU7SUu3Xk0FaEwe6Ov9vpVgy4AgFGMYFHBgNFi37T8a8fKDo3qDboAgnPpUkEqJxTAAiJ0aic0VIOnfeoa5r2VJ281WUaFA5EkCAfrQFpEQUyDvTDqQGdS8GdzQ0f5gE+cj9K88dMCEnlyAd+1RIJgkYHymmoEIk9em9DQCQMFB9hVUWKFOlJHrM+lQJ/PESMGRTa0z0PTeoFsKWBOPapRBZQBEmRHel3R/lwdyZAHpvT6wc4770o60kOFSPzrzI+OKqQSBr/AD7fSgQCsx1ztRl5aA7neg5QDtvuetLYSMEGCE9T0pZWFyIwI96M8RpGuI7TSSnDrJkwsbelUEgjgH9VASuFhSRBntWbt+BED2oCXSSPSjRdE1wEHcEDvVctQccIGED0mjXbkJXByarVXYaJHX6UZaQws8tOnVIPUiknHlJ7QOlYduC4IgwKrbm4IhKI19MzURdDbj8fkSMDvVD4jfX/AMMfMRrAQRPcgfvViC8QgIEGPM4o71qvi2+Q5dMWaFJcU2dbhSdvT9afhVyQrLxFm2/ZmyQrmHtE11BkhOZImDj5Zj3rRPs8aDdjzYya3ppxIrRN8mVIa8wccCCCSJgnHxp20S2U8zJJ8+5IPt9KqLdpxd25cFyWikIQmNu/zx8qt2CJIEgxNDB8ltF3bOBxtBmR0pk6oARvtvSVuowE9RtToOIjatafBnZBieauRBn6TTSDgScigoIOhW4PWiKT1JMT0okCxpEBvUSd9qfay3piKQZVK4qwSkqEqpqFsk2IGvvtRNxNQ1SuEiU1NJACug7UaKOfuz+IBuRie9e5aEgTpWF9/wCfCgugh7Ch5BPtnaspfadB0ONrEGROK85uOpQRxslwhGB3HevQIKQTr/SsF9IiCJBxnegBST+Q/XPxqbiUeKlAyQCiJwY+nzrHmjCsycV7mwT5gD/7qCt4OSErAEyYVv2qbkFR5R1DGAMfExQndwpe7cxHqIqYhoISwlDbbYgJCYAHYdqB94TKwSFrHSaFstIA8U6J30CYE/zrQ0wSda4RMxFZVetoM6RHzpZd2zyy44dAH9c0Fh0Qu1FGAAZ7H50kt7Ss4iKjccUtHI0ElA7iJzSb3ELboVjuAd6tIJII+8CTpyQOlIvXZbUYPk9aE7fW4WZJ37/6VXvcRs+bOnHQaqYkENrvHXQdAGgdRQ3nDAEQYnFKq4vbiYTHoD/pSy+LsTOkxjdVMogUuuPulLJxP5u1eW2m1RGnmOd6QuONKbww3HbFVjnELt7+rHpipsbKsvFl11J322rTuM288baX5PMIIA6jv8xVwq6fU2AsNn3BpRpo3XHWGoR5AMI2BP8ABTsHDE5eUdQ8Ks/duFW4I3E+9bAg60Kj4VV2aQ2yhsCABFWVqYAk1JvkGMQlheNOp0zyzqLQGoEmBPzjP8iry3BKgsFZGxBpJhAC0yJ/arNlYFFjAkWFqmB56sEBQ/MZG8VWWytTmnON561YqE6DJ8hkitcDJIMidAIojc5BGMRQEDSDjKzknrTCPLOCacgGFtyG14GTVo3+X1qrbgO9celPLcDbHqdqOADCs4BAHxoV4yXANBWJOYphACUADas5JMjHejBOO/cX23y4ErJqLto8CPKudgYq8N23GUrJO+K8m6bBASkkk5rzO1eTs/LwUKbO5SFytzfAVuPShrtn0kggyT8/5+1X/wB8bIlLZB76dhUTdok6Ur69KravIVy8GvuWdyTzFlcjYkTS33O8K3Fc5xxBJwobZ2kHbE1sf3xuFkMrJO2Kwi+3C2VgEDbOZ64qUifLwa4tq6Gg/izEb9Nv2que4dfBRCGrh0LnY5Wd+p9t620vQClKVx6g9/pUF3jgdCU27sTlUCD7fWokXb8GoXDN3a+UhxA6Ej+1KoYefZOtxawOkzNbjctffEAuMLQuTIJnFK8ltkGWVk91ij2IJN+DSHbd4Ewooz1O1KuWrxBC3AZHWt8dDCjJaJHeAafRwjgztsj7yJcIk6TET0oo476ZHOu0csVbvEkahjpUDw9ck6kE9c101HAOCPInkPoz/W4BWVeGODK/KCB6vU1Yn5BeReDlosniYDhGeiqInhj2jLs5710p7wtwXOB/83+tL/8AKliD+AyFrkQecduver9qRW9HPWeGtCee7HaKmtu2tWi5oJjua3x3wyyXgGbZt0nBJdXPyFSHg5l5wMvnloXM4J9utWsTsvejnC1FSGiloIdXBISPkKc8McKUL5d3cmMlZnpW/ueDrRm6FwoStCpACY9vrmi2fD0tuLMRTVD2wLUwbLZLaFKBBIHkPSnGkCIV+Xsaw4NOIiNhUGlplIHUYE1nbD2lq0oJid6dYUVNBSoGKqbd0OIE7/PY1ZWmpSyCBoxH702DM8y1tM5Gxq2tlE4I9zVWz67VY2jgitmMxyG1AkYrKDt614GQKwoE7d+tOFBrZ1LhMYgkZprSHXGyoedB3NKNiI8sZmnLUk3AMeTTM+tMRTHRIMRWFE9qkleek1hR8u1MAOFo4yoSVmRExTltxAOuLCj0rU0GRg7p2ptsqheT+WvOUj0+wsrvilwm+0Ie0IkHYVcLdI0id60LiSiL1B1H8o61s7zqhyCCelNyQSSYiCdstlrU2klNUdtxa6ev+SdAQZ2FO3dyoNLA8xitY4Vdj/jISRnmKFMwwi0+BeXcmjZbx51KOXqyRiBtSj19fBsgPfiAYJ70xfzypSc96r3tRbncxv3oFFBlbw/iHFX3Vi6eKwjCiEgAH0o1hxDin/N/D7BV0tdlcTzELgz8SJFLMXpbaDr5aAiYSqapOK8RDzxcwCMD0FMtJ9ArFLJ0bx4r4rwi0bLTbyC+Jw15/wDStOR4sfYb5baUKE+XmDI+Va6twumTt70MBOsRkUDaZpx4aXJd3HinibyY55Qn/wBMaP0pNXF+JK3vrr/5l/3rFvyzA8vtVqxZ27oGsUl5FAdsSKdHFL9JJF9cgnch5Qpyz8VcatBCL91xEyUPHmT6Scx7U29wlsnyA1XvWKm1wU0UM8X0DUGbnwL7TzbkN8U4a3y9WXLTyECI/Idz6yK3zhXFOG8dCHuGXDb+hUqjBRnqDkda4YqxBrNsy7Z3CHrV1bD6NnG1FBHxrTDIZ8mmi+UfQN63GAKp1JS2gyY9a1bgXjtxxoW/G/OdhcoEH4gfqPlWzgtPthxl0ONryCCCI9KmSd9GdY3DhlfcJOsHrEe1ASMo1HIzPembqOfHr3pReHQewP7VlfY76HrdYHmAGvAJ61a2jyVqjaqJCgqRPpT1tIjGRgKpsGZ8iNjZcEgU6y5+IANzVOy4oLQoKGDkRuKs7AgpCjlYJE1tgzFND33iLpDGPyzM7UwhUrHcCg8hCnUPH86cYoiAZmK0KxDGkGXAmMd6ZQ2pJQlsHlrMGP6cUBmB1kk1YW+B/M0aBI2ii4SI/IIPvR1STBobOltxcAAHJ9amsyvAoyj5tt4Bb1DMGrFgEgYyUxQWGCS1iZJFWjLPKebSYiuDsPTOZrXF2j97YJEnTWw3K0i3YM5ABqv8ToSzctkkAEECmENardCiN0oM1pyQ+EREJrcyaXg6CCCCcVrlm2pPiJB/9UiK2dpmHPTVj5VRpSU+Ih1HOH6UWnh3+heZ9GyLblrSQYNVPEX2rS2BOREJHer51vyGRAMyZrn/ABR8uveT/LGGx6Vn6NGLH7jK69uMwgBA7AQBVS85K+tPXaDBJwTSCWyo7Y96o17NoFLnr5O1eUvoDj2rGnoKwlJqBJDNtIIJJnpV1Z3IDgBiqJAPypm3XCwZpWSFltKjdbd1tbYAI2oF8yFIkb1V2L5nEf3p8uqUnvWNYnF8GNxaZWLGcUJyfemLlJSZAxSrnea34w0LqkKmrTgnHbnhjo0HU0T5mycH+xqtJ3oKtO9Potqzptrxa24ly3rdzQsJPMZO4n9dvrRXSEpmOlctRcOMrCmzBBkEVf8ADvEzkcu7JcR3H5x/elSxvtCHCjb2nZKjNPs3MpQEQSD3qhYfZcaDrLoKD1pi2ukha1QCsYFSBnyI3S3Vg6JgelW9gRriAMTArVuHOFxRcDmFiAO1bGwo6goCSR3rZjMGQugYHtWUnUMTnegW7hcC5GAYptlJJrWjOw9s22QQCCQYx0xtVk0NI2pa2TH5R9KYeWQlPLST6d6YkATCZnV7V7bepIHnrDqJG3vVkOMWVm0EQCD1p9NqzzNRIkVQ8MJFxBnNOlARcb/Wsb01HUWosr/HVot1lhVu2VkHpRLRp02LUiF8sCDVuTLCB2qaQCNqHI/io+A4cPd5KwMK1521TVA8nT4iHq6g/StyjpWncSdSjxOhqDrKkLq9NG2/0VmnwjYeOoWnh7uiJX5PmYP0rR+Is/d/MR7Ct14oVFspJMc0foa1vjDGsOkmelYpqmdHTPg1aOY4vGsrwKUfbSCrRt3pxUhXkMHvQFN9NHxoGzfsK8tn+kYrOkTThZkJJioLbxECqsFoWQPlRUzj0qQGc1BZjIFF2ANW7vLzNNtXvlycVTqcOiFVhK5VHX3oHAHZZsfMS4N6VuEwDpNKWju2RTqxqQCOtFBUA1tEo8lLKEfCnFo0ahFLrAiZp6KFXTigcwoMzTCxvS605piQE0P2HE3LUyFGDuO9XlpxVTrqCjKF960096Pw+5Uw9AOJoXj+zHl4O1cGdhKOxM+1btYtxg1zfwtdh5pudj3rpNj5kgxvtTcSOdlLJkpgAHrTtuCDnGdqUZb0gx1OMzT9uJIrWjMx+3EiRRFGYB71BlQSYT1NEUkcwGc9aYCEmNztU1EGKgmFmszmrAPn5mQ4FeuIq4fQToVEzVojwrxUoH+ENWTXhfiRYALUEVeRI0QyUa8gbiKO0kkVfW/hXiIc8zeNqca8MXacEViyY+TVDMqNZ5Z61oXiJpxHjC2VAg6I+ddp/wCV7gnNRX4NK3NTjaCvoTV4X7bsDLkUlRzzi8WrXOfP4ZdG3sao+Kt/4VZHX1rofjrwo+34U4g8w2HHWkh2J6AgqP8A+oNcyDwc4fbh1X4cGSMkxt/b4VjzqjtaGskNy8mvuMKJ2qXKjB3p4N6sp8lZCRMEgeprPts6rKstFCdqQIe5pkQgbYq6WqFwRtQHmwrKaqtotoqikxM0JdMPjSvHTpSqzKFRVoW0BccAVE1BBEZG9QWIXWNcSflTKIMIcIOMCrm1cJQmaoULnpVrZPSmKlC5jbqZJNKuI00ZTsioKzTELFXE7Uo4nyq/SrFYM+1LLEnemIpiSx8KEpH/AEjamljtQog5NMRmyI3n7PLsOoQnsa7Xw9IcbaUZlBlMGMwRnvvXz74FcLfFCgD85n619DcKSBboUdwAKLGuTk5uGWrSSUSPlT9ukhEjOPrSluBo2kdqskNgInbE1rSMrCswXYBGPpWbtpDwW0uYWCMVC0b5brmcz8qPctcxCDMEHer+gfsggfkNTTJE9qwiI9KmlWUhP5ahZzZH2uXnLzwllZ/+8R+1NI+11H/eeFLSezbs1yhRg9RUAqTXklrc3k+gP0XSv/H/AKzsbP2tcMP+Zw2+A7+Q/vT6ftO4EqCv7w11y0T+lcP1ZkfKvKPWiXqGUW/QdM/K/s71b/aF4ad/78UH/wCppY/amEeM/Drv/jFqD6uRXzrdXTTDJdeUhCBupRgCtavvFHDGUEofLhn/ALMT/pWnFqsuTqNmPN6Lpsfc6/dH1s/xbgt/bOM/fbK4YdSUKbLgKVA4II6ivnfjNgrhl1eWRUHOS+psO9XUEYXuRkEH41z5fi99zFjaJMmElQ1T8B/ei8Hc44/xJt675gYEktkBsR7Vr+c181QjTYsenl+KTl/RuDY1YrBakkSTVzwjhrnE7XmsJJDQ/EjpU3rJTAWnlEdNqpY3Vm+c0pUay41APU0uUGQKu12ZadB0mT3oT7AMmKzzdMq0a/et5JXnFVDiTnRma2S8YV8KqnmfOAnHqauLJRTq1dd6Hk087gQaWKTB8tMTFtAhrimbZ3S4ATvQUp8u+egqbbZmRn4UZTRaqMqj60ZAoTAwDTXLJFGhdA9Mo3FLrSnqIVT2kzHWgOtyv0owKK8oHbNCUzLgDiuWiYKwJirHkyUzWfuvOwKYmKyRbQ/9n9qp3irGOoE19D2DKi0hKlECM9K5b9nfCgzL2nY7xXYuGtxoQekYp2NHD1L+VDjLOEaBgUzgKGeu1FaTobP9XpSFy7OsNglY6Doae+DMuR0eR5zbMH9qIpcggGDVfbvAgk7bJiipdXB0yCalkodyRkQKgpZ/pMxS7TbqxpWZAG9HLAA3I9qlko+aUO84kRArKUiIzUFJjIryczFeHPrBTeNHeIcJVbu2LgDDg2KQTsDM+xGMGtWc4t4ju1aG3SnsG0iT+9dBuGg822h8a0NqKwk7T699hWGWmmx+GlCE9gK3Q1OOEV8U2ch6HUzyO8jSNCT4U4pfqDt/cqyJ/FUVmn7PwxaWx/GHNIM5rc4G9KXCYkgY3q3rsk+FwNh6Xhi7at/7Fbdhq1RDLaEA5IFF5qxIY1ysRQCpZEip27hS6g9JiarFOW9NmmeOKg4pHRvspfYZ447ZXbcMPAoTJwD0k10rivhFpaisJ0me0yK4dwW9VacSQ5/0KBPf1r6c8P3Q4nwC3eDmpRQPN6139JNTjtf0eR9WhPDNZV9nGuL+Gj950gmRiCKo+MeHHrC5Da5IKdeBXafFLbDaG+by+YG5KwMk/wCta4t9m4JN0J0N+WdqLLpoyEYNXPs5Uvg6nZ5ba1gelUF9wgtqUFpg/pXXGHmWXHRKIORWi+KCXL1wjCPSsU8SSs34tRKcqNCvOH4Ggyfakl2SxWxryf3oLzH4ZV1NKo2Gt/dADnNO2tqjJIjGKadTE96xgDfNWiSRC3aEwnvTjTJJAr1s2CgU+hMYGKckLYottKemaXU3k+tWC2yTtQi2JOKNACPJk9sVbcJsi66BBoCGC4ZjFdL8C+Glvsi4W35Jx707HG2ZdVlWONl14Q4Z92t0CMxPx/n6VudpbFrzYB98+1e4fYpYbgDpVg0iYKfy9fWtaR5yUnJ2QU3obJABImKrbtp9xAa1FJKsqSMn+RViTCiARUV+cAYSuetRqykKW7aUr8wI17dyasmWmwgQnPevaRqGoA561PVy4FRIpuwaE+f+qB2qSZQI3968pyFeUb1lSwT5dWDVkPl1bhk7kVJC4G01lSQT7elYIBxvFeIpH1lMzzQEjBoYcnMHeslIG4r2I2xUpFHubHSordBGxrD24ztvUCAroMUaSL5AqCgdiO9SSgwMYoSlkHSmSPSptDMTFNVIXTHrUgu5GDXXvs78TK4Z+Bcal25gED+k1yK2ICAFDY1sFhcBGhSZMV1NPm2uzk+oaZZo7Wdg8VOuXGm5xy4nBrSLy8S4y5pdKQsRipq46XrIMuSUAROMVrvEinOhUoJrfky2rRxNPpnDiRhNwEnzuGZ71jiy7NYBWSVneKoblxLbi/zntB2pS4unCjfzgYrJvOh/G5sci0LhyfjSfEXADjYDApBl10iSob7RXrlRdVvrPtS2hntULLJUTtFQQnUsJAzRCgxj6UzZ2ykSoiMbUUESfCJW7RSjf3FMoOPWpsslzpVnZcP5ixIBp6RmlNCDbSnPamWbIOOAGD6CtltuCulpbiGSW241FAwie/atqsPDLNotDqW2blyA4AFEa0T01R/MdZDYQMWXVRgUPhvwybpxt5aQLfUAVEYH9/5NdN4dZqtbFtpgI8mTj85/n+1Rs2A4AogsLy1CVSB2222FPtLAab1gIKwMAmPrWrGqOPqMryvkkqCISTnMjpREEED16jtSl9bKUUOslflIISCQCcjMeh2OJHtRmW18sKMhZRkEzBo7M9GVNCV6B8KnoPLhQHwqawQgYyTn0qSNiT86hR5I8gHzqKENtoDcYAAAJkxULx4tWbjjKQVgYBwDRWgQ2gOfn6x3qEALw4YEwJrwdGhBiJo+nSqIHpQkgZxIGx71RD5jdJ6VEkJCs1NZ9MV4iRIzXij6vESdunSYbSN8Cd6cSnHm+te5Y1zpA9anEZqFiVymSNNeSga/NRnknFAMpcntRooGlBCjpA96m0RqlSc9qn+YZqCJSshU71a5JuCgEZmIp+zuOUsAglB39KRVHw61AvwZG1aMM9vAjKkzcbZJdbGggj3rF3bKjUlIxvNV/hziDTxDTitC/XatsNk7omMVr3nFz/jlyaY/aFedMTSLtosSdM1vDtrIkpPwpY2jDmHPmKimRahI0F5tST/lxNDQ24okIHyroDvCLRSNZ29TQl8HaYHkSKdBX2R6mJqNtYqjUsZ7Va29qAI01aJsiVQkGfSrnhXBHH3kBQAk5Jp6SRjy5/tlDZ8OW84Ahsx610DgnhYNtBziCT3CRv7Ht+tXPC+GMWQQplMrEgnHWrFxBRa3HJ18zSVpyTmP9q0wx+TkZ9U5cREEtltIbKOUEIDZ5IGgCRJAVmMySSfyEdcjs3LmwuwH4dbcKAzqJccwv8Q7CdxsPoKcdZed5baHuWAkl1IGVxo6/T4+gol+hl21aKGy4tLk6g0FlsiZ3HuMZzR0ZNwW+Bct1l53lsL8hgSYIj5ycb9KZs0NclsMpQG4JGIzO9VXEFtPcLu2W3Gi7bJGoOCCCBuQAI2kGBPyo/AU8m0Q0ptYOkLEgYGSBg9hPxok+QGuC6SPJEYoawFnSRJmfapKkYScziayktrbDqVAIyskqxEb0wWQZnlQ9JOdqlboIaQj4EUVLaHRpI9VIPQ+tePkX2AqFHlthREnKMgd68BM6xEd6864rmhJBiMRWWVcz2BzUIYUDEjavKOhtZMRHamEphEECe9Unii6+58JdIOguQ2k+px/r8Kj4VkXLo+ciSTjashPUqk+9TQgK6TU46J+VeJPq4FeBNRg9frRXUzGnesJ+UVKBsCUqmIj2oZbOaaiagoZijBFEiMwN4rD2M7UQiD9KXeJ1iKNKy2yYkjvQ177V5CjMRisrk/lo0qFyaYu5LZBBg1sXAfHV7w5AZvmxeW46EwsexqguAeWrpVaogzpGadHkHLhhkjUkdks/FvhviTYK7j7s4RlD3kj47UVVxwaC4i/tljf/MBrhywZ9ugpG6nlxT8ceTjZ9HHHzFs7kvi9k5ci3trhlxcSA2QT8hVhbWqrg+QjPeuEeDn1W3iK0XsCrR88fvXf+CKJUO9a0qZycuRw6LDhfCmg8sPtyEkRGAcfPerNsBtZSMDzgehmsI1Sgp261lBBcczEHB+VaEqOdObm+R2zdJUEnqCTPfH0qwX5Uau2/SqdhJbVzBufTacD+epq6TDrUoggjFPx9CZC7SdSkPfic0HQNO6NpG4G469/epoS1bQ8OYWlS4Yc15Jyc5IyeuIGKyls8zlEHRE8yevUH+fpQuF2T6fvaLt9xbZMJHVAz1BnrE743oxYR5lKG3LhhlhDq0r1ayYJ9enx6VlVs2llDjZKVpa5RcBxHqJgwc/CjpfDL3KcUhEuBCZwTiTHc+3r2obN0l25cZ5ToQDoBW0sTETEjbIyJG9WUHmGWw8oLJGVgQD8P2mmLcBsBKJgbUAWwbAASgtiIRMR0x2x86MhGlpDcnyJ0BZwdhuNqsphzGuYIIEHPSsgAgk9e9YBSANasrMJHUmjIgmAJ7mNqIEjy9SR6npUmUpJkA46xvU0EeknbFMiI33q0gWxWA4JQQfbauf/AGjKL9za26HMW3+IUgf1HIH710VaUttnACN8Vxrx9xFq1HEuIoLhuy3ymANgVmEY9z+tBl6oPH2c3ZGAY3o3rQ2wVR19KJ1wa8Yz6lZjTFDInMTRSQJkg9NqGFYiqIegggKHvUfbNYWTzDn2rAJJg0dEAveVHrShTqE03cZBpcqASMZ7U2KAkDSkhUGjKTG4jFLoW5MKo6STvOKZtFgXh5fhVW6nzb7ntVu8CEHFV6hg7d6KAxvgRdAk5xSb0EEU2+CVfGh8uSrSPetMEYM7sQt3Tb39u6P+zIPyNfRHAXAVNqGyxNfOty0U+bsqM13nwU+bng9g71LSZ94rXD6PNapUzfgAUT3obZAUsHqqKmxsD3FQaaLrrpyAHJn4CtLOcOtNj7sdYEAZxMfCjs3ZUg6kEIghRPSCJ29DNZZyIxUlNpCzvO3zo1wLHNWtBAJB9qFwx/ntIlBDqB5hIJR8vjWdcBAcCzMbAnM42/gqseDrPEEBtb50pQ46hKwA9mAZP6Y3HtR2DRavpbK0KWBo1IQCYGZEGe8iMbyPh4sLdWhS2mAhH4iXCSSHYiY6iDvI2GOwHlchHMbRrhsxbNxJWIEIBMDp6DOczVlbQ2hBkrWsa995O/1o0CFCvJ3HesIISNRSQCcwJ9KL5S3qTBj9aWQtxTjam8taTIAySYgyegz/AAVYIcDmOBxtwLgkHOPb50ZJIMHY1hA0rOkAg9evtRUgqg/rUKPIKSYKtxtMGmHWw42UkkT/ANJg0s7bcyQsSjSQQc70dBLZAJB7AnNEmCyv8QXH3ewWASFueQfz2muDfaVfpfv7bhzGzQ+8uD46ED/+z8BXX/F10PvyEgyG05HYnP6RXzlfcQ+/8SvOIiYvbiW4/wDLR5Gx9Cv40nI7YyC4HWk4Pzo2IPQdRXkQP/dvvXtQBOxryB9PAOtxsc+1Q5RG1GXncTivJkjYD1mrIB0wcjasGDtE0RaCRjahKSRkxVogN6OWrNIHyrBg4+lPKJmDtQMFcH4dKfjYvIgCRI83ejoEfGvQAYwBU1ON7AzP8ijYEWroC6JbIqsI3HWrYyUSAYPWq27GkGOtXAKT4EFZIJyD61lKAJCd6mhvuCJ3onLgVoRhyclPeAlKmx1INdg+zB4L8PWvXQVIn2JrlTzXMVddwJ+VdH+yd4O8JfanLb36gVrx9HA1vZ1lnDII3GaPbrOsJjc/TP8ApS9nJaFMWQkAnPUVqRymWCGtOR1qbohQcSBJESrYfD+bVJog5mmIQsRuOtNoSBtkFoBKys6calRK/XGP0qNzbOPpcbLiEczDe+URmYj1z0nvWQjWVtwQYI3z2mfgKOgcy15bejWBgdP9qIopLNm9/wCJId0obPJLRamUSIIIEzo1kiOwjrFXHAHfJyCZQJLZLZbJHU6Dnc7kZ+UtKZ51o5olBWB/T6T2rCGy5e2ygUBAStYEQZwPTodiD0+MSojdljAAEYpfT/5YCCCMb4+faaYjBSTMRsK8gZXGc9vp/O9GAFaSDGJ9aIhPWCPQ1JoZxRUdZgDpVlAlTG3vSN5cBhRfcADbSSST2qzjrWueLnEptQ3sHDBIMQBnPpVSdIpdnO/tM4qbXwxdvsK/xd6eUyQrqvqPYT8q5C0yG3A3s20kISO/TH1raPHfEnbzxUxZpSPulo1rI385iAexj9a19TZUDr0EIEkfz1IpFj0h8xJMSTWZASARREcOUTm6bzvGaKqwYQPx7la/RCYxXllBn0lziJrcSAentQVXISiAfQU1cs2zZBQ0tyDPnVE0Bx5LAKkWbc5IKzI9KLaXvXgWN2rAQ2TPpXv8W4JSy4fWNqKvi9wOWEMtoKzEtgA+9MJVcCDz1j0gUWxFb39ISTw+/eB/CCR6miI4M7MvXLaKmty4CzrdmdjERWUSR5wfjTFFIVJyZhPDrJJE3TivQCppYs2iFNtlztNDSkTjFFGDmT6CisH2/LB3TvMb0hsJAqjvhmFVevAacd6pb1EqJ7Yoo8sjSS4FNABkVIpkTXmkSCIxTCG5imiZITKQA4Y3G/atl+yq65Kr9IknQhcdzmqa+ttFrqHcVY/Zs5p4061O7RWPgsVpx9Hn9ZTbaO62f+TFM2ySHkFGARFJ2P8Ak43FWlo2OUARtW2Jx2MKB3Ao9uQtsKkHETNQj50ZpMCMAT7b/wA+tNFkmmyX5g6P1NSQ2earBABx61K2cnEQeo7V5bY+8N3BcWChJRpBwdZG47iPqasEOy2UNhLipE4IxIqLLKRdrukYW4kTneNsfH615o8yUryB+hojadBRp0ADyHG4/k/zBIEMoJWgpcSFoXggiZB/3oqAVKQQZHf0qCeYSCB5IO+80dB0qQSnc7xtVlB2xG1Z2O1ZKQqDAkGRWYyTVgg4JnX3xFaF4nu7ZT95cXUC2t0GSoyiBkn+/tW8cReFtZOukwEIJrg/jLjzfEOBGyYQ4HXn+W7IA8gy4cdOn/5UrI/oOK+zSnrg3T93eLEOXbpfM7gHYfAQPhVYpTjgKUK0BRq0vEgIWoHpgRVa0lx57YaBkmgsYj//2Q=='\n",
            "/content/drive/MyDrive/yolo_data/saved_images_temp/Resultado.jpg\n",
            "INFO:     168.226.85.113:0 - \"POST /image HTTP/1.1\" 200 OK\n"
          ]
        },
        {
          "output_type": "stream",
          "name": "stderr",
          "text": [
            "[2023-08-15 20:11:52] INFO - process.py - t=2023-08-15T20:11:52+0000 lvl=info msg=\"received stop request\" obj=app stopReq=\"{err:<nil> restart:false}\"\n",
            "[2023-08-15 20:11:52] INFO - process.py - t=2023-08-15T20:11:52+0000 lvl=info msg=\"session closing\" obj=tunnels.session err=nil\n",
            "INFO:     Shutting down\n",
            "INFO:     Waiting for application shutdown.\n",
            "INFO:     Application shutdown complete.\n"
          ]
        }
      ]
    },
    {
      "cell_type": "markdown",
      "source": [
        "## Prueba del Save y del Path - Test de que funciona"
      ],
      "metadata": {
        "id": "ZsFjKmvfwzjR"
      }
    },
    {
      "cell_type": "code",
      "source": [
        "BASE_64 = \",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\""
      ],
      "metadata": {
        "id": "zln2MjNMueYc"
      },
      "execution_count": 11,
      "outputs": []
    },
    {
      "cell_type": "code",
      "source": [
        "im = Image.open(BytesIO(base64.b64decode(BASE_64)))\n",
        "im.save(ROOT_DIR + SAVE_PATH + \"/Resultado.jpg\")\n",
        "print(ROOT_DIR + SAVE_PATH + \"/Resultado.jpg\")"
      ],
      "metadata": {
        "id": "LT-MVN40upF8"
      },
      "execution_count": 16,
      "outputs": []
    },
    {
      "cell_type": "code",
      "source": [
        "path = ROOT_DIR + SAVE_PATH + \"/Resultado.jpg\"\n",
        "print(path)\n",
        "out = model.predict(path)\n",
        "print(out)"
      ],
      "metadata": {
        "id": "FFKjeQYsg5Lj"
      },
      "execution_count": null,
      "outputs": []
    },
    {
      "cell_type": "markdown",
      "source": [
        "# Prueba con Webcam"
      ],
      "metadata": {
        "id": "VtkEZs4BRzay"
      }
    },
    {
      "cell_type": "code",
      "source": [
        "results = model.predict_webcam()\n",
        "print(results)"
      ],
      "metadata": {
        "id": "kQhpl7zQCajr"
      },
      "execution_count": null,
      "outputs": []
    },
    {
      "cell_type": "markdown",
      "source": [
        "## Otros Intentos"
      ],
      "metadata": {
        "id": "Pu22GlgQR4xJ"
      }
    },
    {
      "cell_type": "code",
      "source": [
        "!pip install pyvirtualdisplay\n",
        "!pip install opencv-python"
      ],
      "metadata": {
        "id": "x8qWZFrFyl30"
      },
      "execution_count": null,
      "outputs": []
    },
    {
      "cell_type": "code",
      "source": [
        "from IPython.display import display\n",
        "from pyvirtualdisplay import Display\n",
        "\n",
        "from ipywebrtc import CameraStream\n",
        "from PIL import Image\n",
        "import CameraStream, ImageRecorder"
      ],
      "metadata": {
        "id": "_8dSaSeTSnUD"
      },
      "execution_count": null,
      "outputs": []
    },
    {
      "cell_type": "code",
      "source": [
        "display = Display(visible=0, size=(400, 300))\n",
        "display.start()"
      ],
      "metadata": {
        "id": "BG7hhHXCyu5s"
      },
      "execution_count": null,
      "outputs": []
    },
    {
      "cell_type": "code",
      "source": [
        "cap = cv2.VideoCapture(0)\n",
        "while True:\n",
        "  if frame is not None and not frame.empty():\n",
        "    ret, frame = cap.read()\n",
        "    bgr_frame = cv2.cvtColor(frame, cv2.COLOR_RGB2BGR)  # Assuming frame is in RGB color space\n",
        "    cv2.imshow('Frame', bgr_frame)\n",
        "    #cv2.imshow(frame)\n",
        "  else:\n",
        "    print(\"Empty frame! Check webcam access or frame capturing.\")\n",
        "\n",
        "cap.release()\n",
        "cv2.destroyAllWindows()"
      ],
      "metadata": {
        "id": "vw3BFqbdruiT"
      },
      "execution_count": null,
      "outputs": []
    },
    {
      "cell_type": "code",
      "source": [
        "cap = cv2.VideoCapture(0) # says we capture an image from a webcam\n",
        "if not cap.isOpened():\n",
        "    print(\"Error: Unable to access the webcam.\")\n",
        "ret, frame = cap.read()\n",
        "\n",
        "if not ret:\n",
        "  frame_rgb = cv2.cvtColor(frame, cv2.COLOR_BGR2RGB)\n",
        "\n",
        "\n",
        "pil_im = Image.fromarray(cv2_im)\n",
        "pil_im.show()"
      ],
      "metadata": {
        "id": "mYb7fJghs9OM"
      },
      "execution_count": null,
      "outputs": []
    },
    {
      "cell_type": "code",
      "source": [
        "cam_stream = CameraStream(constraints={'facing_mode': 'user'}, video=True, audio=False)\n"
      ],
      "metadata": {
        "id": "hrB1Rc2ZwoEc"
      },
      "execution_count": null,
      "outputs": []
    }
  ]
}