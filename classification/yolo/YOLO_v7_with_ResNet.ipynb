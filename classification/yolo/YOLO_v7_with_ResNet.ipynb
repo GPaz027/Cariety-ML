{
 "cells": [
  {
   "cell_type": "markdown",
   "id": "b6ce7a43",
   "metadata": {},
   "source": [
    "# YOLO v7 CARIETY - Utilizacion\n",
    "## Carga y utilizacion del modelo ya entrenado"
   ]
  },
  {
   "cell_type": "markdown",
   "id": "955c1c34",
   "metadata": {},
   "source": [
    "## Instalar dependencias"
   ]
  },
  {
   "cell_type": "code",
   "execution_count": 1,
   "id": "171c69b2",
   "metadata": {},
   "outputs": [
    {
     "name": "stdout",
     "output_type": "stream",
     "text": [
      "Requirement already satisfied: matplotlib>=3.2.2 in c:\\users\\nico\\anaconda3\\lib\\site-packages (from -r requirements.txt (line 4)) (3.7.0)\n",
      "Requirement already satisfied: numpy>=1.18.5 in c:\\users\\nico\\anaconda3\\lib\\site-packages (from -r requirements.txt (line 5)) (1.25.2)\n",
      "Requirement already satisfied: opencv-python>=4.1.1 in c:\\users\\nico\\anaconda3\\lib\\site-packages (from -r requirements.txt (line 6)) (4.8.0.76)\n",
      "Requirement already satisfied: Pillow>=7.1.2 in c:\\users\\nico\\anaconda3\\lib\\site-packages (from -r requirements.txt (line 7)) (9.3.0)\n",
      "Requirement already satisfied: PyYAML>=5.3.1 in c:\\users\\nico\\anaconda3\\lib\\site-packages (from -r requirements.txt (line 8)) (6.0)\n",
      "Requirement already satisfied: requests>=2.23.0 in c:\\users\\nico\\anaconda3\\lib\\site-packages (from -r requirements.txt (line 9)) (2.31.0)\n",
      "Requirement already satisfied: scipy>=1.4.1 in c:\\users\\nico\\anaconda3\\lib\\site-packages (from -r requirements.txt (line 10)) (1.10.0)\n",
      "Requirement already satisfied: torch!=1.12.0,>=1.7.0 in c:\\users\\nico\\anaconda3\\lib\\site-packages (from -r requirements.txt (line 11)) (2.0.1+cu117)\n",
      "Requirement already satisfied: torchvision!=0.13.0,>=0.8.1 in c:\\users\\nico\\anaconda3\\lib\\site-packages (from -r requirements.txt (line 12)) (0.15.2+cu117)\n",
      "Requirement already satisfied: tqdm>=4.41.0 in c:\\users\\nico\\anaconda3\\lib\\site-packages (from -r requirements.txt (line 13)) (4.64.1)\n",
      "Requirement already satisfied: protobuf<4.21.3 in c:\\users\\nico\\anaconda3\\lib\\site-packages (from -r requirements.txt (line 14)) (3.20.3)\n",
      "Requirement already satisfied: tensorboard>=2.4.1 in c:\\users\\nico\\anaconda3\\lib\\site-packages (from -r requirements.txt (line 17)) (2.13.0)\n",
      "Requirement already satisfied: pandas>=1.1.4 in c:\\users\\nico\\anaconda3\\lib\\site-packages (from -r requirements.txt (line 21)) (1.5.3)\n",
      "Requirement already satisfied: seaborn>=0.11.0 in c:\\users\\nico\\anaconda3\\lib\\site-packages (from -r requirements.txt (line 22)) (0.12.2)\n",
      "Requirement already satisfied: ipython in c:\\users\\nico\\anaconda3\\lib\\site-packages (from -r requirements.txt (line 34)) (8.10.0)\n",
      "Requirement already satisfied: psutil in c:\\users\\nico\\anaconda3\\lib\\site-packages (from -r requirements.txt (line 35)) (5.9.0)\n",
      "Requirement already satisfied: thop in c:\\users\\nico\\anaconda3\\lib\\site-packages (from -r requirements.txt (line 36)) (0.1.1.post2209072238)\n",
      "Requirement already satisfied: contourpy>=1.0.1 in c:\\users\\nico\\anaconda3\\lib\\site-packages (from matplotlib>=3.2.2->-r requirements.txt (line 4)) (1.0.5)\n",
      "Requirement already satisfied: cycler>=0.10 in c:\\users\\nico\\anaconda3\\lib\\site-packages (from matplotlib>=3.2.2->-r requirements.txt (line 4)) (0.11.0)\n",
      "Requirement already satisfied: fonttools>=4.22.0 in c:\\users\\nico\\anaconda3\\lib\\site-packages (from matplotlib>=3.2.2->-r requirements.txt (line 4)) (4.25.0)\n",
      "Requirement already satisfied: kiwisolver>=1.0.1 in c:\\users\\nico\\anaconda3\\lib\\site-packages (from matplotlib>=3.2.2->-r requirements.txt (line 4)) (1.4.4)\n",
      "Requirement already satisfied: packaging>=20.0 in c:\\users\\nico\\anaconda3\\lib\\site-packages (from matplotlib>=3.2.2->-r requirements.txt (line 4)) (22.0)\n",
      "Requirement already satisfied: pyparsing>=2.3.1 in c:\\users\\nico\\anaconda3\\lib\\site-packages (from matplotlib>=3.2.2->-r requirements.txt (line 4)) (3.0.9)\n",
      "Requirement already satisfied: python-dateutil>=2.7 in c:\\users\\nico\\anaconda3\\lib\\site-packages (from matplotlib>=3.2.2->-r requirements.txt (line 4)) (2.8.1)\n",
      "Requirement already satisfied: charset-normalizer<4,>=2 in c:\\users\\nico\\anaconda3\\lib\\site-packages (from requests>=2.23.0->-r requirements.txt (line 9)) (2.0.4)\n",
      "Requirement already satisfied: idna<4,>=2.5 in c:\\users\\nico\\anaconda3\\lib\\site-packages (from requests>=2.23.0->-r requirements.txt (line 9)) (3.4)\n",
      "Requirement already satisfied: urllib3<3,>=1.21.1 in c:\\users\\nico\\anaconda3\\lib\\site-packages (from requests>=2.23.0->-r requirements.txt (line 9)) (1.26.14)\n",
      "Requirement already satisfied: certifi>=2017.4.17 in c:\\users\\nico\\anaconda3\\lib\\site-packages (from requests>=2.23.0->-r requirements.txt (line 9)) (2022.12.7)\n",
      "Requirement already satisfied: filelock in c:\\users\\nico\\anaconda3\\lib\\site-packages (from torch!=1.12.0,>=1.7.0->-r requirements.txt (line 11)) (3.9.0)\n",
      "Requirement already satisfied: typing-extensions in c:\\users\\nico\\anaconda3\\lib\\site-packages (from torch!=1.12.0,>=1.7.0->-r requirements.txt (line 11)) (4.7.1)\n",
      "Requirement already satisfied: sympy in c:\\users\\nico\\anaconda3\\lib\\site-packages (from torch!=1.12.0,>=1.7.0->-r requirements.txt (line 11)) (1.11.1)\n",
      "Requirement already satisfied: networkx in c:\\users\\nico\\anaconda3\\lib\\site-packages (from torch!=1.12.0,>=1.7.0->-r requirements.txt (line 11)) (2.8.4)\n",
      "Requirement already satisfied: jinja2 in c:\\users\\nico\\anaconda3\\lib\\site-packages (from torch!=1.12.0,>=1.7.0->-r requirements.txt (line 11)) (3.1.2)\n",
      "Requirement already satisfied: colorama in c:\\users\\nico\\anaconda3\\lib\\site-packages (from tqdm>=4.41.0->-r requirements.txt (line 13)) (0.4.6)\n",
      "Requirement already satisfied: absl-py>=0.4 in c:\\users\\nico\\anaconda3\\lib\\site-packages (from tensorboard>=2.4.1->-r requirements.txt (line 17)) (1.4.0)\n",
      "Requirement already satisfied: grpcio>=1.48.2 in c:\\users\\nico\\anaconda3\\lib\\site-packages (from tensorboard>=2.4.1->-r requirements.txt (line 17)) (1.56.2)\n",
      "Requirement already satisfied: google-auth<3,>=1.6.3 in c:\\users\\nico\\anaconda3\\lib\\site-packages (from tensorboard>=2.4.1->-r requirements.txt (line 17)) (2.22.0)\n",
      "Requirement already satisfied: google-auth-oauthlib<1.1,>=0.5 in c:\\users\\nico\\anaconda3\\lib\\site-packages (from tensorboard>=2.4.1->-r requirements.txt (line 17)) (1.0.0)\n",
      "Requirement already satisfied: markdown>=2.6.8 in c:\\users\\nico\\anaconda3\\lib\\site-packages (from tensorboard>=2.4.1->-r requirements.txt (line 17)) (3.4.1)\n",
      "Requirement already satisfied: setuptools>=41.0.0 in c:\\users\\nico\\anaconda3\\lib\\site-packages (from tensorboard>=2.4.1->-r requirements.txt (line 17)) (68.0.0)\n",
      "Requirement already satisfied: tensorboard-data-server<0.8.0,>=0.7.0 in c:\\users\\nico\\anaconda3\\lib\\site-packages (from tensorboard>=2.4.1->-r requirements.txt (line 17)) (0.7.1)\n",
      "Requirement already satisfied: werkzeug>=1.0.1 in c:\\users\\nico\\anaconda3\\lib\\site-packages (from tensorboard>=2.4.1->-r requirements.txt (line 17)) (2.2.2)\n",
      "Requirement already satisfied: wheel>=0.26 in c:\\users\\nico\\anaconda3\\lib\\site-packages (from tensorboard>=2.4.1->-r requirements.txt (line 17)) (0.41.1)\n",
      "Requirement already satisfied: pytz>=2020.1 in c:\\users\\nico\\anaconda3\\lib\\site-packages (from pandas>=1.1.4->-r requirements.txt (line 21)) (2022.7)\n",
      "Requirement already satisfied: backcall in c:\\users\\nico\\anaconda3\\lib\\site-packages (from ipython->-r requirements.txt (line 34)) (0.2.0)\n",
      "Requirement already satisfied: decorator in c:\\users\\nico\\anaconda3\\lib\\site-packages (from ipython->-r requirements.txt (line 34)) (5.1.1)\n",
      "Requirement already satisfied: jedi>=0.16 in c:\\users\\nico\\anaconda3\\lib\\site-packages (from ipython->-r requirements.txt (line 34)) (0.18.1)\n",
      "Requirement already satisfied: matplotlib-inline in c:\\users\\nico\\anaconda3\\lib\\site-packages (from ipython->-r requirements.txt (line 34)) (0.1.6)\n",
      "Requirement already satisfied: pickleshare in c:\\users\\nico\\anaconda3\\lib\\site-packages (from ipython->-r requirements.txt (line 34)) (0.7.5)\n",
      "Requirement already satisfied: prompt-toolkit<3.1.0,>=3.0.30 in c:\\users\\nico\\anaconda3\\lib\\site-packages (from ipython->-r requirements.txt (line 34)) (3.0.36)\n",
      "Requirement already satisfied: pygments>=2.4.0 in c:\\users\\nico\\anaconda3\\lib\\site-packages (from ipython->-r requirements.txt (line 34)) (2.11.2)\n",
      "Requirement already satisfied: stack-data in c:\\users\\nico\\anaconda3\\lib\\site-packages (from ipython->-r requirements.txt (line 34)) (0.2.0)\n",
      "Requirement already satisfied: traitlets>=5 in c:\\users\\nico\\anaconda3\\lib\\site-packages (from ipython->-r requirements.txt (line 34)) (5.7.1)\n",
      "Requirement already satisfied: cachetools<6.0,>=2.0.0 in c:\\users\\nico\\anaconda3\\lib\\site-packages (from google-auth<3,>=1.6.3->tensorboard>=2.4.1->-r requirements.txt (line 17)) (5.3.1)\n",
      "Requirement already satisfied: pyasn1-modules>=0.2.1 in c:\\users\\nico\\anaconda3\\lib\\site-packages (from google-auth<3,>=1.6.3->tensorboard>=2.4.1->-r requirements.txt (line 17)) (0.2.8)\n",
      "Requirement already satisfied: rsa<5,>=3.1.4 in c:\\users\\nico\\anaconda3\\lib\\site-packages (from google-auth<3,>=1.6.3->tensorboard>=2.4.1->-r requirements.txt (line 17)) (4.9)\n",
      "Requirement already satisfied: six>=1.9.0 in c:\\users\\nico\\anaconda3\\lib\\site-packages (from google-auth<3,>=1.6.3->tensorboard>=2.4.1->-r requirements.txt (line 17)) (1.16.0)\n",
      "Requirement already satisfied: requests-oauthlib>=0.7.0 in c:\\users\\nico\\anaconda3\\lib\\site-packages (from google-auth-oauthlib<1.1,>=0.5->tensorboard>=2.4.1->-r requirements.txt (line 17)) (1.3.1)\n",
      "Requirement already satisfied: parso<0.9.0,>=0.8.0 in c:\\users\\nico\\anaconda3\\lib\\site-packages (from jedi>=0.16->ipython->-r requirements.txt (line 34)) (0.8.3)\n",
      "Requirement already satisfied: wcwidth in c:\\users\\nico\\anaconda3\\lib\\site-packages (from prompt-toolkit<3.1.0,>=3.0.30->ipython->-r requirements.txt (line 34)) (0.2.5)\n",
      "Requirement already satisfied: MarkupSafe>=2.1.1 in c:\\users\\nico\\anaconda3\\lib\\site-packages (from werkzeug>=1.0.1->tensorboard>=2.4.1->-r requirements.txt (line 17)) (2.1.1)\n",
      "Requirement already satisfied: executing in c:\\users\\nico\\anaconda3\\lib\\site-packages (from stack-data->ipython->-r requirements.txt (line 34)) (0.8.3)\n",
      "Requirement already satisfied: asttokens in c:\\users\\nico\\anaconda3\\lib\\site-packages (from stack-data->ipython->-r requirements.txt (line 34)) (2.0.5)\n",
      "Requirement already satisfied: pure-eval in c:\\users\\nico\\anaconda3\\lib\\site-packages (from stack-data->ipython->-r requirements.txt (line 34)) (0.2.2)\n",
      "Requirement already satisfied: mpmath>=0.19 in c:\\users\\nico\\anaconda3\\lib\\site-packages (from sympy->torch!=1.12.0,>=1.7.0->-r requirements.txt (line 11)) (1.2.1)\n",
      "Requirement already satisfied: pyasn1<0.5.0,>=0.4.6 in c:\\users\\nico\\anaconda3\\lib\\site-packages (from pyasn1-modules>=0.2.1->google-auth<3,>=1.6.3->tensorboard>=2.4.1->-r requirements.txt (line 17)) (0.4.8)\n",
      "Requirement already satisfied: oauthlib>=3.0.0 in c:\\users\\nico\\anaconda3\\lib\\site-packages (from requests-oauthlib>=0.7.0->google-auth-oauthlib<1.1,>=0.5->tensorboard>=2.4.1->-r requirements.txt (line 17)) (3.2.2)\n",
      "Note: you may need to restart the kernel to use updated packages.\n"
     ]
    }
   ],
   "source": [
    "pip install -r requirements.txt"
   ]
  },
  {
   "cell_type": "markdown",
   "id": "3aa756b3",
   "metadata": {
    "id": "xyT_nZvtRjux"
   },
   "source": [
    "## Importar librerias necesarias"
   ]
  },
  {
   "cell_type": "code",
   "execution_count": 2,
   "id": "51f8cfd4",
   "metadata": {},
   "outputs": [],
   "source": [
    "import sys\n",
    "import cv2\n",
    "import torch\n",
    "import numpy as np\n",
    "from numpy import random\n",
    "\n",
    "sys.path.append('./model')\n",
    "from models.experimental import attempt_load\n",
    "from utils.general import check_img_size, non_max_suppression, scale_coords, set_logging\n",
    "from utils.plots import plot_one_box\n",
    "from utils.torch_utils import select_device, time_synchronized\n",
    "\n",
    "from fastapi import FastAPI\n",
    "\n",
    "from pydantic import BaseModel\n",
    "import base64\n",
    "import PIL\n",
    "from io import BytesIO\n",
    "\n",
    "import requests\n",
    "\n",
    "import tensorflow as tf\n",
    "import tensorflow_hub as hub\n",
    "import numpy as np\n",
    "import base64\n",
    "\n",
    "from fastapi import FastAPI\n",
    "from pydantic import BaseModel"
   ]
  },
  {
   "cell_type": "markdown",
   "id": "b5fb2777",
   "metadata": {
    "id": "KP86q6_2SzgC"
   },
   "source": [
    "## Definicion de Variables de entorno"
   ]
  },
  {
   "cell_type": "code",
   "execution_count": 3,
   "id": "1bffb0af",
   "metadata": {},
   "outputs": [],
   "source": [
    "ROOT_DIR = './'\n",
    "SAVE_PATH = '/saved_images_temp'\n",
    "BATCH_SIZE = 32\n",
    "IMG_SIZE = 224\n",
    "\n",
    "source_image_path = 'good1.jpeg'\n",
    "custom_data_path = 'custom_data.yaml'\n",
    "weights_path = 'best.pt'\n",
    "\n",
    "device = torch.device(\"cuda:0\") if torch.cuda.is_available() else torch.device(\"cpu\")\n",
    "\n",
    "\n",
    "unique_labels = ['bad', 'good']\n",
    "\n",
    "class UserInput(BaseModel):\n",
    "    user_input: str"
   ]
  },
  {
   "cell_type": "markdown",
   "id": "aae399b6",
   "metadata": {},
   "source": [
    "## Definicion de Funciones para YOLO v7"
   ]
  },
  {
   "cell_type": "code",
   "execution_count": 4,
   "id": "ac107ec8",
   "metadata": {},
   "outputs": [],
   "source": [
    "def letterbox(img, new_shape=(640, 640), color=(114, 114, 114), auto=True, scaleFill=False, scaleup=True, stride=32):\n",
    "    # Resize and pad image while meeting stride-multiple constraints\n",
    "    shape = img.shape[:2]  # current shape [height, width]\n",
    "    if isinstance(new_shape, int):\n",
    "        new_shape = (new_shape, new_shape)\n",
    "\n",
    "    # Scale ratio (new / old)\n",
    "    r = min(new_shape[0] / shape[0], new_shape[1] / shape[1])\n",
    "    if not scaleup:  # only scale down, do not scale up (for better test mAP)\n",
    "        r = min(r, 1.0)\n",
    "\n",
    "    # Compute padding\n",
    "    ratio = r, r  # width, height ratios\n",
    "    new_unpad = int(round(shape[1] * r)), int(round(shape[0] * r))\n",
    "    dw, dh = new_shape[1] - new_unpad[0], new_shape[0] - new_unpad[1]  # wh padding\n",
    "    if auto:  # minimum rectangle\n",
    "        dw, dh = np.mod(dw, stride), np.mod(dh, stride)  # wh padding\n",
    "    elif scaleFill:  # stretch\n",
    "        dw, dh = 0.0, 0.0\n",
    "        new_unpad = (new_shape[1], new_shape[0])\n",
    "        ratio = new_shape[1] / shape[1], new_shape[0] / shape[0]  # width, height ratios\n",
    "\n",
    "    dw /= 2  # divide padding into 2 sides\n",
    "    dh /= 2\n",
    "\n",
    "    if shape[::-1] != new_unpad:  # resize\n",
    "        img = cv2.resize(img, new_unpad, interpolation=cv2.INTER_LINEAR)\n",
    "    top, bottom = int(round(dh - 0.1)), int(round(dh + 0.1))\n",
    "    left, right = int(round(dw - 0.1)), int(round(dw + 0.1))\n",
    "    img = cv2.copyMakeBorder(img, top, bottom, left, right, cv2.BORDER_CONSTANT, value=color)  # add border\n",
    "    return img, ratio, (dw, dh)"
   ]
  },
  {
   "cell_type": "code",
   "execution_count": 5,
   "id": "eb8c4055",
   "metadata": {},
   "outputs": [],
   "source": [
    "classes_to_filter = None  #You can give list of classes to filter by name, Be happy you don't have to put class number. ['train','person' ]\n",
    "\n",
    "opt  = {\n",
    "\n",
    "    \"weights\": weights_path, # Path to weights file default weights are for nano model\n",
    "    \"yaml\"   : custom_data_path,\n",
    "    \"img-size\": 640, # default image size\n",
    "    \"conf-thres\": 0.25, # confidence threshold for inference.\n",
    "    \"iou-thres\" : 0.45, # NMS IoU threshold for inference.\n",
    "    \"device\" : '0',  # device to run our model i.e. 0 or 0,1,2,3 or cpu\n",
    "    \"classes\" : classes_to_filter  # list of classes to filter or None\n",
    "}"
   ]
  },
  {
   "cell_type": "code",
   "execution_count": 6,
   "id": "f048f4c5",
   "metadata": {},
   "outputs": [],
   "source": [
    "def save_image(base_64_image, relative_save_path):\n",
    "    image_path = ROOT_DIR + relative_save_path + \"/Resultado.jpg\"\n",
    "    im = PIL.Image.open(BytesIO(base64.b64decode(base_64_image)))\n",
    "    im.save(ROOT_DIR + relative_save_path + \"/Resultado.jpg\")\n",
    "    return image_path"
   ]
  },
  {
   "cell_type": "code",
   "execution_count": 7,
   "id": "110d4e7a",
   "metadata": {},
   "outputs": [],
   "source": [
    "def get_image_position_if_valid(box):\n",
    "    \"\"\"El parametro model_prediction es un ImagesDetectionPrediction que sale directamente del model.predict()\"\"\"\n",
    "    IMG_MEDIUM = 512/2\n",
    "    \n",
    "    medium_point = (box[0]+box[2])/2\n",
    "    if (True  or (medium_point < IMG_MEDIUM + 10 and medium_point > IMG_MEDIUM - 10)):\n",
    "        #string =Restnet.classify\n",
    "        return box\n",
    "    else:\n",
    "        return []"
   ]
  },
  {
   "cell_type": "code",
   "execution_count": 8,
   "id": "ac5d881e",
   "metadata": {},
   "outputs": [],
   "source": [
    "def predict_image(path, model):\n",
    "    \n",
    "    weights, imgsz = opt['weights'], opt['img-size']\n",
    "    device = select_device(opt['device'])\n",
    "    stride = int(model.stride.max())  # model stride\n",
    "    imgsz = check_img_size(imgsz, s=stride)  # check img_size\n",
    "    half = device.type != 'cpu'\n",
    "    names = model.module.names if hasattr(model, 'module') else model.names\n",
    "    colors = [[random.randint(0, 255) for _ in range(3)] for _ in names]\n",
    "    \n",
    "    img0 = cv2.imread(path)\n",
    "    img = letterbox(img0, imgsz, stride=stride)[0]\n",
    "    img = img[:, :, ::-1].transpose(2, 0, 1)  # BGR to RGB, to 3x416x416\n",
    "    img = np.ascontiguousarray(img)\n",
    "    img = torch.from_numpy(img).to(device)\n",
    "    img = img.half() if half else img.float()  # uint8 to fp16/32\n",
    "    img /= 255.0  # 0 - 255 to 0.0 - 1.0\n",
    "    if img.ndimension() == 3:\n",
    "        img = img.unsqueeze(0)\n",
    "        \n",
    "    # Inference\n",
    "    t1 = time_synchronized()\n",
    "    pred = model(img, augment= False)[0]\n",
    "    \n",
    "    # Apply NMS\n",
    "    classes = None\n",
    "    if opt['classes']:\n",
    "        classes = []\n",
    "        for class_name in opt['classes']:\n",
    "            classes.append(opt['classes'].index(class_name))\n",
    "            \n",
    "    pred = non_max_suppression(pred, opt['conf-thres'], opt['iou-thres'], classes= classes, agnostic= False)\n",
    "    t2 = time_synchronized()\n",
    "    for i, det in enumerate(pred):\n",
    "        s = ''\n",
    "        s += '%gx%g ' % img.shape[2:]  # print string\n",
    "        gn = torch.tensor(img0.shape)[[1, 0, 1, 0]]\n",
    "        if len(det):\n",
    "            det[:, :4] = scale_coords(img.shape[2:], det[:, :4], img0.shape).round()\n",
    "            \n",
    "            for c in det[:, -1].unique():\n",
    "                n = (det[:, -1] == c).sum()  # detections per class\n",
    "                s += f\"{n} {names[int(c)]}{'s' * (n > 1)}, \"  # add to string\n",
    "                \n",
    "            for *xyxy, conf, cls in reversed(det):\n",
    "                print(*xyxy)\n",
    "                label = f'{names[int(cls)]} {conf:.2f}'\n",
    "                plot_one_box(xyxy, img0, label=label, color=colors[int(cls)], line_thickness=3)\n",
    "                x1, y1, x2, y2 = xyxy[0].item(), xyxy[1].item(), xyxy[2].item(), xyxy[3].item()\n",
    "            return [x1, y1, x2, y2]"
   ]
  },
  {
   "cell_type": "markdown",
   "id": "5f36b862",
   "metadata": {},
   "source": [
    "## Funcion de Carga del Modelo YOLO v7"
   ]
  },
  {
   "cell_type": "code",
   "execution_count": 9,
   "id": "236a4597",
   "metadata": {},
   "outputs": [],
   "source": [
    "def load_model():\n",
    "    with torch.no_grad():\n",
    "        weights, imgsz = opt['weights'], opt['img-size']\n",
    "        set_logging()\n",
    "        device = select_device(opt['device'])\n",
    "        half = device.type != 'cpu'\n",
    "        model = attempt_load(weights, map_location=device)  # load FP32 model\n",
    "        stride = int(model.stride.max())  # model stride\n",
    "        imgsz = check_img_size(imgsz, s=stride)  # check img_size\n",
    "        if half:\n",
    "            model.half()\n",
    "            \n",
    "        names = model.module.names if hasattr(model, 'module') else model.names\n",
    "        colors = [[random.randint(0, 255) for _ in range(3)] for _ in names]\n",
    "        if device.type != 'cpu':\n",
    "            model(torch.zeros(1, 3, imgsz, imgsz).to(device).type_as(next(model.parameters())))\n",
    "        return model"
   ]
  },
  {
   "cell_type": "markdown",
   "id": "1afbe3a9",
   "metadata": {},
   "source": [
    "## Metodos para Algoritmo de Clasificacion - ResNet"
   ]
  },
  {
   "cell_type": "code",
   "execution_count": 10,
   "id": "0397f0d4",
   "metadata": {},
   "outputs": [],
   "source": [
    "def get_predicted_label(prediction_probabilities):\n",
    "  \"\"\"\n",
    "  Recibe un array de probabilidades y matchea la más alta con la label correspondiente.\n",
    "  \"\"\"\n",
    "  return unique_labels[np.argmax(prediction_probabilities)]"
   ]
  },
  {
   "cell_type": "code",
   "execution_count": 11,
   "id": "82996611",
   "metadata": {},
   "outputs": [],
   "source": [
    "def preprocess_image(img_path, img_size=IMG_SIZE):\n",
    "    \"\"\"\n",
    "    Recibe un path de una imagen y convierte a la misma en un Tensor.\n",
    "    \"\"\"\n",
    "    \n",
    "    image = tf.io.read_file(img_path)\n",
    "    image = tf.image.decode_jpeg(image, channels=3) \n",
    "    image = tf.image.convert_image_dtype(image, tf.float32)\n",
    "    image = tf.image.resize(image, size=[img_size, img_size])\n",
    "    return image"
   ]
  },
  {
   "cell_type": "code",
   "execution_count": 12,
   "id": "e71360bc",
   "metadata": {},
   "outputs": [],
   "source": [
    "def create_img_batches(X, batch_size=BATCH_SIZE):\n",
    "    \"\"\"\n",
    "    Crea batches a partir de una imagen (X) y su label (y).\n",
    "    Si se trata de imágenes de entrenamiento, randomiza a la misma. No lo hará si se trata de validación.\n",
    "    Acepta imágenes del dataset de test (no hay labels).\n",
    "    \"\"\"\n",
    "    print(\"Creando batches de test...\")\n",
    "    data = tf.data.Dataset.from_tensor_slices(tf.constant(X)) # Constant devuelve un Tensor constante. from_tensor_slices crea un Dataset cuyos elementos son slices del tensor pasado como parámetro.\n",
    "    data_batch = data.map(preprocess_image).batch(batch_size)\n",
    "    return data_batch"
   ]
  },
  {
   "cell_type": "markdown",
   "id": "a2093803",
   "metadata": {},
   "source": [
    "## Metodo de Clasificacion"
   ]
  },
  {
   "cell_type": "code",
   "execution_count": 13,
   "id": "079ea618",
   "metadata": {},
   "outputs": [],
   "source": [
    "def classify_image(path):\n",
    "    custom_data = create_img_batches(path)\n",
    "    \n",
    "    prediction = MODEL.predict(custom_data)\n",
    "\n",
    "    custom_prediction_labels = [get_predicted_label(prediction[i]) for i in range(len(prediction))]\n",
    "\n",
    "    return custom_prediction_labels"
   ]
  },
  {
   "cell_type": "markdown",
   "id": "c79bbf4c",
   "metadata": {},
   "source": [
    "## Carga de YOLO v7"
   ]
  },
  {
   "cell_type": "code",
   "execution_count": 14,
   "id": "e3e6ffff",
   "metadata": {},
   "outputs": [
    {
     "name": "stderr",
     "output_type": "stream",
     "text": [
      "YOLOR  2023-8-23 torch 2.0.1+cu117 CUDA:0 (NVIDIA GeForce RTX 2060, 6143.5625MB)\n",
      "\n"
     ]
    },
    {
     "name": "stdout",
     "output_type": "stream",
     "text": [
      "Fusing layers... \n",
      "RepConv.fuse_repvgg_block\n",
      "RepConv.fuse_repvgg_block\n",
      "RepConv.fuse_repvgg_block\n",
      "IDetect.fuse\n"
     ]
    },
    {
     "name": "stderr",
     "output_type": "stream",
     "text": [
      "C:\\Users\\NICO\\anaconda3\\lib\\site-packages\\torch\\functional.py:504: UserWarning: torch.meshgrid: in an upcoming release, it will be required to pass the indexing argument. (Triggered internally at ..\\aten\\src\\ATen\\native\\TensorShape.cpp:3484.)\n",
      "  return _VF.meshgrid(tensors, **kwargs)  # type: ignore[attr-defined]\n",
      "Model Summary: 314 layers, 36481772 parameters, 6194944 gradients, 103.2 GFLOPS\n"
     ]
    }
   ],
   "source": [
    "model = load_model()"
   ]
  },
  {
   "cell_type": "markdown",
   "id": "0e580a51",
   "metadata": {},
   "source": [
    "## Carga de ResNet"
   ]
  },
  {
   "cell_type": "code",
   "execution_count": 15,
   "id": "4a140128",
   "metadata": {},
   "outputs": [
    {
     "name": "stderr",
     "output_type": "stream",
     "text": [
      "Using C:\\Users\\NICO\\AppData\\Local\\Temp\\tfhub_modules to cache modules.\n",
      "Fingerprint not found. Saved model loading will continue.\n"
     ]
    }
   ],
   "source": [
    "MODEL = tf.keras.models.load_model('ResnetModel.h5', custom_objects={\"KerasLayer\":hub.KerasLayer})\n"
   ]
  },
  {
   "cell_type": "markdown",
   "id": "d90f61f8",
   "metadata": {
    "id": "YQLVFOf0RVF4"
   },
   "source": [
    "## Definir llamada al MicroBackend\n",
    "### El problema es que no se puede hacer una llamada al LocalHost desde Google Colab"
   ]
  },
  {
   "cell_type": "code",
   "execution_count": 16,
   "id": "7433a5c5",
   "metadata": {
    "id": "HCnX3cVqRj8q"
   },
   "outputs": [],
   "source": [
    "def send_image_to_microbakend(url, json):\n",
    "    return requests.post(url, json= json)"
   ]
  },
  {
   "cell_type": "markdown",
   "id": "a8e0c1f2",
   "metadata": {
    "id": "8hNb2li3SCZH"
   },
   "source": [
    "## Definir Endpoints de FastAPI\n"
   ]
  },
  {
   "cell_type": "code",
   "execution_count": 17,
   "id": "04f08747",
   "metadata": {},
   "outputs": [],
   "source": [
    "app = FastAPI()\n",
    "\n",
    "class Image(BaseModel):\n",
    "    base_64: str\n",
    "\n",
    "@app.get(\"/\")\n",
    "async def root():\n",
    "    return {\"message\": \"Hello World\"}\n",
    "\n",
    "@app.post(\"/image\")\n",
    "async def upload_image(image: Image):\n",
    "    base_64 = image.base_64\n",
    "    image_save_base_64 = base_64.split(\",\", 1)[1]\n",
    "    path = save_image(image_save_base_64, SAVE_PATH)\n",
    "\n",
    "\n",
    "    out = predict_image(path, model)\n",
    "    box = get_image_position_if_valid(out)\n",
    "    print(\"Prediccion completa: \")\n",
    "    print(box)\n",
    "    if box: #not y un array es preguntar si el array esta vacio\n",
    "        print(\"Aca llega\")\n",
    "        print(path)\n",
    "        prediction = classify_image([path])\n",
    "        print(prediction)\n",
    "        print(\"Llamando a la API\")\n",
    "        MICROBACKEND_URL = 'http://localhost:3000/image'\n",
    "        json = {\"base_64\": base_64, \"box\": box, \"prediction\": prediction[0]}\n",
    "\n",
    "        status_code = send_image_to_microbakend(MICROBACKEND_URL, json)\n",
    "        print(status_code)\n",
    "\n",
    "        return { \"base_64\": base_64, \"box\": box, \"prediction\": prediction[0]}\n",
    "        #out.save( ROOT_DIR)\n",
    "    else:\n",
    "        return \"Imagen Invalida\"\n"
   ]
  },
  {
   "cell_type": "markdown",
   "id": "9a391446",
   "metadata": {},
   "source": [
    "## Prueba de Funcionalidad Local"
   ]
  },
  {
   "cell_type": "code",
   "execution_count": 18,
   "id": "0214ba0c",
   "metadata": {
    "scrolled": true
   },
   "outputs": [
    {
     "name": "stderr",
     "output_type": "stream",
     "text": [
      "YOLOR  2023-8-23 torch 2.0.1+cu117 CUDA:0 (NVIDIA GeForce RTX 2060, 6143.5625MB)\n",
      "\n"
     ]
    },
    {
     "name": "stdout",
     "output_type": "stream",
     "text": [
      "tensor(69., device='cuda:0', grad_fn=<UnbindBackward0>) tensor(9., device='cuda:0', grad_fn=<UnbindBackward0>) tensor(229., device='cuda:0', grad_fn=<UnbindBackward0>) tensor(184., device='cuda:0', grad_fn=<UnbindBackward0>)\n",
      "[69.0, 9.0, 229.0, 184.0]\n"
     ]
    }
   ],
   "source": [
    "path = 'good1.jpeg'\n",
    "out = predict_image(path, model)\n",
    "box = get_image_position_if_valid(out)\n",
    "print(box)"
   ]
  },
  {
   "cell_type": "code",
   "execution_count": null,
   "id": "48bfc34b",
   "metadata": {},
   "outputs": [],
   "source": []
  }
 ],
 "metadata": {
  "kernelspec": {
   "display_name": "Python 3 (ipykernel)",
   "language": "python",
   "name": "python3"
  },
  "language_info": {
   "codemirror_mode": {
    "name": "ipython",
    "version": 3
   },
   "file_extension": ".py",
   "mimetype": "text/x-python",
   "name": "python",
   "nbconvert_exporter": "python",
   "pygments_lexer": "ipython3",
   "version": "3.10.9"
  }
 },
 "nbformat": 4,
 "nbformat_minor": 5
}
