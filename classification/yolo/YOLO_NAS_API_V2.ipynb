{
  "nbformat": 4,
  "nbformat_minor": 0,
  "metadata": {
    "colab": {
      "provenance": [],
      "collapsed_sections": [
        "sU6k1YlWUXri",
        "ZsFjKmvfwzjR",
        "VtkEZs4BRzay",
        "Pu22GlgQR4xJ"
      ],
      "gpuType": "T4",
      "authorship_tag": "ABX9TyMiUKdrNDv/m5H/pQsw53Ot",
      "include_colab_link": true
    },
    "kernelspec": {
      "name": "python3",
      "display_name": "Python 3"
    },
    "language_info": {
      "name": "python"
    },
    "accelerator": "GPU"
  },
  "cells": [
    {
      "cell_type": "markdown",
      "metadata": {
        "id": "view-in-github",
        "colab_type": "text"
      },
      "source": [
        "<a href=\"https://colab.research.google.com/github/GPaz027/Cariety-ML/blob/develop/models/yolo/YOLO_NAS_API_V2.ipynb\" target=\"_parent\"><img src=\"https://colab.research.google.com/assets/colab-badge.svg\" alt=\"Open In Colab\"/></a>"
      ]
    },
    {
      "cell_type": "markdown",
      "source": [
        "# YOLO NAS CARIETY - Utilizacion\n",
        "## Carga y utilizacion del modelo ya entrenado"
      ],
      "metadata": {
        "id": "h_6AklemRGsT"
      }
    },
    {
      "cell_type": "markdown",
      "source": [
        "## Montar Drive"
      ],
      "metadata": {
        "id": "Oh75UeP1RVB0"
      }
    },
    {
      "cell_type": "code",
      "execution_count": 3,
      "metadata": {
        "colab": {
          "base_uri": "https://localhost:8080/"
        },
        "id": "NcCY4c8nBNe4",
        "outputId": "8c4bc76f-0b00-494a-c379-6b34119c9432"
      },
      "outputs": [
        {
          "output_type": "stream",
          "name": "stdout",
          "text": [
            "Drive already mounted at /content/drive; to attempt to forcibly remount, call drive.mount(\"/content/drive\", force_remount=True).\n"
          ]
        }
      ],
      "source": [
        "from google.colab import drive\n",
        "drive.mount('/content/drive')"
      ]
    },
    {
      "cell_type": "markdown",
      "source": [
        "## Instalar super-gradients - Suele tener problemas en local"
      ],
      "metadata": {
        "id": "zp21_PstRZp5"
      }
    },
    {
      "cell_type": "code",
      "execution_count": 4,
      "metadata": {
        "id": "TfmbhKaGYydI",
        "colab": {
          "base_uri": "https://localhost:8080/",
          "height": 1000
        },
        "outputId": "38d7ede0-1130-4917-c47d-00242cd56898"
      },
      "outputs": [
        {
          "output_type": "stream",
          "name": "stdout",
          "text": [
            "Collecting super-gradients\n",
            "  Downloading super_gradients-3.2.0-py3-none-any.whl (6.4 MB)\n",
            "\u001b[2K     \u001b[90m━━━━━━━━━━━━━━━━━━━━━━━━━━━━━━━━━━━━━━━━\u001b[0m \u001b[32m6.4/6.4 MB\u001b[0m \u001b[31m50.3 MB/s\u001b[0m eta \u001b[36m0:00:00\u001b[0m\n",
            "\u001b[?25hRequirement already satisfied: torch>=1.9.0 in /usr/local/lib/python3.10/dist-packages (from super-gradients) (2.0.1+cu118)\n",
            "Requirement already satisfied: tqdm>=4.57.0 in /usr/local/lib/python3.10/dist-packages (from super-gradients) (4.66.1)\n",
            "Collecting boto3>=1.17.15 (from super-gradients)\n",
            "  Downloading boto3-1.28.30-py3-none-any.whl (135 kB)\n",
            "\u001b[2K     \u001b[90m━━━━━━━━━━━━━━━━━━━━━━━━━━━━━━━━━━━━━━\u001b[0m \u001b[32m135.8/135.8 kB\u001b[0m \u001b[31m13.7 MB/s\u001b[0m eta \u001b[36m0:00:00\u001b[0m\n",
            "\u001b[?25hRequirement already satisfied: jsonschema>=3.2.0 in /usr/local/lib/python3.10/dist-packages (from super-gradients) (4.19.0)\n",
            "Collecting Deprecated>=1.2.11 (from super-gradients)\n",
            "  Downloading Deprecated-1.2.14-py2.py3-none-any.whl (9.6 kB)\n",
            "Requirement already satisfied: opencv-python>=4.5.1 in /usr/local/lib/python3.10/dist-packages (from super-gradients) (4.8.0.76)\n",
            "Requirement already satisfied: scipy>=1.6.1 in /usr/local/lib/python3.10/dist-packages (from super-gradients) (1.10.1)\n",
            "Requirement already satisfied: matplotlib>=3.3.4 in /usr/local/lib/python3.10/dist-packages (from super-gradients) (3.7.1)\n",
            "Requirement already satisfied: psutil>=5.8.0 in /usr/local/lib/python3.10/dist-packages (from super-gradients) (5.9.5)\n",
            "Requirement already satisfied: tensorboard>=2.4.1 in /usr/local/lib/python3.10/dist-packages (from super-gradients) (2.12.3)\n",
            "Requirement already satisfied: setuptools>=21.0.0 in /usr/local/lib/python3.10/dist-packages (from super-gradients) (67.7.2)\n",
            "Collecting coverage~=5.3.1 (from super-gradients)\n",
            "  Downloading coverage-5.3.1.tar.gz (684 kB)\n",
            "\u001b[2K     \u001b[90m━━━━━━━━━━━━━━━━━━━━━━━━━━━━━━━━━━━━━━\u001b[0m \u001b[32m684.5/684.5 kB\u001b[0m \u001b[31m48.5 MB/s\u001b[0m eta \u001b[36m0:00:00\u001b[0m\n",
            "\u001b[?25h  Preparing metadata (setup.py) ... \u001b[?25l\u001b[?25hdone\n",
            "Requirement already satisfied: torchvision>=0.10.0 in /usr/local/lib/python3.10/dist-packages (from super-gradients) (0.15.2+cu118)\n",
            "Collecting sphinx~=4.0.2 (from super-gradients)\n",
            "  Downloading Sphinx-4.0.3-py3-none-any.whl (2.9 MB)\n",
            "\u001b[2K     \u001b[90m━━━━━━━━━━━━━━━━━━━━━━━━━━━━━━━━━━━━━━━━\u001b[0m \u001b[32m2.9/2.9 MB\u001b[0m \u001b[31m78.4 MB/s\u001b[0m eta \u001b[36m0:00:00\u001b[0m\n",
            "\u001b[?25hCollecting sphinx-rtd-theme (from super-gradients)\n",
            "  Downloading sphinx_rtd_theme-1.2.2-py2.py3-none-any.whl (2.8 MB)\n",
            "\u001b[2K     \u001b[90m━━━━━━━━━━━━━━━━━━━━━━━━━━━━━━━━━━━━━━━━\u001b[0m \u001b[32m2.8/2.8 MB\u001b[0m \u001b[31m86.0 MB/s\u001b[0m eta \u001b[36m0:00:00\u001b[0m\n",
            "\u001b[?25hCollecting torchmetrics==0.8 (from super-gradients)\n",
            "  Downloading torchmetrics-0.8.0-py3-none-any.whl (408 kB)\n",
            "\u001b[2K     \u001b[90m━━━━━━━━━━━━━━━━━━━━━━━━━━━━━━━━━━━━━━\u001b[0m \u001b[32m408.6/408.6 kB\u001b[0m \u001b[31m33.7 MB/s\u001b[0m eta \u001b[36m0:00:00\u001b[0m\n",
            "\u001b[?25hCollecting hydra-core>=1.2.0 (from super-gradients)\n",
            "  Downloading hydra_core-1.3.2-py3-none-any.whl (154 kB)\n",
            "\u001b[2K     \u001b[90m━━━━━━━━━━━━━━━━━━━━━━━━━━━━━━━━━━━━━━\u001b[0m \u001b[32m154.5/154.5 kB\u001b[0m \u001b[31m17.9 MB/s\u001b[0m eta \u001b[36m0:00:00\u001b[0m\n",
            "\u001b[?25hCollecting omegaconf (from super-gradients)\n",
            "  Downloading omegaconf-2.3.0-py3-none-any.whl (79 kB)\n",
            "\u001b[2K     \u001b[90m━━━━━━━━━━━━━━━━━━━━━━━━━━━━━━━━━━━━━━━━\u001b[0m \u001b[32m79.5/79.5 kB\u001b[0m \u001b[31m8.7 MB/s\u001b[0m eta \u001b[36m0:00:00\u001b[0m\n",
            "\u001b[?25hCollecting onnxruntime==1.13.1 (from super-gradients)\n",
            "  Downloading onnxruntime-1.13.1-cp310-cp310-manylinux_2_27_x86_64.whl (4.5 MB)\n",
            "\u001b[2K     \u001b[90m━━━━━━━━━━━━━━━━━━━━━━━━━━━━━━━━━━━━━━━━\u001b[0m \u001b[32m4.5/4.5 MB\u001b[0m \u001b[31m103.6 MB/s\u001b[0m eta \u001b[36m0:00:00\u001b[0m\n",
            "\u001b[?25hCollecting onnx==1.13.0 (from super-gradients)\n",
            "  Downloading onnx-1.13.0-cp310-cp310-manylinux_2_17_x86_64.manylinux2014_x86_64.whl (13.5 MB)\n",
            "\u001b[2K     \u001b[90m━━━━━━━━━━━━━━━━━━━━━━━━━━━━━━━━━━━━━━━\u001b[0m \u001b[32m13.5/13.5 MB\u001b[0m \u001b[31m100.6 MB/s\u001b[0m eta \u001b[36m0:00:00\u001b[0m\n",
            "\u001b[?25hRequirement already satisfied: pillow!=8.3,>=5.3.0 in /usr/local/lib/python3.10/dist-packages (from super-gradients) (9.4.0)\n",
            "Requirement already satisfied: pip-tools>=6.12.1 in /usr/local/lib/python3.10/dist-packages (from super-gradients) (6.13.0)\n",
            "Collecting pyparsing==2.4.5 (from super-gradients)\n",
            "  Downloading pyparsing-2.4.5-py2.py3-none-any.whl (67 kB)\n",
            "\u001b[2K     \u001b[90m━━━━━━━━━━━━━━━━━━━━━━━━━━━━━━━━━━━━━━━━\u001b[0m \u001b[32m68.0/68.0 kB\u001b[0m \u001b[31m8.4 MB/s\u001b[0m eta \u001b[36m0:00:00\u001b[0m\n",
            "\u001b[?25hCollecting einops==0.3.2 (from super-gradients)\n",
            "  Downloading einops-0.3.2-py3-none-any.whl (25 kB)\n",
            "Collecting pycocotools==2.0.6 (from super-gradients)\n",
            "  Downloading pycocotools-2.0.6.tar.gz (24 kB)\n",
            "  Installing build dependencies ... \u001b[?25l\u001b[?25hdone\n",
            "  Getting requirements to build wheel ... \u001b[?25l\u001b[?25hdone\n",
            "  Preparing metadata (pyproject.toml) ... \u001b[?25l\u001b[?25hdone\n",
            "Requirement already satisfied: protobuf==3.20.3 in /usr/local/lib/python3.10/dist-packages (from super-gradients) (3.20.3)\n",
            "Collecting treelib==1.6.1 (from super-gradients)\n",
            "  Downloading treelib-1.6.1.tar.gz (24 kB)\n",
            "  Preparing metadata (setup.py) ... \u001b[?25l\u001b[?25hdone\n",
            "Collecting termcolor==1.1.0 (from super-gradients)\n",
            "  Downloading termcolor-1.1.0.tar.gz (3.9 kB)\n",
            "  Preparing metadata (setup.py) ... \u001b[?25l\u001b[?25hdone\n",
            "Requirement already satisfied: packaging>=20.4 in /usr/local/lib/python3.10/dist-packages (from super-gradients) (23.1)\n",
            "Requirement already satisfied: wheel>=0.38.0 in /usr/local/lib/python3.10/dist-packages (from super-gradients) (0.41.1)\n",
            "Requirement already satisfied: pygments>=2.7.4 in /usr/local/lib/python3.10/dist-packages (from super-gradients) (2.16.1)\n",
            "Collecting stringcase>=1.2.0 (from super-gradients)\n",
            "  Downloading stringcase-1.2.0.tar.gz (3.0 kB)\n",
            "  Preparing metadata (setup.py) ... \u001b[?25l\u001b[?25hdone\n",
            "Collecting numpy<=1.23 (from super-gradients)\n",
            "  Downloading numpy-1.23.0-cp310-cp310-manylinux_2_17_x86_64.manylinux2014_x86_64.whl (17.0 MB)\n",
            "\u001b[2K     \u001b[90m━━━━━━━━━━━━━━━━━━━━━━━━━━━━━━━━━━━━━━━━\u001b[0m \u001b[32m17.0/17.0 MB\u001b[0m \u001b[31m78.7 MB/s\u001b[0m eta \u001b[36m0:00:00\u001b[0m\n",
            "\u001b[?25hCollecting rapidfuzz (from super-gradients)\n",
            "  Downloading rapidfuzz-3.2.0-cp310-cp310-manylinux_2_17_x86_64.manylinux2014_x86_64.whl (3.1 MB)\n",
            "\u001b[2K     \u001b[90m━━━━━━━━━━━━━━━━━━━━━━━━━━━━━━━━━━━━━━━━\u001b[0m \u001b[32m3.1/3.1 MB\u001b[0m \u001b[31m115.1 MB/s\u001b[0m eta \u001b[36m0:00:00\u001b[0m\n",
            "\u001b[?25hCollecting json-tricks==3.16.1 (from super-gradients)\n",
            "  Downloading json_tricks-3.16.1-py2.py3-none-any.whl (27 kB)\n",
            "Collecting onnx-simplifier<1.0,>=0.3.6 (from super-gradients)\n",
            "  Downloading onnx_simplifier-0.4.33-cp310-cp310-manylinux_2_17_x86_64.manylinux2014_x86_64.whl (2.2 MB)\n",
            "\u001b[2K     \u001b[90m━━━━━━━━━━━━━━━━━━━━━━━━━━━━━━━━━━━━━━━━\u001b[0m \u001b[32m2.2/2.2 MB\u001b[0m \u001b[31m98.6 MB/s\u001b[0m eta \u001b[36m0:00:00\u001b[0m\n",
            "\u001b[?25hRequirement already satisfied: typing-extensions>=3.6.2.1 in /usr/local/lib/python3.10/dist-packages (from onnx==1.13.0->super-gradients) (4.7.1)\n",
            "Collecting coloredlogs (from onnxruntime==1.13.1->super-gradients)\n",
            "  Downloading coloredlogs-15.0.1-py2.py3-none-any.whl (46 kB)\n",
            "\u001b[2K     \u001b[90m━━━━━━━━━━━━━━━━━━━━━━━━━━━━━━━━━━━━━━━━\u001b[0m \u001b[32m46.0/46.0 kB\u001b[0m \u001b[31m5.8 MB/s\u001b[0m eta \u001b[36m0:00:00\u001b[0m\n",
            "\u001b[?25hRequirement already satisfied: flatbuffers in /usr/local/lib/python3.10/dist-packages (from onnxruntime==1.13.1->super-gradients) (23.5.26)\n",
            "Requirement already satisfied: sympy in /usr/local/lib/python3.10/dist-packages (from onnxruntime==1.13.1->super-gradients) (1.12)\n",
            "Collecting pyDeprecate==0.3.* (from torchmetrics==0.8->super-gradients)\n",
            "  Downloading pyDeprecate-0.3.2-py3-none-any.whl (10 kB)\n",
            "Requirement already satisfied: future in /usr/local/lib/python3.10/dist-packages (from treelib==1.6.1->super-gradients) (0.18.3)\n",
            "Collecting botocore<1.32.0,>=1.31.30 (from boto3>=1.17.15->super-gradients)\n",
            "  Downloading botocore-1.31.30-py3-none-any.whl (11.1 MB)\n",
            "\u001b[2K     \u001b[90m━━━━━━━━━━━━━━━━━━━━━━━━━━━━━━━━━━━━━━━\u001b[0m \u001b[32m11.1/11.1 MB\u001b[0m \u001b[31m110.0 MB/s\u001b[0m eta \u001b[36m0:00:00\u001b[0m\n",
            "\u001b[?25hCollecting jmespath<2.0.0,>=0.7.1 (from boto3>=1.17.15->super-gradients)\n",
            "  Downloading jmespath-1.0.1-py3-none-any.whl (20 kB)\n",
            "Collecting s3transfer<0.7.0,>=0.6.0 (from boto3>=1.17.15->super-gradients)\n",
            "  Downloading s3transfer-0.6.2-py3-none-any.whl (79 kB)\n",
            "\u001b[2K     \u001b[90m━━━━━━━━━━━━━━━━━━━━━━━━━━━━━━━━━━━━━━━━\u001b[0m \u001b[32m79.8/79.8 kB\u001b[0m \u001b[31m10.4 MB/s\u001b[0m eta \u001b[36m0:00:00\u001b[0m\n",
            "\u001b[?25hRequirement already satisfied: wrapt<2,>=1.10 in /usr/local/lib/python3.10/dist-packages (from Deprecated>=1.2.11->super-gradients) (1.14.1)\n",
            "Collecting antlr4-python3-runtime==4.9.* (from hydra-core>=1.2.0->super-gradients)\n",
            "  Downloading antlr4-python3-runtime-4.9.3.tar.gz (117 kB)\n",
            "\u001b[2K     \u001b[90m━━━━━━━━━━━━━━━━━━━━━━━━━━━━━━━━━━━━━━\u001b[0m \u001b[32m117.0/117.0 kB\u001b[0m \u001b[31m14.2 MB/s\u001b[0m eta \u001b[36m0:00:00\u001b[0m\n",
            "\u001b[?25h  Preparing metadata (setup.py) ... \u001b[?25l\u001b[?25hdone\n",
            "Requirement already satisfied: attrs>=22.2.0 in /usr/local/lib/python3.10/dist-packages (from jsonschema>=3.2.0->super-gradients) (23.1.0)\n",
            "Requirement already satisfied: jsonschema-specifications>=2023.03.6 in /usr/local/lib/python3.10/dist-packages (from jsonschema>=3.2.0->super-gradients) (2023.7.1)\n",
            "Requirement already satisfied: referencing>=0.28.4 in /usr/local/lib/python3.10/dist-packages (from jsonschema>=3.2.0->super-gradients) (0.30.2)\n",
            "Requirement already satisfied: rpds-py>=0.7.1 in /usr/local/lib/python3.10/dist-packages (from jsonschema>=3.2.0->super-gradients) (0.9.2)\n",
            "Requirement already satisfied: contourpy>=1.0.1 in /usr/local/lib/python3.10/dist-packages (from matplotlib>=3.3.4->super-gradients) (1.1.0)\n",
            "Requirement already satisfied: cycler>=0.10 in /usr/local/lib/python3.10/dist-packages (from matplotlib>=3.3.4->super-gradients) (0.11.0)\n",
            "Requirement already satisfied: fonttools>=4.22.0 in /usr/local/lib/python3.10/dist-packages (from matplotlib>=3.3.4->super-gradients) (4.42.0)\n",
            "Requirement already satisfied: kiwisolver>=1.0.1 in /usr/local/lib/python3.10/dist-packages (from matplotlib>=3.3.4->super-gradients) (1.4.4)\n",
            "Requirement already satisfied: python-dateutil>=2.7 in /usr/local/lib/python3.10/dist-packages (from matplotlib>=3.3.4->super-gradients) (2.8.2)\n",
            "Requirement already satisfied: PyYAML>=5.1.0 in /usr/local/lib/python3.10/dist-packages (from omegaconf->super-gradients) (6.0.1)\n",
            "Requirement already satisfied: rich in /usr/local/lib/python3.10/dist-packages (from onnx-simplifier<1.0,>=0.3.6->super-gradients) (13.5.2)\n",
            "Requirement already satisfied: build in /usr/local/lib/python3.10/dist-packages (from pip-tools>=6.12.1->super-gradients) (0.10.0)\n",
            "Requirement already satisfied: click>=8 in /usr/local/lib/python3.10/dist-packages (from pip-tools>=6.12.1->super-gradients) (8.1.6)\n",
            "Requirement already satisfied: pip>=22.2 in /usr/local/lib/python3.10/dist-packages (from pip-tools>=6.12.1->super-gradients) (23.1.2)\n",
            "Requirement already satisfied: sphinxcontrib-applehelp in /usr/local/lib/python3.10/dist-packages (from sphinx~=4.0.2->super-gradients) (1.0.7)\n",
            "Requirement already satisfied: sphinxcontrib-devhelp in /usr/local/lib/python3.10/dist-packages (from sphinx~=4.0.2->super-gradients) (1.0.5)\n",
            "Requirement already satisfied: sphinxcontrib-jsmath in /usr/local/lib/python3.10/dist-packages (from sphinx~=4.0.2->super-gradients) (1.0.1)\n",
            "Requirement already satisfied: sphinxcontrib-htmlhelp in /usr/local/lib/python3.10/dist-packages (from sphinx~=4.0.2->super-gradients) (2.0.4)\n",
            "Requirement already satisfied: sphinxcontrib-serializinghtml in /usr/local/lib/python3.10/dist-packages (from sphinx~=4.0.2->super-gradients) (1.1.8)\n",
            "Requirement already satisfied: sphinxcontrib-qthelp in /usr/local/lib/python3.10/dist-packages (from sphinx~=4.0.2->super-gradients) (1.0.6)\n",
            "Requirement already satisfied: Jinja2>=2.3 in /usr/local/lib/python3.10/dist-packages (from sphinx~=4.0.2->super-gradients) (3.1.2)\n",
            "Collecting docutils<0.18,>=0.14 (from sphinx~=4.0.2->super-gradients)\n",
            "  Downloading docutils-0.17.1-py2.py3-none-any.whl (575 kB)\n",
            "\u001b[2K     \u001b[90m━━━━━━━━━━━━━━━━━━━━━━━━━━━━━━━━━━━━━━\u001b[0m \u001b[32m575.5/575.5 kB\u001b[0m \u001b[31m53.3 MB/s\u001b[0m eta \u001b[36m0:00:00\u001b[0m\n",
            "\u001b[?25hRequirement already satisfied: snowballstemmer>=1.1 in /usr/local/lib/python3.10/dist-packages (from sphinx~=4.0.2->super-gradients) (2.2.0)\n",
            "Requirement already satisfied: babel>=1.3 in /usr/local/lib/python3.10/dist-packages (from sphinx~=4.0.2->super-gradients) (2.12.1)\n",
            "Requirement already satisfied: alabaster<0.8,>=0.7 in /usr/local/lib/python3.10/dist-packages (from sphinx~=4.0.2->super-gradients) (0.7.13)\n",
            "Requirement already satisfied: imagesize in /usr/local/lib/python3.10/dist-packages (from sphinx~=4.0.2->super-gradients) (1.4.1)\n",
            "Requirement already satisfied: requests>=2.5.0 in /usr/local/lib/python3.10/dist-packages (from sphinx~=4.0.2->super-gradients) (2.31.0)\n",
            "Requirement already satisfied: absl-py>=0.4 in /usr/local/lib/python3.10/dist-packages (from tensorboard>=2.4.1->super-gradients) (1.4.0)\n",
            "Requirement already satisfied: grpcio>=1.48.2 in /usr/local/lib/python3.10/dist-packages (from tensorboard>=2.4.1->super-gradients) (1.57.0)\n",
            "Requirement already satisfied: google-auth<3,>=1.6.3 in /usr/local/lib/python3.10/dist-packages (from tensorboard>=2.4.1->super-gradients) (2.17.3)\n",
            "Requirement already satisfied: google-auth-oauthlib<1.1,>=0.5 in /usr/local/lib/python3.10/dist-packages (from tensorboard>=2.4.1->super-gradients) (1.0.0)\n",
            "Requirement already satisfied: markdown>=2.6.8 in /usr/local/lib/python3.10/dist-packages (from tensorboard>=2.4.1->super-gradients) (3.4.4)\n",
            "Requirement already satisfied: tensorboard-data-server<0.8.0,>=0.7.0 in /usr/local/lib/python3.10/dist-packages (from tensorboard>=2.4.1->super-gradients) (0.7.1)\n",
            "Requirement already satisfied: werkzeug>=1.0.1 in /usr/local/lib/python3.10/dist-packages (from tensorboard>=2.4.1->super-gradients) (2.3.7)\n",
            "Requirement already satisfied: filelock in /usr/local/lib/python3.10/dist-packages (from torch>=1.9.0->super-gradients) (3.12.2)\n",
            "Requirement already satisfied: networkx in /usr/local/lib/python3.10/dist-packages (from torch>=1.9.0->super-gradients) (3.1)\n",
            "Requirement already satisfied: triton==2.0.0 in /usr/local/lib/python3.10/dist-packages (from torch>=1.9.0->super-gradients) (2.0.0)\n",
            "Requirement already satisfied: cmake in /usr/local/lib/python3.10/dist-packages (from triton==2.0.0->torch>=1.9.0->super-gradients) (3.27.2)\n",
            "Requirement already satisfied: lit in /usr/local/lib/python3.10/dist-packages (from triton==2.0.0->torch>=1.9.0->super-gradients) (16.0.6)\n",
            "Collecting sphinxcontrib-jquery<5,>=4 (from sphinx-rtd-theme->super-gradients)\n",
            "  Downloading sphinxcontrib_jquery-4.1-py2.py3-none-any.whl (121 kB)\n",
            "\u001b[2K     \u001b[90m━━━━━━━━━━━━━━━━━━━━━━━━━━━━━━━━━━━━━━\u001b[0m \u001b[32m121.1/121.1 kB\u001b[0m \u001b[31m13.9 MB/s\u001b[0m eta \u001b[36m0:00:00\u001b[0m\n",
            "\u001b[?25hCollecting urllib3<1.27,>=1.25.4 (from botocore<1.32.0,>=1.31.30->boto3>=1.17.15->super-gradients)\n",
            "  Downloading urllib3-1.26.16-py2.py3-none-any.whl (143 kB)\n",
            "\u001b[2K     \u001b[90m━━━━━━━━━━━━━━━━━━━━━━━━━━━━━━━━━━━━━━\u001b[0m \u001b[32m143.1/143.1 kB\u001b[0m \u001b[31m17.6 MB/s\u001b[0m eta \u001b[36m0:00:00\u001b[0m\n",
            "\u001b[?25hRequirement already satisfied: cachetools<6.0,>=2.0.0 in /usr/local/lib/python3.10/dist-packages (from google-auth<3,>=1.6.3->tensorboard>=2.4.1->super-gradients) (5.3.1)\n",
            "Requirement already satisfied: pyasn1-modules>=0.2.1 in /usr/local/lib/python3.10/dist-packages (from google-auth<3,>=1.6.3->tensorboard>=2.4.1->super-gradients) (0.3.0)\n",
            "Requirement already satisfied: six>=1.9.0 in /usr/local/lib/python3.10/dist-packages (from google-auth<3,>=1.6.3->tensorboard>=2.4.1->super-gradients) (1.16.0)\n",
            "Requirement already satisfied: rsa<5,>=3.1.4 in /usr/local/lib/python3.10/dist-packages (from google-auth<3,>=1.6.3->tensorboard>=2.4.1->super-gradients) (4.9)\n",
            "Requirement already satisfied: requests-oauthlib>=0.7.0 in /usr/local/lib/python3.10/dist-packages (from google-auth-oauthlib<1.1,>=0.5->tensorboard>=2.4.1->super-gradients) (1.3.1)\n",
            "Requirement already satisfied: MarkupSafe>=2.0 in /usr/local/lib/python3.10/dist-packages (from Jinja2>=2.3->sphinx~=4.0.2->super-gradients) (2.1.3)\n",
            "Requirement already satisfied: charset-normalizer<4,>=2 in /usr/local/lib/python3.10/dist-packages (from requests>=2.5.0->sphinx~=4.0.2->super-gradients) (3.2.0)\n",
            "Requirement already satisfied: idna<4,>=2.5 in /usr/local/lib/python3.10/dist-packages (from requests>=2.5.0->sphinx~=4.0.2->super-gradients) (3.4)\n",
            "Requirement already satisfied: certifi>=2017.4.17 in /usr/local/lib/python3.10/dist-packages (from requests>=2.5.0->sphinx~=4.0.2->super-gradients) (2023.7.22)\n",
            "Requirement already satisfied: pyproject_hooks in /usr/local/lib/python3.10/dist-packages (from build->pip-tools>=6.12.1->super-gradients) (1.0.0)\n",
            "Requirement already satisfied: tomli>=1.1.0 in /usr/local/lib/python3.10/dist-packages (from build->pip-tools>=6.12.1->super-gradients) (2.0.1)\n",
            "Collecting humanfriendly>=9.1 (from coloredlogs->onnxruntime==1.13.1->super-gradients)\n",
            "  Downloading humanfriendly-10.0-py2.py3-none-any.whl (86 kB)\n",
            "\u001b[2K     \u001b[90m━━━━━━━━━━━━━━━━━━━━━━━━━━━━━━━━━━━━━━━━\u001b[0m \u001b[32m86.8/86.8 kB\u001b[0m \u001b[31m11.3 MB/s\u001b[0m eta \u001b[36m0:00:00\u001b[0m\n",
            "\u001b[?25hRequirement already satisfied: markdown-it-py>=2.2.0 in /usr/local/lib/python3.10/dist-packages (from rich->onnx-simplifier<1.0,>=0.3.6->super-gradients) (3.0.0)\n",
            "INFO: pip is looking at multiple versions of sphinxcontrib-applehelp to determine which version is compatible with other requirements. This could take a while.\n",
            "Collecting sphinxcontrib-applehelp (from sphinx~=4.0.2->super-gradients)\n",
            "  Downloading sphinxcontrib_applehelp-1.0.6-py3-none-any.whl (120 kB)\n",
            "\u001b[2K     \u001b[90m━━━━━━━━━━━━━━━━━━━━━━━━━━━━━━━━━━━━━━\u001b[0m \u001b[32m120.0/120.0 kB\u001b[0m \u001b[31m17.3 MB/s\u001b[0m eta \u001b[36m0:00:00\u001b[0m\n",
            "\u001b[?25h  Downloading sphinxcontrib_applehelp-1.0.5-py3-none-any.whl (120 kB)\n",
            "\u001b[2K     \u001b[90m━━━━━━━━━━━━━━━━━━━━━━━━━━━━━━━━━━━━━━\u001b[0m \u001b[32m120.0/120.0 kB\u001b[0m \u001b[31m15.6 MB/s\u001b[0m eta \u001b[36m0:00:00\u001b[0m\n",
            "\u001b[?25h  Downloading sphinxcontrib_applehelp-1.0.4-py3-none-any.whl (120 kB)\n",
            "\u001b[2K     \u001b[90m━━━━━━━━━━━━━━━━━━━━━━━━━━━━━━━━━━━━━━\u001b[0m \u001b[32m120.6/120.6 kB\u001b[0m \u001b[31m17.0 MB/s\u001b[0m eta \u001b[36m0:00:00\u001b[0m\n",
            "\u001b[?25hINFO: pip is looking at multiple versions of sphinxcontrib-devhelp to determine which version is compatible with other requirements. This could take a while.\n",
            "Collecting sphinxcontrib-devhelp (from sphinx~=4.0.2->super-gradients)\n",
            "  Downloading sphinxcontrib_devhelp-1.0.4-py3-none-any.whl (83 kB)\n",
            "\u001b[2K     \u001b[90m━━━━━━━━━━━━━━━━━━━━━━━━━━━━━━━━━━━━━━━━\u001b[0m \u001b[32m83.5/83.5 kB\u001b[0m \u001b[31m11.5 MB/s\u001b[0m eta \u001b[36m0:00:00\u001b[0m\n",
            "\u001b[?25h  Downloading sphinxcontrib_devhelp-1.0.3-py3-none-any.whl (83 kB)\n",
            "\u001b[2K     \u001b[90m━━━━━━━━━━━━━━━━━━━━━━━━━━━━━━━━━━━━━━━━\u001b[0m \u001b[32m83.5/83.5 kB\u001b[0m \u001b[31m12.7 MB/s\u001b[0m eta \u001b[36m0:00:00\u001b[0m\n",
            "\u001b[?25h  Downloading sphinxcontrib_devhelp-1.0.2-py2.py3-none-any.whl (84 kB)\n",
            "\u001b[2K     \u001b[90m━━━━━━━━━━━━━━━━━━━━━━━━━━━━━━━━━━━━━━━━\u001b[0m \u001b[32m84.7/84.7 kB\u001b[0m \u001b[31m11.9 MB/s\u001b[0m eta \u001b[36m0:00:00\u001b[0m\n",
            "\u001b[?25hINFO: pip is looking at multiple versions of sphinxcontrib-htmlhelp to determine which version is compatible with other requirements. This could take a while.\n",
            "Collecting sphinxcontrib-htmlhelp (from sphinx~=4.0.2->super-gradients)\n",
            "  Downloading sphinxcontrib_htmlhelp-2.0.3-py3-none-any.whl (99 kB)\n",
            "\u001b[2K     \u001b[90m━━━━━━━━━━━━━━━━━━━━━━━━━━━━━━━━━━━━━━━━\u001b[0m \u001b[32m99.2/99.2 kB\u001b[0m \u001b[31m12.1 MB/s\u001b[0m eta \u001b[36m0:00:00\u001b[0m\n",
            "\u001b[?25h  Downloading sphinxcontrib_htmlhelp-2.0.2-py3-none-any.whl (99 kB)\n",
            "\u001b[2K     \u001b[90m━━━━━━━━━━━━━━━━━━━━━━━━━━━━━━━━━━━━━━━━\u001b[0m \u001b[32m99.2/99.2 kB\u001b[0m \u001b[31m12.8 MB/s\u001b[0m eta \u001b[36m0:00:00\u001b[0m\n",
            "\u001b[?25h  Downloading sphinxcontrib_htmlhelp-2.0.1-py3-none-any.whl (99 kB)\n",
            "\u001b[2K     \u001b[90m━━━━━━━━━━━━━━━━━━━━━━━━━━━━━━━━━━━━━━━━\u001b[0m \u001b[32m99.8/99.8 kB\u001b[0m \u001b[31m11.7 MB/s\u001b[0m eta \u001b[36m0:00:00\u001b[0m\n",
            "\u001b[?25hINFO: pip is looking at multiple versions of sphinxcontrib-qthelp to determine which version is compatible with other requirements. This could take a while.\n",
            "Collecting sphinxcontrib-qthelp (from sphinx~=4.0.2->super-gradients)\n",
            "  Downloading sphinxcontrib_qthelp-1.0.5-py3-none-any.whl (89 kB)\n",
            "\u001b[2K     \u001b[90m━━━━━━━━━━━━━━━━━━━━━━━━━━━━━━━━━━━━━━━━\u001b[0m \u001b[32m89.4/89.4 kB\u001b[0m \u001b[31m11.4 MB/s\u001b[0m eta \u001b[36m0:00:00\u001b[0m\n",
            "\u001b[?25h  Downloading sphinxcontrib_qthelp-1.0.4-py3-none-any.whl (89 kB)\n",
            "\u001b[2K     \u001b[90m━━━━━━━━━━━━━━━━━━━━━━━━━━━━━━━━━━━━━━━━\u001b[0m \u001b[32m89.4/89.4 kB\u001b[0m \u001b[31m10.9 MB/s\u001b[0m eta \u001b[36m0:00:00\u001b[0m\n",
            "\u001b[?25h  Downloading sphinxcontrib_qthelp-1.0.3-py2.py3-none-any.whl (90 kB)\n",
            "\u001b[2K     \u001b[90m━━━━━━━━━━━━━━━━━━━━━━━━━━━━━━━━━━━━━━━━\u001b[0m \u001b[32m90.6/90.6 kB\u001b[0m \u001b[31m11.3 MB/s\u001b[0m eta \u001b[36m0:00:00\u001b[0m\n",
            "\u001b[?25hINFO: pip is looking at multiple versions of sphinxcontrib-serializinghtml to determine which version is compatible with other requirements. This could take a while.\n",
            "Collecting sphinxcontrib-serializinghtml (from sphinx~=4.0.2->super-gradients)\n",
            "  Downloading sphinxcontrib_serializinghtml-1.1.7-py3-none-any.whl (92 kB)\n",
            "\u001b[2K     \u001b[90m━━━━━━━━━━━━━━━━━━━━━━━━━━━━━━━━━━━━━━━━\u001b[0m \u001b[32m92.6/92.6 kB\u001b[0m \u001b[31m12.0 MB/s\u001b[0m eta \u001b[36m0:00:00\u001b[0m\n",
            "\u001b[?25h  Downloading sphinxcontrib_serializinghtml-1.1.6-py3-none-any.whl (92 kB)\n",
            "\u001b[2K     \u001b[90m━━━━━━━━━━━━━━━━━━━━━━━━━━━━━━━━━━━━━━━━\u001b[0m \u001b[32m92.6/92.6 kB\u001b[0m \u001b[31m11.5 MB/s\u001b[0m eta \u001b[36m0:00:00\u001b[0m\n",
            "\u001b[?25h  Downloading sphinxcontrib_serializinghtml-1.1.5-py2.py3-none-any.whl (94 kB)\n",
            "\u001b[2K     \u001b[90m━━━━━━━━━━━━━━━━━━━━━━━━━━━━━━━━━━━━━━━━\u001b[0m \u001b[32m94.0/94.0 kB\u001b[0m \u001b[31m12.8 MB/s\u001b[0m eta \u001b[36m0:00:00\u001b[0m\n",
            "\u001b[?25hRequirement already satisfied: mpmath>=0.19 in /usr/local/lib/python3.10/dist-packages (from sympy->onnxruntime==1.13.1->super-gradients) (1.3.0)\n",
            "Requirement already satisfied: mdurl~=0.1 in /usr/local/lib/python3.10/dist-packages (from markdown-it-py>=2.2.0->rich->onnx-simplifier<1.0,>=0.3.6->super-gradients) (0.1.2)\n",
            "Requirement already satisfied: pyasn1<0.6.0,>=0.4.6 in /usr/local/lib/python3.10/dist-packages (from pyasn1-modules>=0.2.1->google-auth<3,>=1.6.3->tensorboard>=2.4.1->super-gradients) (0.5.0)\n",
            "Requirement already satisfied: oauthlib>=3.0.0 in /usr/local/lib/python3.10/dist-packages (from requests-oauthlib>=0.7.0->google-auth-oauthlib<1.1,>=0.5->tensorboard>=2.4.1->super-gradients) (3.2.2)\n",
            "Building wheels for collected packages: pycocotools, termcolor, treelib, coverage, antlr4-python3-runtime, stringcase\n",
            "  Building wheel for pycocotools (pyproject.toml) ... \u001b[?25l\u001b[?25hdone\n",
            "  Created wheel for pycocotools: filename=pycocotools-2.0.6-cp310-cp310-linux_x86_64.whl size=375356 sha256=f4673b7b98a62dc27e50bc3355493c434a8b759e4f93283effbca8da274fcb7c\n",
            "  Stored in directory: /root/.cache/pip/wheels/58/e6/f9/f87c8f8be098b51b616871315318329cae12cdb618f4caac93\n",
            "  Building wheel for termcolor (setup.py) ... \u001b[?25l\u001b[?25hdone\n",
            "  Created wheel for termcolor: filename=termcolor-1.1.0-py3-none-any.whl size=4832 sha256=cbd4369ce51e03e10851257f8257567284688231cca70567a72bf3104f2951fd\n",
            "  Stored in directory: /root/.cache/pip/wheels/a1/49/46/1b13a65d8da11238af9616b00fdde6d45b0f95d9291bac8452\n",
            "  Building wheel for treelib (setup.py) ... \u001b[?25l\u001b[?25hdone\n",
            "  Created wheel for treelib: filename=treelib-1.6.1-py3-none-any.whl size=18369 sha256=a882fc98cbe86f33c35fa613d551c6a90bb1e3c18d08c4d81080ca2abe7b91fc\n",
            "  Stored in directory: /root/.cache/pip/wheels/63/72/8b/76569b82bf280a03c4e294c3b29ee2398217186369c427ed4b\n",
            "  Building wheel for coverage (setup.py) ... \u001b[?25l\u001b[?25hdone\n",
            "  Created wheel for coverage: filename=coverage-5.3.1-cp310-cp310-linux_x86_64.whl size=235258 sha256=66a47501479adc26547a52cc8a0d7f8424aa9e280dfe7475dddc7244040aad9d\n",
            "  Stored in directory: /root/.cache/pip/wheels/e2/70/10/313be697f460d6024cfa94b7f0e22ffc1c53aab718fb4f42af\n",
            "  Building wheel for antlr4-python3-runtime (setup.py) ... \u001b[?25l\u001b[?25hdone\n",
            "  Created wheel for antlr4-python3-runtime: filename=antlr4_python3_runtime-4.9.3-py3-none-any.whl size=144555 sha256=4ca425614fa7f080b5f8651fcaf13c61fe5b9f59ced1f3979b0133e1d11f21c0\n",
            "  Stored in directory: /root/.cache/pip/wheels/12/93/dd/1f6a127edc45659556564c5730f6d4e300888f4bca2d4c5a88\n",
            "  Building wheel for stringcase (setup.py) ... \u001b[?25l\u001b[?25hdone\n",
            "  Created wheel for stringcase: filename=stringcase-1.2.0-py3-none-any.whl size=3570 sha256=8815561124e9616cfac73fdc7eab0a0756d4b0902189ec4b8d551e71165da55a\n",
            "  Stored in directory: /root/.cache/pip/wheels/31/ba/22/1a2d952a9ce8aa86e42fda41e2c87fdaf20e238c88bf8df013\n",
            "Successfully built pycocotools termcolor treelib coverage antlr4-python3-runtime stringcase\n",
            "Installing collected packages: termcolor, stringcase, json-tricks, einops, antlr4-python3-runtime, urllib3, treelib, sphinxcontrib-serializinghtml, sphinxcontrib-qthelp, sphinxcontrib-htmlhelp, sphinxcontrib-devhelp, sphinxcontrib-applehelp, rapidfuzz, pyparsing, pyDeprecate, omegaconf, numpy, jmespath, humanfriendly, docutils, Deprecated, coverage, onnx, hydra-core, coloredlogs, botocore, sphinx, s3transfer, onnxruntime, onnx-simplifier, sphinxcontrib-jquery, pycocotools, boto3, sphinx-rtd-theme, torchmetrics, super-gradients\n",
            "  Attempting uninstall: termcolor\n",
            "    Found existing installation: termcolor 2.3.0\n",
            "    Uninstalling termcolor-2.3.0:\n",
            "      Successfully uninstalled termcolor-2.3.0\n",
            "  Attempting uninstall: urllib3\n",
            "    Found existing installation: urllib3 2.0.4\n",
            "    Uninstalling urllib3-2.0.4:\n",
            "      Successfully uninstalled urllib3-2.0.4\n",
            "  Attempting uninstall: sphinxcontrib-serializinghtml\n",
            "    Found existing installation: sphinxcontrib-serializinghtml 1.1.8\n",
            "    Uninstalling sphinxcontrib-serializinghtml-1.1.8:\n",
            "      Successfully uninstalled sphinxcontrib-serializinghtml-1.1.8\n",
            "  Attempting uninstall: sphinxcontrib-qthelp\n",
            "    Found existing installation: sphinxcontrib-qthelp 1.0.6\n",
            "    Uninstalling sphinxcontrib-qthelp-1.0.6:\n",
            "      Successfully uninstalled sphinxcontrib-qthelp-1.0.6\n",
            "  Attempting uninstall: sphinxcontrib-htmlhelp\n",
            "    Found existing installation: sphinxcontrib-htmlhelp 2.0.4\n",
            "    Uninstalling sphinxcontrib-htmlhelp-2.0.4:\n",
            "      Successfully uninstalled sphinxcontrib-htmlhelp-2.0.4\n",
            "  Attempting uninstall: sphinxcontrib-devhelp\n",
            "    Found existing installation: sphinxcontrib-devhelp 1.0.5\n",
            "    Uninstalling sphinxcontrib-devhelp-1.0.5:\n",
            "      Successfully uninstalled sphinxcontrib-devhelp-1.0.5\n",
            "  Attempting uninstall: sphinxcontrib-applehelp\n",
            "    Found existing installation: sphinxcontrib-applehelp 1.0.7\n",
            "    Uninstalling sphinxcontrib-applehelp-1.0.7:\n",
            "      Successfully uninstalled sphinxcontrib-applehelp-1.0.7\n",
            "  Attempting uninstall: pyparsing\n",
            "    Found existing installation: pyparsing 3.1.1\n",
            "    Uninstalling pyparsing-3.1.1:\n",
            "      Successfully uninstalled pyparsing-3.1.1\n",
            "  Attempting uninstall: numpy\n",
            "    Found existing installation: numpy 1.23.5\n",
            "    Uninstalling numpy-1.23.5:\n",
            "      Successfully uninstalled numpy-1.23.5\n",
            "  Attempting uninstall: docutils\n",
            "    Found existing installation: docutils 0.18.1\n",
            "    Uninstalling docutils-0.18.1:\n",
            "      Successfully uninstalled docutils-0.18.1\n",
            "  Attempting uninstall: sphinx\n",
            "    Found existing installation: Sphinx 5.0.2\n",
            "    Uninstalling Sphinx-5.0.2:\n",
            "      Successfully uninstalled Sphinx-5.0.2\n",
            "  Attempting uninstall: pycocotools\n",
            "    Found existing installation: pycocotools 2.0.7\n",
            "    Uninstalling pycocotools-2.0.7:\n",
            "      Successfully uninstalled pycocotools-2.0.7\n",
            "Successfully installed Deprecated-1.2.14 antlr4-python3-runtime-4.9.3 boto3-1.28.30 botocore-1.31.30 coloredlogs-15.0.1 coverage-5.3.1 docutils-0.17.1 einops-0.3.2 humanfriendly-10.0 hydra-core-1.3.2 jmespath-1.0.1 json-tricks-3.16.1 numpy-1.23.0 omegaconf-2.3.0 onnx-1.13.0 onnx-simplifier-0.4.33 onnxruntime-1.13.1 pyDeprecate-0.3.2 pycocotools-2.0.6 pyparsing-2.4.5 rapidfuzz-3.2.0 s3transfer-0.6.2 sphinx-4.0.3 sphinx-rtd-theme-1.2.2 sphinxcontrib-applehelp-1.0.4 sphinxcontrib-devhelp-1.0.2 sphinxcontrib-htmlhelp-2.0.1 sphinxcontrib-jquery-4.1 sphinxcontrib-qthelp-1.0.3 sphinxcontrib-serializinghtml-1.1.5 stringcase-1.2.0 super-gradients-3.2.0 termcolor-1.1.0 torchmetrics-0.8.0 treelib-1.6.1 urllib3-1.26.16\n"
          ]
        },
        {
          "output_type": "display_data",
          "data": {
            "application/vnd.colab-display-data+json": {
              "pip_warning": {
                "packages": [
                  "numpy",
                  "pydevd_plugins",
                  "pyparsing",
                  "sphinxcontrib",
                  "urllib3"
                ]
              }
            }
          },
          "metadata": {}
        }
      ],
      "source": [
        "# One time installation.\n",
        "!pip install super-gradients"
      ]
    },
    {
      "cell_type": "markdown",
      "source": [
        "## Importar librerias necesarias"
      ],
      "metadata": {
        "id": "xyT_nZvtRjux"
      }
    },
    {
      "cell_type": "code",
      "execution_count": 1,
      "metadata": {
        "id": "a103cf03-29ac-419d-b347-4004301fcf88",
        "colab": {
          "base_uri": "https://localhost:8080/"
        },
        "outputId": "af78053d-b56d-4e5e-c967-96fd30331143"
      },
      "outputs": [
        {
          "output_type": "stream",
          "name": "stdout",
          "text": [
            "The console stream is logged into /root/sg_logs/console.log\n"
          ]
        },
        {
          "output_type": "stream",
          "name": "stderr",
          "text": [
            "[2023-08-19 23:24:36] INFO - crash_tips_setup.py - Crash tips is enabled. You can set your environment variable to CRASH_HANDLER=FALSE to disable it\n",
            "[2023-08-19 23:24:39] WARNING - __init__.py - Failed to import pytorch_quantization\n",
            "[2023-08-19 23:24:45] INFO - utils.py - NumExpr defaulting to 2 threads.\n",
            "/usr/local/lib/python3.10/dist-packages/_distutils_hack/__init__.py:33: UserWarning: Setuptools is replacing distutils.\n",
            "  warnings.warn(\"Setuptools is replacing distutils.\")\n",
            "[2023-08-19 23:24:46] WARNING - calibrator.py - Failed to import pytorch_quantization\n",
            "[2023-08-19 23:24:46] WARNING - export.py - Failed to import pytorch_quantization\n",
            "[2023-08-19 23:24:46] WARNING - selective_quantization_utils.py - Failed to import pytorch_quantization\n"
          ]
        }
      ],
      "source": [
        "from super_gradients.training import Trainer\n",
        "from super_gradients.training import dataloaders\n",
        "from super_gradients.training.dataloaders.dataloaders import (\n",
        "    coco_detection_yolo_format_train,\n",
        "    coco_detection_yolo_format_val\n",
        ")\n",
        "from super_gradients.training import models\n",
        "from super_gradients.training.losses import PPYoloELoss\n",
        "from super_gradients.training.metrics import (\n",
        "    DetectionMetrics_050,\n",
        "    DetectionMetrics_050_095\n",
        ")\n",
        "from super_gradients.training.models.detection_models.pp_yolo_e import PPYoloEPostPredictionCallback\n",
        "from tqdm.auto import tqdm\n"
      ]
    },
    {
      "cell_type": "code",
      "execution_count": 2,
      "metadata": {
        "id": "8jjh67cU41ch"
      },
      "outputs": [],
      "source": [
        "import os\n",
        "import numpy as np\n",
        "import matplotlib.pyplot as plt\n",
        "\n",
        "import cv2\n",
        "import requests\n",
        "import zipfile\n",
        "import glob\n",
        "import random\n",
        "import torch"
      ]
    },
    {
      "cell_type": "markdown",
      "source": [
        "## Definicion de Variables de entorno"
      ],
      "metadata": {
        "id": "KP86q6_2SzgC"
      }
    },
    {
      "cell_type": "code",
      "source": [
        "ROOT_DIR = '/content/drive/MyDrive/yolo_data'\n",
        "\n",
        "SAVE_PATH = '/saved_images_temp'"
      ],
      "metadata": {
        "id": "Ohoh4vH7CPgo"
      },
      "execution_count": 3,
      "outputs": []
    },
    {
      "cell_type": "code",
      "source": [
        "device = torch.device(\"cuda:0\") if torch.cuda.is_available() else torch.device(\"cpu\")"
      ],
      "metadata": {
        "id": "gm6OwuRsCWfR"
      },
      "execution_count": 4,
      "outputs": []
    },
    {
      "cell_type": "markdown",
      "source": [
        "## Carga del Modelo"
      ],
      "metadata": {
        "id": "Xl4oKjbaRuw5"
      }
    },
    {
      "cell_type": "code",
      "source": [
        "model = models.get(\n",
        "    model_name='yolo_nas_s',\n",
        "    checkpoint_path=ROOT_DIR + '/checkpoints/yolo_nas_s/ckpt_best.pth',\n",
        "    num_classes = 1\n",
        ").to(device)"
      ],
      "metadata": {
        "colab": {
          "base_uri": "https://localhost:8080/"
        },
        "id": "dUvoU0w6Bm5U",
        "outputId": "71a99619-cc14-405b-ef76-213005ec06ae"
      },
      "execution_count": 5,
      "outputs": [
        {
          "output_type": "stream",
          "name": "stderr",
          "text": [
            "[2023-08-19 23:24:50] INFO - checkpoint_utils.py - Successfully loaded model weights from /content/drive/MyDrive/yolo_data/checkpoints/yolo_nas_s/ckpt_best.pth EMA checkpoint.\n"
          ]
        }
      ]
    },
    {
      "cell_type": "markdown",
      "source": [
        "# Fast API"
      ],
      "metadata": {
        "id": "WRHokxQHTLBK"
      }
    },
    {
      "cell_type": "markdown",
      "source": [
        "## Instalación"
      ],
      "metadata": {
        "id": "lAmai5OPTary"
      }
    },
    {
      "cell_type": "code",
      "source": [
        "!pip install fastapi nest-asyncio pyngrok uvicorn"
      ],
      "metadata": {
        "id": "pbiE6u6xTP_S",
        "colab": {
          "base_uri": "https://localhost:8080/"
        },
        "outputId": "eac0ea62-1f8c-40cb-cc0a-981bf845e16b"
      },
      "execution_count": 6,
      "outputs": [
        {
          "output_type": "stream",
          "name": "stdout",
          "text": [
            "Collecting fastapi\n",
            "  Downloading fastapi-0.101.1-py3-none-any.whl (65 kB)\n",
            "\u001b[2K     \u001b[90m━━━━━━━━━━━━━━━━━━━━━━━━━━━━━━━━━━━━━━━━\u001b[0m \u001b[32m65.8/65.8 kB\u001b[0m \u001b[31m1.8 MB/s\u001b[0m eta \u001b[36m0:00:00\u001b[0m\n",
            "\u001b[?25hRequirement already satisfied: nest-asyncio in /usr/local/lib/python3.10/dist-packages (1.5.7)\n",
            "Collecting pyngrok\n",
            "  Downloading pyngrok-6.0.0.tar.gz (681 kB)\n",
            "\u001b[2K     \u001b[90m━━━━━━━━━━━━━━━━━━━━━━━━━━━━━━━━━━━━━━━\u001b[0m \u001b[32m681.2/681.2 kB\u001b[0m \u001b[31m7.2 MB/s\u001b[0m eta \u001b[36m0:00:00\u001b[0m\n",
            "\u001b[?25h  Preparing metadata (setup.py) ... \u001b[?25l\u001b[?25hdone\n",
            "Collecting uvicorn\n",
            "  Downloading uvicorn-0.23.2-py3-none-any.whl (59 kB)\n",
            "\u001b[2K     \u001b[90m━━━━━━━━━━━━━━━━━━━━━━━━━━━━━━━━━━━━━━━━\u001b[0m \u001b[32m59.5/59.5 kB\u001b[0m \u001b[31m7.1 MB/s\u001b[0m eta \u001b[36m0:00:00\u001b[0m\n",
            "\u001b[?25hRequirement already satisfied: pydantic!=1.8,!=1.8.1,!=2.0.0,!=2.0.1,!=2.1.0,<3.0.0,>=1.7.4 in /usr/local/lib/python3.10/dist-packages (from fastapi) (2.1.1)\n",
            "Collecting starlette<0.28.0,>=0.27.0 (from fastapi)\n",
            "  Downloading starlette-0.27.0-py3-none-any.whl (66 kB)\n",
            "\u001b[2K     \u001b[90m━━━━━━━━━━━━━━━━━━━━━━━━━━━━━━━━━━━━━━━━\u001b[0m \u001b[32m67.0/67.0 kB\u001b[0m \u001b[31m7.3 MB/s\u001b[0m eta \u001b[36m0:00:00\u001b[0m\n",
            "\u001b[?25hRequirement already satisfied: typing-extensions>=4.5.0 in /usr/local/lib/python3.10/dist-packages (from fastapi) (4.7.1)\n",
            "Requirement already satisfied: PyYAML in /usr/local/lib/python3.10/dist-packages (from pyngrok) (6.0.1)\n",
            "Requirement already satisfied: click>=7.0 in /usr/local/lib/python3.10/dist-packages (from uvicorn) (8.1.6)\n",
            "Collecting h11>=0.8 (from uvicorn)\n",
            "  Downloading h11-0.14.0-py3-none-any.whl (58 kB)\n",
            "\u001b[2K     \u001b[90m━━━━━━━━━━━━━━━━━━━━━━━━━━━━━━━━━━━━━━━━\u001b[0m \u001b[32m58.3/58.3 kB\u001b[0m \u001b[31m6.5 MB/s\u001b[0m eta \u001b[36m0:00:00\u001b[0m\n",
            "\u001b[?25hRequirement already satisfied: annotated-types>=0.4.0 in /usr/local/lib/python3.10/dist-packages (from pydantic!=1.8,!=1.8.1,!=2.0.0,!=2.0.1,!=2.1.0,<3.0.0,>=1.7.4->fastapi) (0.5.0)\n",
            "Requirement already satisfied: pydantic-core==2.4.0 in /usr/local/lib/python3.10/dist-packages (from pydantic!=1.8,!=1.8.1,!=2.0.0,!=2.0.1,!=2.1.0,<3.0.0,>=1.7.4->fastapi) (2.4.0)\n",
            "Requirement already satisfied: anyio<5,>=3.4.0 in /usr/local/lib/python3.10/dist-packages (from starlette<0.28.0,>=0.27.0->fastapi) (3.7.1)\n",
            "Requirement already satisfied: idna>=2.8 in /usr/local/lib/python3.10/dist-packages (from anyio<5,>=3.4.0->starlette<0.28.0,>=0.27.0->fastapi) (3.4)\n",
            "Requirement already satisfied: sniffio>=1.1 in /usr/local/lib/python3.10/dist-packages (from anyio<5,>=3.4.0->starlette<0.28.0,>=0.27.0->fastapi) (1.3.0)\n",
            "Requirement already satisfied: exceptiongroup in /usr/local/lib/python3.10/dist-packages (from anyio<5,>=3.4.0->starlette<0.28.0,>=0.27.0->fastapi) (1.1.3)\n",
            "Building wheels for collected packages: pyngrok\n",
            "  Building wheel for pyngrok (setup.py) ... \u001b[?25l\u001b[?25hdone\n",
            "  Created wheel for pyngrok: filename=pyngrok-6.0.0-py3-none-any.whl size=19867 sha256=bfc703fc259077a2c503446852024bb58aa9259bc6eff95d4e928ff1eb7ce979\n",
            "  Stored in directory: /root/.cache/pip/wheels/5c/42/78/0c3d438d7f5730451a25f7ac6cbf4391759d22a67576ed7c2c\n",
            "Successfully built pyngrok\n",
            "Installing collected packages: pyngrok, h11, uvicorn, starlette, fastapi\n",
            "Successfully installed fastapi-0.101.1 h11-0.14.0 pyngrok-6.0.0 starlette-0.27.0 uvicorn-0.23.2\n"
          ]
        }
      ]
    },
    {
      "cell_type": "markdown",
      "source": [
        "## Importar lo necesario de Fast API"
      ],
      "metadata": {
        "id": "4mRMhRhFTjn6"
      }
    },
    {
      "cell_type": "code",
      "source": [
        "from fastapi import FastAPI\n",
        "import uvicorn\n",
        "import nest_asyncio\n",
        "from pyngrok import ngrok\n",
        "\n",
        "from pydantic import BaseModel\n",
        "import base64\n",
        "import PIL\n",
        "from io import BytesIO\n",
        "\n",
        "import requests"
      ],
      "metadata": {
        "id": "FDsA4rGMTqFS"
      },
      "execution_count": 7,
      "outputs": []
    },
    {
      "cell_type": "markdown",
      "source": [
        "## Implementacion Fast API"
      ],
      "metadata": {
        "id": "xg49FgJ-Tti6"
      }
    },
    {
      "cell_type": "code",
      "source": [
        "def save_image(base_64_image, relative_save_path):\n",
        "  image_path = ROOT_DIR + relative_save_path + \"/Resultado.jpg\"\n",
        "  im = PIL.Image.open(BytesIO(base64.b64decode(base_64_image)))\n",
        "  im.save(ROOT_DIR + relative_save_path + \"/Resultado.jpg\")\n",
        "  return image_path\n"
      ],
      "metadata": {
        "id": "kMW8Mdm13aN2"
      },
      "execution_count": 8,
      "outputs": []
    },
    {
      "cell_type": "code",
      "source": [
        "def get_image_position_if_valid(model_prediction):\n",
        "  \"\"\"El parametro model_prediction es un ImagesDetectionPrediction que sale directamente del model.predict()\"\"\"\n",
        "  IMG_MEDIUM = 512/2\n",
        "\n",
        "  first_detection = model_prediction[0] #ImageDetectionPrediction\n",
        "  prediction = first_detection.prediction #DetectionPrediction\n",
        "\n",
        "  best = 0\n",
        "  position = -1\n",
        "  print(prediction.bboxes_xyxy.shape)\n",
        "  for i in range(prediction.bboxes_xyxy.shape[0]):\n",
        "    if prediction.confidence[i] > best:\n",
        "      best = prediction.confidence[i]\n",
        "      position = i\n",
        "\n",
        "  box = prediction.bboxes_xyxy[position]\n",
        "  medium_point = (box[0]+box[2])/2\n",
        "\n",
        "  if (True  or (medium_point < IMG_MEDIUM + 10 and medium_point > IMG_MEDIUM - 10)):\n",
        "    #string =Restnet.classify\n",
        "    return box\n",
        "  else:\n",
        "    return []\n"
      ],
      "metadata": {
        "id": "hM_8g5MbP6Uo"
      },
      "execution_count": 20,
      "outputs": []
    },
    {
      "cell_type": "markdown",
      "source": [
        "## Definir llamada al MicroBackend\n",
        "### El problema es que no se puede hacer una llamada al LocalHost desde Google Colab"
      ],
      "metadata": {
        "id": "YQLVFOf0RVF4"
      }
    },
    {
      "cell_type": "code",
      "source": [
        "def send_image_to_microbakend(url, json):\n",
        "  return requests.post(url, json)"
      ],
      "metadata": {
        "id": "HCnX3cVqRj8q"
      },
      "execution_count": null,
      "outputs": []
    },
    {
      "cell_type": "markdown",
      "source": [
        "## Definir Endpoints de FastAPI\n"
      ],
      "metadata": {
        "id": "8hNb2li3SCZH"
      }
    },
    {
      "cell_type": "code",
      "source": [
        "app = FastAPI()\n",
        "\n",
        "class Image(BaseModel):\n",
        "    base_64: str\n",
        "\n",
        "@app.get(\"/\")\n",
        "async def root():\n",
        "    return {\"message\": \"Hello World\"}\n",
        "\n",
        "@app.post(\"/image\")\n",
        "async def upload_image(image: Image):\n",
        "  base_64 = image.base_64\n",
        "  path = save_image(base_64, SAVE_PATH)\n",
        "\n",
        "  out = model.predict(path) #ImagesDetectionPrediction\n",
        "  box = get_image_position_if_valid(out)\n",
        "\n",
        "  if not box: #not y un array es preguntar si el array esta vacio\n",
        "    #No anda\n",
        "    MICROBACKEND_URL = 'http://localhost:3000/image'\n",
        "    json = {'base_64': base_64}\n",
        "\n",
        "    status_code = send_image_to_microbakend(MICROBACKEND_URL, json)\n",
        "\n",
        "    return { \"base_64\": base_64} #, \"yolo_output\": out }\n",
        "    #out.save( ROOT_DIR)\n",
        "\n",
        "\n"
      ],
      "metadata": {
        "id": "q0P_XU3TTx2K"
      },
      "execution_count": 19,
      "outputs": []
    },
    {
      "cell_type": "markdown",
      "source": [
        "## Ejecutar y Exponer la Aplicacion - Ngrok\n",
        "### Ver URLs en los Logs"
      ],
      "metadata": {
        "id": "sU6k1YlWUXri"
      }
    },
    {
      "cell_type": "code",
      "source": [
        "ngrok_tunnel = ngrok.connect(8000)\n",
        "print('Public URL:', ngrok_tunnel.public_url)\n",
        "nest_asyncio.apply()\n",
        "uvicorn.run(app, port=8000)"
      ],
      "metadata": {
        "colab": {
          "base_uri": "https://localhost:8080/"
        },
        "id": "8t2futRRU4La",
        "outputId": "6ccc687a-ab54-496e-ec02-f3b6872b1651"
      },
      "execution_count": 18,
      "outputs": [
        {
          "output_type": "stream",
          "name": "stderr",
          "text": [
            "[2023-08-19 23:47:16] INFO - ngrok.py - Opening tunnel named: http-8000-ef547353-e6d4-4c23-9153-26f4a72b2e3a\n",
            "[2023-08-19 23:47:16] INFO - process.py - t=2023-08-19T23:47:16+0000 lvl=info msg=\"no configuration paths supplied\"\n",
            "[2023-08-19 23:47:16] WARNING - process.py - t=2023-08-19T23:47:16+0000 lvl=warn msg=\"ngrok config file found at legacy location, move to XDG location\" xdg_path=/root/.config/ngrok/ngrok.yml legacy_path=/root/.ngrok2/ngrok.yml\n",
            "[2023-08-19 23:47:16] INFO - process.py - t=2023-08-19T23:47:16+0000 lvl=info msg=\"using configuration at default config path\" path=/root/.ngrok2/ngrok.yml\n",
            "[2023-08-19 23:47:16] INFO - process.py - t=2023-08-19T23:47:16+0000 lvl=info msg=\"open config file\" path=/root/.ngrok2/ngrok.yml err=nil\n",
            "[2023-08-19 23:47:16] INFO - process.py - t=2023-08-19T23:47:16+0000 lvl=info msg=\"starting web service\" obj=web addr=127.0.0.1:4040 allow_hosts=[]\n",
            "[2023-08-19 23:47:16] INFO - process.py - t=2023-08-19T23:47:16+0000 lvl=info msg=\"client session established\" obj=tunnels.session obj=csess id=a2c3444a45dc\n",
            "[2023-08-19 23:47:16] INFO - process.py - t=2023-08-19T23:47:16+0000 lvl=info msg=\"tunnel session started\" obj=tunnels.session\n",
            "[2023-08-19 23:47:16] INFO - process.py - t=2023-08-19T23:47:16+0000 lvl=info msg=start pg=/api/tunnels id=af4e13a24eee6e5e\n",
            "[2023-08-19 23:47:16] INFO - process.py - t=2023-08-19T23:47:16+0000 lvl=info msg=end pg=/api/tunnels id=af4e13a24eee6e5e status=200 dur=287.854µs\n",
            "[2023-08-19 23:47:16] INFO - process.py - t=2023-08-19T23:47:16+0000 lvl=info msg=start pg=/api/tunnels id=054f12cb6633ba7b\n",
            "[2023-08-19 23:47:16] INFO - process.py - t=2023-08-19T23:47:16+0000 lvl=info msg=end pg=/api/tunnels id=054f12cb6633ba7b status=200 dur=216.402µs\n",
            "[2023-08-19 23:47:16] INFO - process.py - t=2023-08-19T23:47:16+0000 lvl=info msg=start pg=/api/tunnels id=d7a03eaf2d326a1b\n",
            "INFO:     Started server process [4456]\n",
            "INFO:     Waiting for application startup.\n",
            "INFO:     Application startup complete.\n",
            "INFO:     Uvicorn running on http://127.0.0.1:8000 (Press CTRL+C to quit)\n",
            "[2023-08-19 23:47:16] INFO - process.py - t=2023-08-19T23:47:16+0000 lvl=info msg=\"started tunnel\" obj=tunnels name=http-8000-ef547353-e6d4-4c23-9153-26f4a72b2e3a addr=http://localhost:8000 url=https://002c-35-224-86-12.ngrok.io\n",
            "[2023-08-19 23:47:16] INFO - process.py - t=2023-08-19T23:47:16+0000 lvl=info msg=end pg=/api/tunnels id=d7a03eaf2d326a1b status=201 dur=34.546871ms\n"
          ]
        },
        {
          "output_type": "stream",
          "name": "stdout",
          "text": [
            "Public URL: https://002c-35-224-86-12.ngrok.io\n"
          ]
        },
        {
          "output_type": "stream",
          "name": "stderr",
          "text": [
            "[2023-08-19 23:47:20] INFO - process.py - t=2023-08-19T23:47:20+0000 lvl=info msg=\"join connections\" obj=join id=387b68b90884 l=127.0.0.1:8000 r=186.57.49.176:63725\n"
          ]
        },
        {
          "output_type": "stream",
          "name": "stdout",
          "text": [
            "INFO:     186.57.49.176:0 - \"GET / HTTP/1.1\" 200 OK\n",
            "INFO:     186.57.49.176:0 - \"GET /favicon.ico HTTP/1.1\" 404 Not Found\n"
          ]
        },
        {
          "output_type": "stream",
          "name": "stderr",
          "text": [
            "[2023-08-19 23:47:32] INFO - process.py - t=2023-08-19T23:47:32+0000 lvl=info msg=\"join connections\" obj=join id=fd85a8c29f41 l=127.0.0.1:8000 r=186.57.49.176:63736\n",
            "[2023-08-19 23:47:32] INFO - pipelines.py - Fusing some of the model's layers. If this takes too much memory, you can deactivate it by setting `fuse_model=False`\n"
          ]
        },
        {
          "output_type": "stream",
          "name": "stdout",
          "text": [
            "base_64=',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'\n",
            "/content/drive/MyDrive/yolo_data/saved_images_temp/Resultado.jpg\n",
            "DetectionPrediction(bboxes_xyxy=array([[ 42.850002,  57.15    , 204.7     , 206.40001 ],\n",
            "       [  0.      , 125.9     , 130.6     , 256.2     ]], dtype=float32), confidence=array([0.931 , 0.5884], dtype=float16), labels=array([0., 0.], dtype=float16))\n",
            "(2, 4)\n",
            "0.931\n",
            "[ 42.850002  57.15     204.7      206.40001 ]\n"
          ]
        },
        {
          "output_type": "stream",
          "name": "stderr",
          "text": [
            "ERROR:    Exception in ASGI application\n",
            "Traceback (most recent call last):\n",
            "  File \"/usr/local/lib/python3.10/dist-packages/urllib3/connection.py\", line 174, in _new_conn\n",
            "    conn = connection.create_connection(\n",
            "  File \"/usr/local/lib/python3.10/dist-packages/urllib3/util/connection.py\", line 95, in create_connection\n",
            "    raise err\n",
            "  File \"/usr/local/lib/python3.10/dist-packages/urllib3/util/connection.py\", line 85, in create_connection\n",
            "    sock.connect(sa)\n",
            "ConnectionRefusedError: [Errno 111] Connection refused\n",
            "\n",
            "During handling of the above exception, another exception occurred:\n",
            "\n",
            "Traceback (most recent call last):\n",
            "  File \"/usr/local/lib/python3.10/dist-packages/urllib3/connectionpool.py\", line 714, in urlopen\n",
            "    httplib_response = self._make_request(\n",
            "  File \"/usr/local/lib/python3.10/dist-packages/urllib3/connectionpool.py\", line 415, in _make_request\n",
            "    conn.request(method, url, **httplib_request_kw)\n",
            "  File \"/usr/local/lib/python3.10/dist-packages/urllib3/connection.py\", line 244, in request\n",
            "    super(HTTPConnection, self).request(method, url, body=body, headers=headers)\n",
            "  File \"/usr/lib/python3.10/http/client.py\", line 1283, in request\n",
            "    self._send_request(method, url, body, headers, encode_chunked)\n",
            "  File \"/usr/lib/python3.10/http/client.py\", line 1329, in _send_request\n",
            "    self.endheaders(body, encode_chunked=encode_chunked)\n",
            "  File \"/usr/lib/python3.10/http/client.py\", line 1278, in endheaders\n",
            "    self._send_output(message_body, encode_chunked=encode_chunked)\n",
            "  File \"/usr/lib/python3.10/http/client.py\", line 1038, in _send_output\n",
            "    self.send(msg)\n",
            "  File \"/usr/lib/python3.10/http/client.py\", line 976, in send\n",
            "    self.connect()\n",
            "  File \"/usr/local/lib/python3.10/dist-packages/urllib3/connection.py\", line 205, in connect\n",
            "    conn = self._new_conn()\n",
            "  File \"/usr/local/lib/python3.10/dist-packages/urllib3/connection.py\", line 186, in _new_conn\n",
            "    raise NewConnectionError(\n",
            "urllib3.exceptions.NewConnectionError: <urllib3.connection.HTTPConnection object at 0x7fbd25719b40>: Failed to establish a new connection: [Errno 111] Connection refused\n",
            "\n",
            "During handling of the above exception, another exception occurred:\n",
            "\n",
            "Traceback (most recent call last):\n",
            "  File \"/usr/local/lib/python3.10/dist-packages/requests/adapters.py\", line 486, in send\n",
            "    resp = conn.urlopen(\n",
            "  File \"/usr/local/lib/python3.10/dist-packages/urllib3/connectionpool.py\", line 798, in urlopen\n",
            "    retries = retries.increment(\n",
            "  File \"/usr/local/lib/python3.10/dist-packages/urllib3/util/retry.py\", line 592, in increment\n",
            "    raise MaxRetryError(_pool, url, error or ResponseError(cause))\n",
            "urllib3.exceptions.MaxRetryError: HTTPConnectionPool(host='127.0.0.1', port=3000): Max retries exceeded with url: /image (Caused by NewConnectionError('<urllib3.connection.HTTPConnection object at 0x7fbd25719b40>: Failed to establish a new connection: [Errno 111] Connection refused'))\n",
            "\n",
            "During handling of the above exception, another exception occurred:\n",
            "\n",
            "Traceback (most recent call last):\n",
            "  File \"/usr/local/lib/python3.10/dist-packages/uvicorn/protocols/http/h11_impl.py\", line 408, in run_asgi\n",
            "    result = await app(  # type: ignore[func-returns-value]\n",
            "  File \"/usr/local/lib/python3.10/dist-packages/uvicorn/middleware/proxy_headers.py\", line 84, in __call__\n",
            "    return await self.app(scope, receive, send)\n",
            "  File \"/usr/local/lib/python3.10/dist-packages/fastapi/applications.py\", line 289, in __call__\n",
            "    await super().__call__(scope, receive, send)\n",
            "  File \"/usr/local/lib/python3.10/dist-packages/starlette/applications.py\", line 122, in __call__\n",
            "    await self.middleware_stack(scope, receive, send)\n",
            "  File \"/usr/local/lib/python3.10/dist-packages/starlette/middleware/errors.py\", line 184, in __call__\n",
            "    raise exc\n",
            "  File \"/usr/local/lib/python3.10/dist-packages/starlette/middleware/errors.py\", line 162, in __call__\n",
            "    await self.app(scope, receive, _send)\n",
            "  File \"/usr/local/lib/python3.10/dist-packages/starlette/middleware/exceptions.py\", line 79, in __call__\n",
            "    raise exc\n",
            "  File \"/usr/local/lib/python3.10/dist-packages/starlette/middleware/exceptions.py\", line 68, in __call__\n",
            "    await self.app(scope, receive, sender)\n",
            "  File \"/usr/local/lib/python3.10/dist-packages/fastapi/middleware/asyncexitstack.py\", line 20, in __call__\n",
            "    raise e\n",
            "  File \"/usr/local/lib/python3.10/dist-packages/fastapi/middleware/asyncexitstack.py\", line 17, in __call__\n",
            "    await self.app(scope, receive, send)\n",
            "  File \"/usr/local/lib/python3.10/dist-packages/starlette/routing.py\", line 718, in __call__\n",
            "    await route.handle(scope, receive, send)\n",
            "  File \"/usr/local/lib/python3.10/dist-packages/starlette/routing.py\", line 276, in handle\n",
            "    await self.app(scope, receive, send)\n",
            "  File \"/usr/local/lib/python3.10/dist-packages/starlette/routing.py\", line 66, in app\n",
            "    response = await func(request)\n",
            "  File \"/usr/local/lib/python3.10/dist-packages/fastapi/routing.py\", line 273, in app\n",
            "    raw_response = await run_endpoint_function(\n",
            "  File \"/usr/local/lib/python3.10/dist-packages/fastapi/routing.py\", line 190, in run_endpoint_function\n",
            "    return await dependant.call(**values)\n",
            "  File \"<ipython-input-17-2a2c107ab24a>\", line 42, in upload_image\n",
            "    x =requests.post(MICROBACKEND_URL, json= { \"base_64\": base_64 })\n",
            "  File \"/usr/local/lib/python3.10/dist-packages/requests/api.py\", line 115, in post\n",
            "    return request(\"post\", url, data=data, json=json, **kwargs)\n",
            "  File \"/usr/local/lib/python3.10/dist-packages/requests/api.py\", line 59, in request\n",
            "    return session.request(method=method, url=url, **kwargs)\n",
            "  File \"/usr/local/lib/python3.10/dist-packages/requests/sessions.py\", line 589, in request\n",
            "    resp = self.send(prep, **send_kwargs)\n",
            "  File \"/usr/local/lib/python3.10/dist-packages/requests/sessions.py\", line 703, in send\n",
            "    r = adapter.send(request, **kwargs)\n",
            "  File \"/usr/local/lib/python3.10/dist-packages/requests/adapters.py\", line 519, in send\n",
            "    raise ConnectionError(e, request=request)\n",
            "requests.exceptions.ConnectionError: HTTPConnectionPool(host='127.0.0.1', port=3000): Max retries exceeded with url: /image (Caused by NewConnectionError('<urllib3.connection.HTTPConnection object at 0x7fbd25719b40>: Failed to establish a new connection: [Errno 111] Connection refused'))\n"
          ]
        },
        {
          "output_type": "stream",
          "name": "stdout",
          "text": [
            "INFO:     186.57.49.176:0 - \"POST /image HTTP/1.1\" 500 Internal Server Error\n"
          ]
        },
        {
          "output_type": "stream",
          "name": "stderr",
          "text": [
            "[2023-08-19 23:47:37] INFO - process.py - t=2023-08-19T23:47:37+0000 lvl=info msg=\"received stop request\" obj=app stopReq=\"{err:<nil> restart:false}\"\n",
            "[2023-08-19 23:47:37] INFO - process.py - t=2023-08-19T23:47:37+0000 lvl=info msg=\"session closing\" obj=tunnels.session err=nil\n",
            "INFO:     Shutting down\n",
            "INFO:     Waiting for application shutdown.\n",
            "INFO:     Application shutdown complete.\n",
            "INFO:     Finished server process [4456]\n"
          ]
        }
      ]
    },
    {
      "cell_type": "markdown",
      "source": [
        "## Prueba del Save y del Path - Test de que funciona"
      ],
      "metadata": {
        "id": "ZsFjKmvfwzjR"
      }
    },
    {
      "cell_type": "code",
      "source": [
        "BASE_64 = \",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\""
      ],
      "metadata": {
        "id": "zln2MjNMueYc"
      },
      "execution_count": 11,
      "outputs": []
    },
    {
      "cell_type": "code",
      "source": [
        "im = Image.open(BytesIO(base64.b64decode(BASE_64)))\n",
        "im.save(ROOT_DIR + SAVE_PATH + \"/Resultado.jpg\")\n",
        "print(ROOT_DIR + SAVE_PATH + \"/Resultado.jpg\")"
      ],
      "metadata": {
        "id": "LT-MVN40upF8",
        "colab": {
          "base_uri": "https://localhost:8080/",
          "height": 401
        },
        "outputId": "631a4b21-0a62-4907-8c8d-13d93772d451"
      },
      "execution_count": 12,
      "outputs": [
        {
          "output_type": "stream",
          "name": "stderr",
          "text": [
            "INFO:     Shutting down\n",
            "INFO:     Waiting for application shutdown.\n",
            "INFO:     Application shutdown complete.\n",
            "INFO:     Finished server process [4456]\n"
          ]
        },
        {
          "output_type": "error",
          "ename": "AttributeError",
          "evalue": "ignored",
          "traceback": [
            "\u001b[0;31m---------------------------------------------------------------------------\u001b[0m",
            "\u001b[0;31mAttributeError\u001b[0m                            Traceback (most recent call last)",
            "\u001b[0;32m<ipython-input-12-ac10df3e92ea>\u001b[0m in \u001b[0;36m<cell line: 1>\u001b[0;34m()\u001b[0m\n\u001b[0;32m----> 1\u001b[0;31m \u001b[0mim\u001b[0m \u001b[0;34m=\u001b[0m \u001b[0mImage\u001b[0m\u001b[0;34m.\u001b[0m\u001b[0mopen\u001b[0m\u001b[0;34m(\u001b[0m\u001b[0mBytesIO\u001b[0m\u001b[0;34m(\u001b[0m\u001b[0mbase64\u001b[0m\u001b[0;34m.\u001b[0m\u001b[0mb64decode\u001b[0m\u001b[0;34m(\u001b[0m\u001b[0mBASE_64\u001b[0m\u001b[0;34m)\u001b[0m\u001b[0;34m)\u001b[0m\u001b[0;34m)\u001b[0m\u001b[0;34m\u001b[0m\u001b[0;34m\u001b[0m\u001b[0m\n\u001b[0m\u001b[1;32m      2\u001b[0m \u001b[0mim\u001b[0m\u001b[0;34m.\u001b[0m\u001b[0msave\u001b[0m\u001b[0;34m(\u001b[0m\u001b[0mROOT_DIR\u001b[0m \u001b[0;34m+\u001b[0m \u001b[0mSAVE_PATH\u001b[0m \u001b[0;34m+\u001b[0m \u001b[0;34m\"/Resultado.jpg\"\u001b[0m\u001b[0;34m)\u001b[0m\u001b[0;34m\u001b[0m\u001b[0;34m\u001b[0m\u001b[0m\n\u001b[1;32m      3\u001b[0m \u001b[0mprint\u001b[0m\u001b[0;34m(\u001b[0m\u001b[0mROOT_DIR\u001b[0m \u001b[0;34m+\u001b[0m \u001b[0mSAVE_PATH\u001b[0m \u001b[0;34m+\u001b[0m \u001b[0;34m\"/Resultado.jpg\"\u001b[0m\u001b[0;34m)\u001b[0m\u001b[0;34m\u001b[0m\u001b[0;34m\u001b[0m\u001b[0m\n",
            "\u001b[0;32m/usr/local/lib/python3.10/dist-packages/pydantic/_internal/_model_construction.py\u001b[0m in \u001b[0;36m__getattr__\u001b[0;34m(self, item)\u001b[0m\n\u001b[1;32m    203\u001b[0m                         \u001b[0;31m# In this case, a validator was built, and so `__pydantic_core_schema__` should now be set\u001b[0m\u001b[0;34m\u001b[0m\u001b[0;34m\u001b[0m\u001b[0m\n\u001b[1;32m    204\u001b[0m                         \u001b[0;32mreturn\u001b[0m \u001b[0mgetattr\u001b[0m\u001b[0;34m(\u001b[0m\u001b[0mself\u001b[0m\u001b[0;34m,\u001b[0m \u001b[0;34m'__pydantic_core_schema__'\u001b[0m\u001b[0;34m)\u001b[0m\u001b[0;34m\u001b[0m\u001b[0;34m\u001b[0m\u001b[0m\n\u001b[0;32m--> 205\u001b[0;31m             \u001b[0;32mraise\u001b[0m \u001b[0mAttributeError\u001b[0m\u001b[0;34m(\u001b[0m\u001b[0mitem\u001b[0m\u001b[0;34m)\u001b[0m\u001b[0;34m\u001b[0m\u001b[0;34m\u001b[0m\u001b[0m\n\u001b[0m\u001b[1;32m    206\u001b[0m \u001b[0;34m\u001b[0m\u001b[0m\n\u001b[1;32m    207\u001b[0m     \u001b[0;34m@\u001b[0m\u001b[0mclassmethod\u001b[0m\u001b[0;34m\u001b[0m\u001b[0;34m\u001b[0m\u001b[0m\n",
            "\u001b[0;31mAttributeError\u001b[0m: open"
          ]
        }
      ]
    },
    {
      "cell_type": "code",
      "source": [
        "path = ROOT_DIR + SAVE_PATH + \"/Resultado.jpg\"\n",
        "print(path)\n",
        "out = model.predict(path)\n",
        "print(out)"
      ],
      "metadata": {
        "id": "FFKjeQYsg5Lj"
      },
      "execution_count": null,
      "outputs": []
    },
    {
      "cell_type": "markdown",
      "source": [
        "# Prueba con Webcam"
      ],
      "metadata": {
        "id": "VtkEZs4BRzay"
      }
    },
    {
      "cell_type": "code",
      "source": [
        "results = model.predict_webcam()\n",
        "print(results)"
      ],
      "metadata": {
        "id": "kQhpl7zQCajr"
      },
      "execution_count": null,
      "outputs": []
    },
    {
      "cell_type": "markdown",
      "source": [
        "## Otros Intentos"
      ],
      "metadata": {
        "id": "Pu22GlgQR4xJ"
      }
    },
    {
      "cell_type": "code",
      "source": [
        "!pip install pyvirtualdisplay\n",
        "!pip install opencv-python"
      ],
      "metadata": {
        "id": "x8qWZFrFyl30"
      },
      "execution_count": null,
      "outputs": []
    },
    {
      "cell_type": "code",
      "source": [
        "from IPython.display import display\n",
        "from pyvirtualdisplay import Display\n",
        "\n",
        "from ipywebrtc import CameraStream\n",
        "from PIL import Image\n",
        "import CameraStream, ImageRecorder"
      ],
      "metadata": {
        "id": "_8dSaSeTSnUD"
      },
      "execution_count": null,
      "outputs": []
    },
    {
      "cell_type": "code",
      "source": [
        "display = Display(visible=0, size=(400, 300))\n",
        "display.start()"
      ],
      "metadata": {
        "id": "BG7hhHXCyu5s"
      },
      "execution_count": null,
      "outputs": []
    },
    {
      "cell_type": "code",
      "source": [
        "cap = cv2.VideoCapture(0)\n",
        "while True:\n",
        "  if frame is not None and not frame.empty():\n",
        "    ret, frame = cap.read()\n",
        "    bgr_frame = cv2.cvtColor(frame, cv2.COLOR_RGB2BGR)  # Assuming frame is in RGB color space\n",
        "    cv2.imshow('Frame', bgr_frame)\n",
        "    #cv2.imshow(frame)\n",
        "  else:\n",
        "    print(\"Empty frame! Check webcam access or frame capturing.\")\n",
        "\n",
        "cap.release()\n",
        "cv2.destroyAllWindows()"
      ],
      "metadata": {
        "id": "vw3BFqbdruiT"
      },
      "execution_count": null,
      "outputs": []
    },
    {
      "cell_type": "code",
      "source": [
        "cap = cv2.VideoCapture(0) # says we capture an image from a webcam\n",
        "if not cap.isOpened():\n",
        "    print(\"Error: Unable to access the webcam.\")\n",
        "ret, frame = cap.read()\n",
        "\n",
        "if not ret:\n",
        "  frame_rgb = cv2.cvtColor(frame, cv2.COLOR_BGR2RGB)\n",
        "\n",
        "\n",
        "pil_im = Image.fromarray(cv2_im)\n",
        "pil_im.show()"
      ],
      "metadata": {
        "id": "mYb7fJghs9OM"
      },
      "execution_count": null,
      "outputs": []
    },
    {
      "cell_type": "code",
      "source": [
        "cam_stream = CameraStream(constraints={'facing_mode': 'user'}, video=True, audio=False)\n"
      ],
      "metadata": {
        "id": "hrB1Rc2ZwoEc"
      },
      "execution_count": null,
      "outputs": []
    }
  ]
}